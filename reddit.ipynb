{
 "cells": [
  {
   "cell_type": "code",
   "execution_count": 108,
   "metadata": {},
   "outputs": [],
   "source": [
    "import praw\n",
    "from tqdm.notebook import tqdm\n",
    "import pandas as pd\n"
   ]
  },
  {
   "cell_type": "code",
   "execution_count": 110,
   "metadata": {},
   "outputs": [],
   "source": [
    "reddit = praw.Reddit(\n",
    "    client_id=\"FJCWHqqFha1h5vACWgVmug\",\n",
    "    client_secret=\"98GIRBomHZ6bDlJqtpVLXJlmnPu8wA\",\n",
    "    user_agent=\"crypto analyser by u/piercestt\",\n",
    "    username=\"piercestt\",\n",
    "    password=\"Kajade_56\",\n",
    ")\n",
    "\n"
   ]
  },
  {
   "cell_type": "code",
   "execution_count": 123,
   "metadata": {},
   "outputs": [],
   "source": [
    "from datetime import datetime, timedelta\n",
    "end_date = datetime.utcnow()  # Current time\n",
    "start_date = end_date - timedelta(weeks=1)  # One week ago\n"
   ]
  },
  {
   "cell_type": "code",
   "execution_count": 114,
   "metadata": {},
   "outputs": [
    {
     "name": "stdout",
     "output_type": "stream",
     "text": [
      "Name: XRP\tSubscribers: 337206\n",
      "Name: XRP_Chat\tSubscribers: 3307\n",
      "Name: XRP_NEWS\tSubscribers: 59\n",
      "Name: Ripple\tSubscribers: 357564\n",
      "Name: CryptoCurrency\tSubscribers: 6630470\n",
      "Name: XRP_Community_News\tSubscribers: 585\n",
      "Name: XRPTalk\tSubscribers: 6308\n",
      "Name: SatoshiStreetBets\tSubscribers: 731826\n",
      "Name: CryptoMarkets\tSubscribers: 1507075\n",
      "Name: RippleTalk\tSubscribers: 13144\n"
     ]
    }
   ],
   "source": [
    "top_xrp_subs = [x for x in reddit.subreddits.search('xrp')][:10]\n",
    "for s in top_xrp_subs:\n",
    "    print(f\"Name: {s.display_name}\\tSubscribers: {s.subscribers}\")"
   ]
  },
  {
   "cell_type": "code",
   "execution_count": 124,
   "metadata": {},
   "outputs": [],
   "source": [
    "post_dict = {}\n",
    "\n",
    "\n",
    "for sr in top_xrp_subs:\n",
    "    curr_posts_data = []  # List to store (post_title, post_likes) pairs\n",
    "    curr_sr_posts = sr.top(time_filter='week', limit=100)  # Fetch top posts from the past week\n",
    "    for post in curr_sr_posts:\n",
    "        post_date = pd.to_datetime(post.created_utc, unit='s')\n",
    "        \n",
    "        # Check if the post date is within the past week\n",
    "        if start_date <= post_date <= end_date:\n",
    "            post_title = post.title\n",
    "            post_likes = post.ups\n",
    "            curr_posts_data.append((post_title, post_likes))  # Store as tuple (post_title, post_likes)\n",
    "    post_dict[sr.display_name] = curr_posts_data\n"
   ]
  },
  {
   "cell_type": "code",
   "execution_count": 131,
   "metadata": {},
   "outputs": [],
   "source": [
    "subreddits = []\n",
    "post_titles = []\n",
    "post_likes = []\n",
    "dates = []\n"
   ]
  },
  {
   "cell_type": "code",
   "execution_count": 132,
   "metadata": {},
   "outputs": [],
   "source": [
    "for subreddit, posts_data in post_dict.items():\n",
    "    for post_title, num_likes in posts_data:\n",
    "        # Append the data to the lists\n",
    "        subreddits.append(subreddit)\n",
    "        post_titles.append(post_title)\n",
    "        post_likes.append(num_likes)\n",
    "        dates.append(post_date)\n"
   ]
  },
  {
   "cell_type": "code",
   "execution_count": 133,
   "metadata": {},
   "outputs": [],
   "source": [
    "data = {\n",
    "    'Subreddit': subreddits,\n",
    "    'Post Title': post_titles,\n",
    "    'Likes': post_likes,\n",
    "    'Date': dates,\n",
    "\n",
    "}"
   ]
  },
  {
   "cell_type": "code",
   "execution_count": 134,
   "metadata": {},
   "outputs": [],
   "source": [
    "df = pd.DataFrame(data)\n"
   ]
  },
  {
   "cell_type": "code",
   "execution_count": 137,
   "metadata": {},
   "outputs": [],
   "source": [
    "df.sort_values(by='Date', ascending=False, inplace=True)\n"
   ]
  },
  {
   "cell_type": "code",
   "execution_count": 138,
   "metadata": {},
   "outputs": [
    {
     "name": "stdout",
     "output_type": "stream",
     "text": [
      "          Subreddit                                         Post Title  Likes  \\\n",
      "71   CryptoCurrency  Only in crypto, a hacker steals 2800 eth ($5.5...   2032   \n",
      "264   CryptoMarkets    Binance Japan Commences User Onboarding Process      2   \n",
      "252   CryptoMarkets  New York Attorney General Launches Probe into ...      2   \n",
      "251   CryptoMarkets  Trader Who Accurately Called End of 2021 Bull ...      2   \n",
      "268   CryptoMarkets  Coinbase’s Base had 24 hours of meme coin fren...      2   \n",
      "..              ...                                                ...    ...   \n",
      "205   CryptoMarkets  Global geofencing market to reach $50 billion ...     69   \n",
      "203   CryptoMarkets  Exploring the Intersection of Blockchain and M...     70   \n",
      "204   CryptoMarkets  Fleek Network Unveils New Whitepaper: A Major ...     71   \n",
      "202   CryptoMarkets  SEC's Strong-Arm Demand To Coinbase: A Potenti...     73   \n",
      "70           Ripple  08/06/23 [Join XRPLounge Discord] - discord.co...      0   \n",
      "\n",
      "                   Date  \n",
      "71  2023-07-31 17:35:45  \n",
      "264 2023-07-31 17:35:45  \n",
      "252 2023-07-31 17:35:45  \n",
      "251 2023-07-31 17:35:45  \n",
      "268 2023-07-31 17:35:45  \n",
      "..                  ...  \n",
      "205 2023-07-31 17:35:45  \n",
      "203 2023-07-31 17:35:45  \n",
      "204 2023-07-31 17:35:45  \n",
      "202 2023-07-31 17:35:45  \n",
      "70  2023-07-31 17:35:45  \n",
      "\n",
      "[337 rows x 4 columns]\n"
     ]
    }
   ],
   "source": [
    "print(df)\n"
   ]
  }
 ],
 "metadata": {
  "kernelspec": {
   "display_name": "Python 3",
   "language": "python",
   "name": "python3"
  },
  "language_info": {
   "codemirror_mode": {
    "name": "ipython",
    "version": 3
   },
   "file_extension": ".py",
   "mimetype": "text/x-python",
   "name": "python",
   "nbconvert_exporter": "python",
   "pygments_lexer": "ipython3",
   "version": "3.10.0"
  },
  "orig_nbformat": 4
 },
 "nbformat": 4,
 "nbformat_minor": 2
}
