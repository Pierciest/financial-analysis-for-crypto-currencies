{
 "cells": [
  {
   "cell_type": "code",
   "execution_count": 22,
   "metadata": {},
   "outputs": [],
   "source": [
    "import praw\n",
    "from tqdm.notebook import tqdm\n",
    "import pandas as pd\n"
   ]
  },
  {
   "cell_type": "code",
   "execution_count": 23,
   "metadata": {},
   "outputs": [],
   "source": [
    "reddit = praw.Reddit(\n",
    "    client_id=\"FJCWHqqFha1h5vACWgVmug\",\n",
    "    client_secret=\"98GIRBomHZ6bDlJqtpVLXJlmnPu8wA\",\n",
    "    user_agent=\"crypto analyser by u/piercestt\",\n",
    "    username=\"piercestt\",\n",
    "    password=\"Kajade_56\",\n",
    ")\n",
    "\n"
   ]
  },
  {
   "cell_type": "code",
   "execution_count": 24,
   "metadata": {},
   "outputs": [
    {
     "name": "stdout",
     "output_type": "stream",
     "text": [
      "Name: XRP\tSubscribers: 337203\n",
      "Name: XRP_Chat\tSubscribers: 3307\n",
      "Name: XRP_NEWS\tSubscribers: 59\n",
      "Name: Ripple\tSubscribers: 357564\n",
      "Name: CryptoCurrency\tSubscribers: 6630429\n",
      "Name: XRP_Community_News\tSubscribers: 585\n",
      "Name: XRPTalk\tSubscribers: 6308\n",
      "Name: SatoshiStreetBets\tSubscribers: 731827\n",
      "Name: CryptoMarkets\tSubscribers: 1507064\n",
      "Name: RippleTalk\tSubscribers: 13144\n"
     ]
    }
   ],
   "source": [
    "top_xrp_subs = [x for x in reddit.subreddits.search('xrp')][:10]\n",
    "for s in top_xrp_subs:\n",
    "    print(f\"Name: {s.display_name}\\tSubscribers: {s.subscribers}\")"
   ]
  },
  {
   "cell_type": "code",
   "execution_count": 33,
   "metadata": {},
   "outputs": [],
   "source": [
    "comment_dict = {}\n",
    "\n",
    "for sr in top_xrp_subs:\n",
    "    curr_comments_data = []  # List to store (comment_text, likes) pairs\n",
    "    curr_sr_comments = sr.comments(limit=10)\n",
    "    for comment in curr_sr_comments:\n",
    "        comment_text = comment.body\n",
    "        num_likes = comment.ups\n",
    "        curr_comments_data.append((comment_text, num_likes))  # Store as tuple (comment_text, likes)\n",
    "    comment_dict[sr.display_name] = curr_comments_data"
   ]
  },
  {
   "cell_type": "code",
   "execution_count": 40,
   "metadata": {},
   "outputs": [],
   "source": [
    "usernames = []\n",
    "comments = []\n",
    "likes = []\n",
    "karma = []\n",
    "dates = []\n",
    "subreddits = []\n"
   ]
  },
  {
   "cell_type": "code",
   "execution_count": 41,
   "metadata": {},
   "outputs": [],
   "source": [
    "for subreddit, comments_data in comment_dict.items():\n",
    "    for comment_text, num_likes in comments_data:\n",
    "        # Access the username and date of the comment using the comment object\n",
    "        username = comment.author.name if comment.author else \"[deleted]\"\n",
    "        date = pd.to_datetime(comment.created_utc, unit='s')\n",
    "\n",
    "        # Get the karma of the user\n",
    "        user_karma = comment.author.link_karma if comment.author else None\n",
    "\n",
    "        # Append the data to the lists\n",
    "        subreddits.append(subreddit)\n",
    "        usernames.append(username)\n",
    "        comments.append(comment_text)\n",
    "        likes.append(num_likes)\n",
    "        karma.append(user_karma)\n",
    "        dates.append(date)"
   ]
  },
  {
   "cell_type": "code",
   "execution_count": 42,
   "metadata": {},
   "outputs": [],
   "source": [
    "data = {\n",
    "    'Subreddit': subreddits,\n",
    "    'Username': usernames,\n",
    "    'Comment': comments,\n",
    "    'Likes': likes,\n",
    "    'Karma': karma,\n",
    "    'Date': dates\n",
    "}"
   ]
  },
  {
   "cell_type": "code",
   "execution_count": 43,
   "metadata": {},
   "outputs": [],
   "source": [
    "df = pd.DataFrame(data)\n"
   ]
  },
  {
   "cell_type": "code",
   "execution_count": 44,
   "metadata": {},
   "outputs": [],
   "source": [
    "df.sort_values(by='Date', ascending=False, inplace=True)\n"
   ]
  },
  {
   "cell_type": "code",
   "execution_count": 46,
   "metadata": {},
   "outputs": [
    {
     "name": "stdout",
     "output_type": "stream",
     "text": [
      "            Subreddit              Username  \\\n",
      "0                 XRP  Emergency-Swimmer290   \n",
      "1                 XRP  Emergency-Swimmer290   \n",
      "64  SatoshiStreetBets  Emergency-Swimmer290   \n",
      "63  SatoshiStreetBets  Emergency-Swimmer290   \n",
      "62  SatoshiStreetBets  Emergency-Swimmer290   \n",
      "..                ...                   ...   \n",
      "27             Ripple  Emergency-Swimmer290   \n",
      "26             Ripple  Emergency-Swimmer290   \n",
      "25             Ripple  Emergency-Swimmer290   \n",
      "24             Ripple  Emergency-Swimmer290   \n",
      "87         RippleTalk  Emergency-Swimmer290   \n",
      "\n",
      "                                              Comment  Likes  Karma  \\\n",
      "0   Not yet but I believe they can only sell btc b...      1      1   \n",
      "1   The purpose of your life is to get a Lambo! In...      2      1   \n",
      "64  No longer buying, bro. The bear have lasted lo...      1      1   \n",
      "63  While those projects sound intriguing, you mis...      1      1   \n",
      "62            Will it be used for something on steam?      2      1   \n",
      "..                                                ...    ...    ...   \n",
      "27  Just XRP doing XRP things I guess... But yeah ...      3      1   \n",
      "26  Only thing I’ve heard today is positive stuff....      3      1   \n",
      "25                                    Hahahaha truth!      1      1   \n",
      "24  Flip the switch Garlicbread. God damn, it's be...      4      1   \n",
      "87  Only idiots will sell there XRP. The SEC usses...      2      1   \n",
      "\n",
      "                  Date  \n",
      "0  2023-07-23 14:32:57  \n",
      "1  2023-07-23 14:32:57  \n",
      "64 2023-07-23 14:32:57  \n",
      "63 2023-07-23 14:32:57  \n",
      "62 2023-07-23 14:32:57  \n",
      "..                 ...  \n",
      "27 2023-07-23 14:32:57  \n",
      "26 2023-07-23 14:32:57  \n",
      "25 2023-07-23 14:32:57  \n",
      "24 2023-07-23 14:32:57  \n",
      "87 2023-07-23 14:32:57  \n",
      "\n",
      "[88 rows x 6 columns]\n"
     ]
    }
   ],
   "source": [
    "print(df)"
   ]
  }
 ],
 "metadata": {
  "kernelspec": {
   "display_name": "Python 3",
   "language": "python",
   "name": "python3"
  },
  "language_info": {
   "codemirror_mode": {
    "name": "ipython",
    "version": 3
   },
   "file_extension": ".py",
   "mimetype": "text/x-python",
   "name": "python",
   "nbconvert_exporter": "python",
   "pygments_lexer": "ipython3",
   "version": "3.10.0"
  },
  "orig_nbformat": 4
 },
 "nbformat": 4,
 "nbformat_minor": 2
}
