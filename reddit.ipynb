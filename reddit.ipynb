{
 "cells": [
  {
   "cell_type": "code",
   "execution_count": 1,
   "metadata": {},
   "outputs": [],
   "source": [
    "import praw\n",
    "from tqdm.notebook import tqdm\n",
    "import pandas as pd\n"
   ]
  },
  {
   "cell_type": "code",
   "execution_count": 2,
   "metadata": {},
   "outputs": [],
   "source": [
    "reddit = praw.Reddit(\n",
    "    client_id=\"FJCWHqqFha1h5vACWgVmug\",\n",
    "    client_secret=\"98GIRBomHZ6bDlJqtpVLXJlmnPu8wA\",\n",
    "    user_agent=\"crypto analyser by u/piercestt\",\n",
    "    username=\"piercestt\",\n",
    "    password=\"Kajade_56\",\n",
    ")\n",
    "\n"
   ]
  },
  {
   "cell_type": "code",
   "execution_count": 3,
   "metadata": {},
   "outputs": [],
   "source": [
    "from datetime import datetime, timedelta\n",
    "end_date = '2022-07-10'  \n",
    "start_date = '2014-09-17'  \n"
   ]
  },
  {
   "cell_type": "code",
   "execution_count": 5,
   "metadata": {},
   "outputs": [
    {
     "name": "stdout",
     "output_type": "stream",
     "text": [
      "Name: btc\tSubscribers: 1067018\n",
      "Name: anetaBTC\tSubscribers: 1298\n",
      "Name: Bitcoin\tSubscribers: 5820985\n",
      "Name: CryptoCurrency\tSubscribers: 6843966\n",
      "Name: LightningBTC\tSubscribers: 1298\n",
      "Name: eBTC\tSubscribers: 1296\n",
      "Name: dogecoin\tSubscribers: 2428561\n",
      "Name: BitcoinBeginners\tSubscribers: 1076013\n",
      "Name: BtcForum\tSubscribers: 1008\n",
      "Name: ethtrader\tSubscribers: 2264935\n"
     ]
    }
   ],
   "source": [
    "top_btc_subs = [x for x in reddit.subreddits.search('btc')][:10]\n",
    "for s in top_btc_subs:\n",
    "    print(f\"Name: {s.display_name}\\tSubscribers: {s.subscribers}\")"
   ]
  },
  {
   "cell_type": "code",
   "execution_count": 7,
   "metadata": {},
   "outputs": [],
   "source": [
    "post_dict = {}\n",
    "\n",
    "\n",
    "for sr in top_btc_subs:\n",
    "    curr_posts_data = []  # List to store (post_title, post_likes) pairs\n",
    "    curr_sr_posts = sr.top(time_filter='week', limit=100)  # Fetch top posts from the past week\n",
    "    for post in curr_sr_posts:\n",
    "        post_date = pd.to_datetime(post.created_utc, unit='s')\n",
    "        \n",
    "        # Check if the post date is within the past week\n",
    "        post_title = post.title\n",
    "        post_likes = post.ups\n",
    "        curr_posts_data.append((post_title, post_likes))  # Store as tuple (post_title, post_likes)\n",
    "    post_dict[sr.display_name] = curr_posts_data\n"
   ]
  },
  {
   "cell_type": "code",
   "execution_count": 8,
   "metadata": {},
   "outputs": [],
   "source": [
    "subreddits = []\n",
    "post_titles = []\n",
    "post_likes = []\n",
    "dates = []\n"
   ]
  },
  {
   "cell_type": "code",
   "execution_count": 9,
   "metadata": {},
   "outputs": [],
   "source": [
    "for subreddit, posts_data in post_dict.items():\n",
    "    for post_title, num_likes in posts_data:\n",
    "        # Append the data to the lists\n",
    "        subreddits.append(subreddit)\n",
    "        post_titles.append(post_title)\n",
    "        post_likes.append(num_likes)\n",
    "        dates.append(post_date)\n"
   ]
  },
  {
   "cell_type": "code",
   "execution_count": 10,
   "metadata": {},
   "outputs": [],
   "source": [
    "data = {\n",
    "    'Subreddit': subreddits,\n",
    "    'Post Title': post_titles,\n",
    "    'Likes': post_likes,\n",
    "    'Date': dates,\n",
    "\n",
    "}"
   ]
  },
  {
   "cell_type": "code",
   "execution_count": 11,
   "metadata": {},
   "outputs": [],
   "source": [
    "df = pd.DataFrame(data)\n"
   ]
  },
  {
   "cell_type": "code",
   "execution_count": 12,
   "metadata": {},
   "outputs": [],
   "source": [
    "df.sort_values(by='Date', ascending=False, inplace=True)\n"
   ]
  },
  {
   "cell_type": "code",
   "execution_count": 14,
   "metadata": {},
   "outputs": [
    {
     "name": "stdout",
     "output_type": "stream",
     "text": [
      "     Subreddit                                         Post Title  Likes  \\\n",
      "0          btc  Wohoo! BCH just passed LTC on CoinMarketCap. T...     62   \n",
      "295   dogecoin  Will the price of doge ever exceed the price o...      0   \n",
      "293   dogecoin                     To the moon (not Dogecoin yet)     10   \n",
      "292   dogecoin  Where is the best place to find detailed histo...     10   \n",
      "291   dogecoin                          What is my favorite deal?     11   \n",
      "..         ...                                                ...    ...   \n",
      "140    Bitcoin                                    Bitcoin vs Gold     28   \n",
      "139    Bitcoin                                     1st generation     26   \n",
      "138    Bitcoin                                   Fidelity Bitcoin     27   \n",
      "137    Bitcoin                         When did you discover BTC?     30   \n",
      "429  ethtrader         Memo From SBF to Caroline Ellison Unveiled     13   \n",
      "\n",
      "                   Date  \n",
      "0   2023-10-04 10:06:16  \n",
      "295 2023-10-04 10:06:16  \n",
      "293 2023-10-04 10:06:16  \n",
      "292 2023-10-04 10:06:16  \n",
      "291 2023-10-04 10:06:16  \n",
      "..                  ...  \n",
      "140 2023-10-04 10:06:16  \n",
      "139 2023-10-04 10:06:16  \n",
      "138 2023-10-04 10:06:16  \n",
      "137 2023-10-04 10:06:16  \n",
      "429 2023-10-04 10:06:16  \n",
      "\n",
      "[430 rows x 4 columns]\n"
     ]
    },
    {
     "data": {
      "text/plain": [
       "(430, 4)"
      ]
     },
     "execution_count": 14,
     "metadata": {},
     "output_type": "execute_result"
    }
   ],
   "source": [
    "print(df)\n",
    "df.shape\n"
   ]
  }
 ],
 "metadata": {
  "kernelspec": {
   "display_name": "Python 3",
   "language": "python",
   "name": "python3"
  },
  "language_info": {
   "codemirror_mode": {
    "name": "ipython",
    "version": 3
   },
   "file_extension": ".py",
   "mimetype": "text/x-python",
   "name": "python",
   "nbconvert_exporter": "python",
   "pygments_lexer": "ipython3",
   "version": "3.10.0"
  },
  "orig_nbformat": 4
 },
 "nbformat": 4,
 "nbformat_minor": 2
}
