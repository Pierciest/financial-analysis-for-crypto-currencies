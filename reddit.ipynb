{
 "cells": [
  {
   "cell_type": "code",
   "execution_count": 6,
   "metadata": {},
   "outputs": [],
   "source": [
    "import praw"
   ]
  },
  {
   "cell_type": "code",
   "execution_count": 14,
   "metadata": {},
   "outputs": [],
   "source": [
    "reddit = praw.Reddit(\n",
    "    client_id=\"FJCWHqqFha1h5vACWgVmug\",\n",
    "    client_secret=\"98GIRBomHZ6bDlJqtpVLXJlmnPu8wA\",\n",
    "    user_agent=\"crypto analyser by u/piercestt\",\n",
    "    username=\"piercestt\",\n",
    "    password=\"Kajade_56\",\n",
    ")\n",
    "\n"
   ]
  },
  {
   "cell_type": "code",
   "execution_count": 22,
   "metadata": {},
   "outputs": [
    {
     "name": "stdout",
     "output_type": "stream",
     "text": [
      "Name: XRP\tSubscribers: 337201\n",
      "Name: XRP_Chat\tSubscribers: 3307\n",
      "Name: XRP_NEWS\tSubscribers: 59\n",
      "Name: Ripple\tSubscribers: 357566\n",
      "Name: CryptoCurrency\tSubscribers: 6630363\n",
      "Name: XRP_Community_News\tSubscribers: 585\n",
      "Name: XRPTalk\tSubscribers: 6308\n",
      "Name: SatoshiStreetBets\tSubscribers: 731825\n",
      "Name: CryptoMarkets\tSubscribers: 1507050\n",
      "Name: RippleTalk\tSubscribers: 13144\n"
     ]
    }
   ],
   "source": [
    "top_covid_subs = [x for x in reddit.subreddits.search('xrp')][:10]\n",
    "for s in top_covid_subs:\n",
    "    print(f\"Name: {s.display_name}\\tSubscribers: {s.subscribers}\")"
   ]
  },
  {
   "cell_type": "code",
   "execution_count": 23,
   "metadata": {},
   "outputs": [],
   "source": [
    "comment_dict = {}\n",
    "\n",
    "for sr in top_covid_subs:\n",
    "    curr_comments_text = []\n",
    "    curr_sr_comments = sr.comments(limit=500)\n",
    "    for comment in curr_sr_comments:\n",
    "        curr_comments_text.append(comment.body)\n",
    "    comment_dict[sr.display_name] = curr_comments_text"
   ]
  }
 ],
 "metadata": {
  "kernelspec": {
   "display_name": "Python 3",
   "language": "python",
   "name": "python3"
  },
  "language_info": {
   "codemirror_mode": {
    "name": "ipython",
    "version": 3
   },
   "file_extension": ".py",
   "mimetype": "text/x-python",
   "name": "python",
   "nbconvert_exporter": "python",
   "pygments_lexer": "ipython3",
   "version": "3.10.0"
  },
  "orig_nbformat": 4
 },
 "nbformat": 4,
 "nbformat_minor": 2
}
