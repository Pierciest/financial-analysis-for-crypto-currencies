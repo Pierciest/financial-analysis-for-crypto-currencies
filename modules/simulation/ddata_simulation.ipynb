{
 "cells": [
  {
   "cell_type": "code",
   "execution_count": 1,
   "metadata": {},
   "outputs": [],
   "source": [
    "import pandas as pd\n",
    "import numpy as np\n",
    "import matplotlib.pyplot as plt\n",
    "import seaborn as sns\n",
    "\n",
    "plt.style.use('ggplot')\n",
    "\n",
    "import nltk"
   ]
  },
  {
   "cell_type": "code",
   "execution_count": 2,
   "metadata": {},
   "outputs": [],
   "source": [
    "with open(\"example.txt\", \"r\") as file:\n",
    "    content = file.read()\n"
   ]
  },
  {
   "cell_type": "code",
   "execution_count": 3,
   "metadata": {},
   "outputs": [],
   "source": [
    "examples = content.strip().split(\"Example:\")"
   ]
  },
  {
   "cell_type": "code",
   "execution_count": 4,
   "metadata": {},
   "outputs": [],
   "source": [
    "post_data = []\n",
    "comment_data = []"
   ]
  },
  {
   "cell_type": "code",
   "execution_count": 5,
   "metadata": {},
   "outputs": [],
   "source": [
    "for i in range(1, 11):\n",
    "    post_data.append(examples[i].strip().split('\\n\\n')[0])\n",
    "    comment_data.append(examples[i].split('\\n\\n')[1])\n",
    "    comment_data.append(examples[i].split('\\n\\n')[2])\n",
    "    comment_data.append(examples[i].split('\\n\\n')[3])\n",
    "    "
   ]
  },
  {
   "cell_type": "code",
   "execution_count": 6,
   "metadata": {},
   "outputs": [],
   "source": [
    "post_columns = [\"Post ID\", \"Title\", \"Content\", \"Timestamp\", \"Author ID\", \"Upvote Ratio\", \"Number of Comments\", \"Post Type\"]\n",
    "comment_columns = [\"Comment ID\", \"Post ID\", \"Content\", \"Timestamp\", \"Author ID\", \"Upvotes\"]\n",
    "\n",
    "post_df = pd.DataFrame([post.split('\\n') for post in post_data], columns=post_columns)\n",
    "comment_df = pd.DataFrame([comment.split('\\n') for comment in comment_data], columns=comment_columns)"
   ]
  },
  {
   "cell_type": "code",
   "execution_count": 7,
   "metadata": {},
   "outputs": [
    {
     "name": "stdout",
     "output_type": "stream",
     "text": [
      "Posts DataFrame:\n",
      "  Post ID                                     Title  \\\n",
      "0   p1xrp               Ripple's Recent Price Surge   \n",
      "1   p2xrp  Technical Analysis of XRP Price Movement   \n",
      "2   p3xrp            XRP Adoption Continues to Grow   \n",
      "3   p4xrp  Regulatory Developments Impact XRP Price   \n",
      "4   p5xrp        XRP Community Celebrates Milestone   \n",
      "\n",
      "                                             Content            Timestamp  \\\n",
      "0  Ripple (XRP) has experienced a significant pri...  2023-08-15 09:30:00   \n",
      "1  Analyzing the technical indicators, it seems t...  2023-08-15 14:15:00   \n",
      "2  More businesses are integrating XRP as a payme...  2023-08-16 11:00:00   \n",
      "3  Recent regulatory announcements have caused fl...  2023-08-17 16:45:00   \n",
      "4  The XRP community has reached a milestone of 1...  2023-08-18 08:00:00   \n",
      "\n",
      "             Author ID Upvote Ratio Number of Comments    Post Type  \n",
      "0      cryptoTrader123         0.92                 25   News        \n",
      "1          TAexpert456         0.85                 10     Analysis  \n",
      "2  cryptoEnthusiast789         0.88                 18   Discussion  \n",
      "3    regulatoryWatcher         0.75                 12         News  \n",
      "4    xrpCommunityAdmin         0.90                  8  Celebration  \n",
      "\n",
      "Comments DataFrame:\n",
      "  Comment ID Post ID                                            Content  \\\n",
      "0    c1_1xrp   p1xrp  This price surge is incredible! Is this relate...   \n",
      "1    c1_2xrp   p1xrp  I think the entire crypto market is experienci...   \n",
      "2    c1_3xrp   p1xrp  The price movement has been impressive, but it...   \n",
      "3    c2_1xrp   p2xrp  Your analysis seems solid, but I wonder how ex...   \n",
      "4    c2_2xrp   p2xrp  I appreciate the technical insights. This coul...   \n",
      "\n",
      "             Timestamp          Author ID Upvotes  \n",
      "0  2023-08-15 10:05:00    curiousTrader42       8  \n",
      "1  2023-08-15 11:20:00    cryptoHodlerXYZ      12  \n",
      "2  2023-08-15 12:45:00   cautiousInvestor       6  \n",
      "3  2023-08-15 15:00:00     analyticalMind      10  \n",
      "4  2023-08-15 16:30:00  tradingEnthusiast       7  \n"
     ]
    }
   ],
   "source": [
    "print(\"Posts DataFrame:\")\n",
    "print(post_df[:5])\n",
    "print(\"\\nComments DataFrame:\")\n",
    "print(comment_df[:5])"
   ]
  },
  {
   "cell_type": "code",
   "execution_count": 21,
   "metadata": {},
   "outputs": [],
   "source": [
    "from transformers import pipeline\n",
    "from transformers import AutoTokenizer\n",
    "from transformers import AutoModelForSequenceClassification\n",
    "from scipy.special import softmax"
   ]
  },
  {
   "cell_type": "code",
   "execution_count": 22,
   "metadata": {},
   "outputs": [],
   "source": [
    "tokenizer = AutoTokenizer.from_pretrained(\"ProsusAI/finbert\")\n",
    "model = AutoModelForSequenceClassification.from_pretrained(\"ProsusAI/finbert\")"
   ]
  },
  {
   "cell_type": "code",
   "execution_count": 27,
   "metadata": {},
   "outputs": [],
   "source": [
    "def polarity_scores_finbert(example):\n",
    "    encoded_text = tokenizer(example, return_tensors='pt')\n",
    "    output = model(**encoded_text)\n",
    "    scores = output[0][0].detach().numpy()\n",
    "    scores = softmax(scores)\n",
    "    scores_dict = {\n",
    "        'finbert_neg' : scores[0],\n",
    "        'finbert_neu' : scores[1],\n",
    "        'finbert_pos' : scores[2]\n",
    "    }\n",
    "    return scores_dict"
   ]
  },
  {
   "cell_type": "code",
   "execution_count": 28,
   "metadata": {},
   "outputs": [],
   "source": [
    "res = {}\n",
    "for i, row in comment_df.iterrows():\n",
    "    text = row['Content']\n",
    "    myid = row['Comment ID']\n",
    "    res[myid] = polarity_scores_finbert(text)"
   ]
  },
  {
   "cell_type": "code",
   "execution_count": 33,
   "metadata": {},
   "outputs": [],
   "source": [
    "finberts = pd.DataFrame(res).T\n",
    "finberts = finberts.reset_index().rename(columns={'index': 'Comment ID'})\n",
    "finberts = finberts.merge(comment_df, how='left')"
   ]
  },
  {
   "cell_type": "code",
   "execution_count": 34,
   "metadata": {},
   "outputs": [
    {
     "data": {
      "text/html": [
       "<div>\n",
       "<style scoped>\n",
       "    .dataframe tbody tr th:only-of-type {\n",
       "        vertical-align: middle;\n",
       "    }\n",
       "\n",
       "    .dataframe tbody tr th {\n",
       "        vertical-align: top;\n",
       "    }\n",
       "\n",
       "    .dataframe thead th {\n",
       "        text-align: right;\n",
       "    }\n",
       "</style>\n",
       "<table border=\"1\" class=\"dataframe\">\n",
       "  <thead>\n",
       "    <tr style=\"text-align: right;\">\n",
       "      <th></th>\n",
       "      <th>Comment ID</th>\n",
       "      <th>finbert_neg</th>\n",
       "      <th>finbert_neu</th>\n",
       "      <th>finbert_pos</th>\n",
       "      <th>Post ID</th>\n",
       "      <th>Content</th>\n",
       "      <th>Timestamp</th>\n",
       "      <th>Author ID</th>\n",
       "      <th>Upvotes</th>\n",
       "    </tr>\n",
       "  </thead>\n",
       "  <tbody>\n",
       "    <tr>\n",
       "      <th>0</th>\n",
       "      <td>c1_1xrp</td>\n",
       "      <td>0.041659</td>\n",
       "      <td>0.050087</td>\n",
       "      <td>0.908254</td>\n",
       "      <td>p1xrp</td>\n",
       "      <td>This price surge is incredible! Is this relate...</td>\n",
       "      <td>2023-08-15 10:05:00</td>\n",
       "      <td>curiousTrader42</td>\n",
       "      <td>8</td>\n",
       "    </tr>\n",
       "    <tr>\n",
       "      <th>1</th>\n",
       "      <td>c1_2xrp</td>\n",
       "      <td>0.577915</td>\n",
       "      <td>0.031017</td>\n",
       "      <td>0.391069</td>\n",
       "      <td>p1xrp</td>\n",
       "      <td>I think the entire crypto market is experienci...</td>\n",
       "      <td>2023-08-15 11:20:00</td>\n",
       "      <td>cryptoHodlerXYZ</td>\n",
       "      <td>12</td>\n",
       "    </tr>\n",
       "    <tr>\n",
       "      <th>2</th>\n",
       "      <td>c1_3xrp</td>\n",
       "      <td>0.240741</td>\n",
       "      <td>0.017783</td>\n",
       "      <td>0.741476</td>\n",
       "      <td>p1xrp</td>\n",
       "      <td>The price movement has been impressive, but it...</td>\n",
       "      <td>2023-08-15 12:45:00</td>\n",
       "      <td>cautiousInvestor</td>\n",
       "      <td>6</td>\n",
       "    </tr>\n",
       "    <tr>\n",
       "      <th>3</th>\n",
       "      <td>c2_1xrp</td>\n",
       "      <td>0.081051</td>\n",
       "      <td>0.370209</td>\n",
       "      <td>0.548740</td>\n",
       "      <td>p2xrp</td>\n",
       "      <td>Your analysis seems solid, but I wonder how ex...</td>\n",
       "      <td>2023-08-15 15:00:00</td>\n",
       "      <td>analyticalMind</td>\n",
       "      <td>10</td>\n",
       "    </tr>\n",
       "    <tr>\n",
       "      <th>4</th>\n",
       "      <td>c2_2xrp</td>\n",
       "      <td>0.560845</td>\n",
       "      <td>0.010708</td>\n",
       "      <td>0.428448</td>\n",
       "      <td>p2xrp</td>\n",
       "      <td>I appreciate the technical insights. This coul...</td>\n",
       "      <td>2023-08-15 16:30:00</td>\n",
       "      <td>tradingEnthusiast</td>\n",
       "      <td>7</td>\n",
       "    </tr>\n",
       "  </tbody>\n",
       "</table>\n",
       "</div>"
      ],
      "text/plain": [
       "  Comment ID  finbert_neg  finbert_neu  finbert_pos Post ID  \\\n",
       "0    c1_1xrp     0.041659     0.050087     0.908254   p1xrp   \n",
       "1    c1_2xrp     0.577915     0.031017     0.391069   p1xrp   \n",
       "2    c1_3xrp     0.240741     0.017783     0.741476   p1xrp   \n",
       "3    c2_1xrp     0.081051     0.370209     0.548740   p2xrp   \n",
       "4    c2_2xrp     0.560845     0.010708     0.428448   p2xrp   \n",
       "\n",
       "                                             Content            Timestamp  \\\n",
       "0  This price surge is incredible! Is this relate...  2023-08-15 10:05:00   \n",
       "1  I think the entire crypto market is experienci...  2023-08-15 11:20:00   \n",
       "2  The price movement has been impressive, but it...  2023-08-15 12:45:00   \n",
       "3  Your analysis seems solid, but I wonder how ex...  2023-08-15 15:00:00   \n",
       "4  I appreciate the technical insights. This coul...  2023-08-15 16:30:00   \n",
       "\n",
       "           Author ID Upvotes  \n",
       "0    curiousTrader42       8  \n",
       "1    cryptoHodlerXYZ      12  \n",
       "2   cautiousInvestor       6  \n",
       "3     analyticalMind      10  \n",
       "4  tradingEnthusiast       7  "
      ]
     },
     "execution_count": 34,
     "metadata": {},
     "output_type": "execute_result"
    }
   ],
   "source": [
    "finberts.head()"
   ]
  },
  {
   "cell_type": "code",
   "execution_count": 47,
   "metadata": {},
   "outputs": [
    {
     "data": {
      "image/png": "[encoded data removed]",
      "text/plain": [
       "<Figure size 864x216 with 3 Axes>"
      ]
     },
     "metadata": {
      "needs_background": "light"
     },
     "output_type": "display_data"
    }
   ],
   "source": [
    "fig, axs = plt.subplots(1, 3, figsize=(12, 3))\n",
    "sns.barplot(data=finberts, x='Timestamp', y='finbert_pos', ax=axs[0])\n",
    "sns.barplot(data=finberts, x='Timestamp', y='finbert_neu', ax=axs[1])\n",
    "sns.barplot(data=finberts, x='Timestamp', y='finbert_neg', ax=axs[2])\n",
    "axs[0].set_title('Positive')\n",
    "axs[1].set_title('Neutral')\n",
    "axs[2].set_title('Negative')\n",
    "plt.tight_layout()\n",
    "plt.show()"
   ]
  },
  {
   "cell_type": "code",
   "execution_count": 44,
   "metadata": {},
   "outputs": [
    {
     "data": {
      "application/vnd.jupyter.widget-view+json": {
       "model_id": "e424de4f4c5246d0935c31e45569529b",
       "version_major": 2,
       "version_minor": 0
      },
      "text/plain": [
       "Downloading (…)lve/main/config.json:   0%|          | 0.00/747 [00:00<?, ?B/s]"
      ]
     },
     "metadata": {},
     "output_type": "display_data"
    },
    {
     "data": {
      "application/vnd.jupyter.widget-view+json": {
       "model_id": "ccf2517ea90f4649ac296b9a1dc634ff",
       "version_major": 2,
       "version_minor": 0
      },
      "text/plain": [
       "Downloading (…)olve/main/vocab.json:   0%|          | 0.00/899k [00:00<?, ?B/s]"
      ]
     },
     "metadata": {},
     "output_type": "display_data"
    },
    {
     "data": {
      "application/vnd.jupyter.widget-view+json": {
       "model_id": "a11440d5954746058049e77d268a0d91",
       "version_major": 2,
       "version_minor": 0
      },
      "text/plain": [
       "Downloading (…)olve/main/merges.txt:   0%|          | 0.00/456k [00:00<?, ?B/s]"
      ]
     },
     "metadata": {},
     "output_type": "display_data"
    },
    {
     "data": {
      "application/vnd.jupyter.widget-view+json": {
       "model_id": "097272c253fd4b30bea6954fc82bc3d9",
       "version_major": 2,
       "version_minor": 0
      },
      "text/plain": [
       "Downloading (…)cial_tokens_map.json:   0%|          | 0.00/150 [00:00<?, ?B/s]"
      ]
     },
     "metadata": {},
     "output_type": "display_data"
    },
    {
     "data": {
      "application/vnd.jupyter.widget-view+json": {
       "model_id": "141da8ad88ff4b228a45d2c64b9dae97",
       "version_major": 2,
       "version_minor": 0
      },
      "text/plain": [
       "Downloading pytorch_model.bin:   0%|          | 0.00/499M [00:00<?, ?B/s]"
      ]
     },
     "metadata": {},
     "output_type": "display_data"
    }
   ],
   "source": [
    "MODEL = f\"cardiffnlp/twitter-roberta-base-sentiment\"\n",
    "tokenizer = AutoTokenizer.from_pretrained(MODEL)\n",
    "model = AutoModelForSequenceClassification.from_pretrained(MODEL)"
   ]
  },
  {
   "cell_type": "code",
   "execution_count": 49,
   "metadata": {},
   "outputs": [],
   "source": [
    "def polarity_scores_roberta(example):\n",
    "    encoded_text = tokenizer(example, return_tensors='pt')\n",
    "    output = model(**encoded_text)\n",
    "    scores = output[0][0].detach().numpy()\n",
    "    scores = softmax(scores)\n",
    "    scores_dict = {\n",
    "        'roberta_neg' : scores[0],\n",
    "        'roberta_neu' : scores[1],\n",
    "        'roberta_pos' : scores[2]\n",
    "    }\n",
    "    return scores_dict"
   ]
  },
  {
   "cell_type": "code",
   "execution_count": null,
   "metadata": {},
   "outputs": [],
   "source": [
    "res = {}\n",
    "for i, row in comment_df.iterrows():\n",
    "    try:\n",
    "        text = row['Content']\n",
    "        myid = row['Coment ID']\n",
    "        roberta_result = polarity_scores_roberta(text)\n",
    "        both = {**vader_result_rename, **roberta_result}\n",
    "        res[myid] = both\n",
    "    except RuntimeError:\n",
    "        print(f'Broke for id {myid}')"
   ]
  }
 ],
 "metadata": {
  "kernelspec": {
   "display_name": "Python 3",
   "language": "python",
   "name": "python3"
  },
  "language_info": {
   "codemirror_mode": {
    "name": "ipython",
    "version": 3
   },
   "file_extension": ".py",
   "mimetype": "text/x-python",
   "name": "python",
   "nbconvert_exporter": "python",
   "pygments_lexer": "ipython3",
   "version": "3.10.0"
  },
  "orig_nbformat": 4
 },
 "nbformat": 4,
 "nbformat_minor": 2
}
