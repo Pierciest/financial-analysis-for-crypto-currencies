{
 "cells": [
  {
   "cell_type": "code",
   "execution_count": 207,
   "metadata": {},
   "outputs": [],
   "source": [
    "import pandas as pd\n",
    "import numpy as np\n",
    "from pytrends.request import TrendReq\n",
    "import matplotlib.pyplot as plt\n",
    "from IPython.display import display\n",
    "from datetime import datetime, timedelta\n"
   ]
  },
  {
   "cell_type": "code",
   "execution_count": 208,
   "metadata": {},
   "outputs": [],
   "source": [
    "pytrendsS = TrendReq()\n",
    "pytrendsD = TrendReq()\n",
    "pytrendsX = TrendReq()"
   ]
  },
  {
   "cell_type": "code",
   "execution_count": 209,
   "metadata": {},
   "outputs": [],
   "source": [
    "pytrendsS.build_payload(kw_list= ['Solana'], timeframe='2022-07-17 2023-07-17')\n",
    "pytrendsD.build_payload(kw_list= ['Dogecoin'], timeframe='2022-07-17 2023-07-17')\n",
    "pytrendsX.build_payload(kw_list= ['XRP'], timeframe='2022-07-17 2023-07-17')"
   ]
  },
  {
   "cell_type": "code",
   "execution_count": 213,
   "metadata": {},
   "outputs": [],
   "source": [
    "dfS = pytrendsS.interest_over_time()\n",
    "dfD = pytrendsD.interest_over_time()\n",
    "dfX = pytrendsX.interest_over_time()"
   ]
  },
  {
   "cell_type": "code",
   "execution_count": 214,
   "metadata": {},
   "outputs": [],
   "source": [
    "dfS = dfS.drop(columns=['isPartial'])\n",
    "dfD = dfD.drop(columns=['isPartial'])\n",
    "dfX = dfX.drop(columns=['isPartial'])\n"
   ]
  },
  {
   "cell_type": "code",
   "execution_count": 215,
   "metadata": {},
   "outputs": [],
   "source": [
    "dfS.to_csv('data/currencies/solana/trending_dates_weekly.csv')\n",
    "dfD.to_csv('data/currencies/dogecoin/trending_dates_weekly.csv')\n",
    "dfX.to_csv('data/currencies/xrp/trending_dates_weekly.csv')"
   ]
  }
 ],
 "metadata": {
  "kernelspec": {
   "display_name": "Python 3",
   "language": "python",
   "name": "python3"
  },
  "language_info": {
   "codemirror_mode": {
    "name": "ipython",
    "version": 3
   },
   "file_extension": ".py",
   "mimetype": "text/x-python",
   "name": "python",
   "nbconvert_exporter": "python",
   "pygments_lexer": "ipython3",
   "version": "3.10.0"
  },
  "orig_nbformat": 4
 },
 "nbformat": 4,
 "nbformat_minor": 2
}
