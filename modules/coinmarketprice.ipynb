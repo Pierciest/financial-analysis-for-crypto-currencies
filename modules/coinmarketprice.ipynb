{
 "cells": [
  {
   "cell_type": "code",
   "execution_count": 15,
   "metadata": {},
   "outputs": [],
   "source": [
    "import pandas as pd\n",
    "import requests\n",
    "import csv\n"
   ]
  },
  {
   "cell_type": "code",
   "execution_count": 16,
   "metadata": {},
   "outputs": [],
   "source": [
    "\n",
    "url = \"https://coinranking1.p.rapidapi.com/coin/Qwsogvtv82FCd/history\"\n",
    "\n",
    "querystring = {\"referenceCurrencyUuid\":\"-l8Mn2pVlRs-p\",\"timePeriod\":\"1y\"}\n",
    "\n",
    "headers = {\n",
    "\t\"X-RapidAPI-Key\": \"584a62aeaamsh9ba774368bd0b82p145f75jsn8931a98e4a53\",\n",
    "\t\"X-RapidAPI-Host\": \"coinranking1.p.rapidapi.com\"\n",
    "}"
   ]
  },
  {
   "cell_type": "code",
   "execution_count": null,
   "metadata": {},
   "outputs": [],
   "source": []
  },
  {
   "cell_type": "code",
   "execution_count": 17,
   "metadata": {},
   "outputs": [],
   "source": [
    "dresponse = requests.get(url, headers=headers, params=querystring)"
   ]
  },
  {
   "cell_type": "code",
   "execution_count": 32,
   "metadata": {},
   "outputs": [
    {
     "data": {
      "text/plain": [
       "'60574.31440304719996377173'"
      ]
     },
     "execution_count": 32,
     "metadata": {},
     "output_type": "execute_result"
    }
   ],
   "source": [
    "data = dresponse.json()\n",
    "data['data']['history'][365]['price']\n"
   ]
  },
  {
   "cell_type": "code",
   "execution_count": 26,
   "metadata": {},
   "outputs": [
    {
     "name": "stdout",
     "output_type": "stream",
     "text": [
      "JSON data has been successfully saved to data/currencies/xrp/coin_price.csv.\n"
     ]
    }
   ],
   "source": [
    "if dresponse.status_code == 200 and data['status'] == 'success':\n",
    "    json_data = data['data']\n",
    "\n",
    "    # Extracting relevant data from the JSON\n",
    "    change = json_data['change']\n",
    "    history = json_data['history']\n",
    "\n",
    "    # Defining the CSV file name\n",
    "    csv_file = 'data/currencies/xrp/coin_price.csv'\n",
    "\n",
    "    # Writing the data to the CSV file\n",
    "    with open(csv_file, mode='w', newline='') as file:\n",
    "        writer = csv.writer(file)\n",
    "        writer.writerow(['Change', 'Price', 'Timestamp'])  # Writing the header\n",
    "\n",
    "        # Writing each data row\n",
    "        for item in history:\n",
    "            writer.writerow([change, item['price'], item['timestamp']])\n",
    "\n",
    "    print(f\"JSON data has been successfully saved to {csv_file}.\")\n",
    "else:\n",
    "    print(\"Error occurred during the API request.\")"
   ]
  }
 ],
 "metadata": {
  "kernelspec": {
   "display_name": "Python 3",
   "language": "python",
   "name": "python3"
  },
  "language_info": {
   "codemirror_mode": {
    "name": "ipython",
    "version": 3
   },
   "file_extension": ".py",
   "mimetype": "text/x-python",
   "name": "python",
   "nbconvert_exporter": "python",
   "pygments_lexer": "ipython3",
   "version": "3.10.0"
  },
  "orig_nbformat": 4
 },
 "nbformat": 4,
 "nbformat_minor": 2
}
