{
 "cells": [
  {
   "cell_type": "code",
   "execution_count": 85,
   "metadata": {},
   "outputs": [],
   "source": [
    "import pandas as pd\n",
    "import requests\n",
    "import csv\n",
    "import os\n"
   ]
  },
  {
   "cell_type": "code",
   "execution_count": 86,
   "metadata": {},
   "outputs": [],
   "source": [
    "def save_data_to_csv(json_data, change, history, csv_file):\n",
    "    os.makedirs(os.path.dirname(csv_file), exist_ok=True)  # Create the directory if it doesn't exist\n",
    "\n",
    "    with open(csv_file, mode='w', newline='') as file:\n",
    "        writer = csv.writer(file)\n",
    "        writer.writerow(['Change', 'Price', 'Timestamp'])  # Writing the header\n",
    "\n",
    "        # Writing each data row\n",
    "        for item in history:\n",
    "            writer.writerow([change, item['price'], item['timestamp']])\n",
    "\n",
    "    print(f\"JSON data has been successfully saved to {csv_file}.\")\n"
   ]
  },
  {
   "cell_type": "code",
   "execution_count": 88,
   "metadata": {},
   "outputs": [],
   "source": [
    "\n",
    "url1 = \"https://coinranking1.p.rapidapi.com/coin/-l8Mn2pVlRs-p/history\"\n",
    "url2 = \"https://coinranking1.p.rapidapi.com/coin/a91GCGd_u96cF/history\"\n",
    "url3 = \"https://coinranking1.p.rapidapi.com/coin/zNZHO_Sjf/history\"\n",
    "\n",
    "\n",
    "\n",
    "querystring = {\"referenceCurrencyUuid\":\"yhjMzLPhuIDl\",\"timePeriod\":\"1y\"}\n",
    "\n",
    "headers = {\n",
    "\t\"X-RapidAPI-Key\": \"584a62aeaamsh9ba774368bd0b82p145f75jsn8931a98e4a53\",\n",
    "\t\"X-RapidAPI-Host\": \"coinranking1.p.rapidapi.com\"\n",
    "}"
   ]
  },
  {
   "cell_type": "code",
   "execution_count": 89,
   "metadata": {},
   "outputs": [],
   "source": [
    "dresponseX = requests.get(url1, headers=headers, params=querystring)\n",
    "dresponseD = requests.get(url2, headers=headers, params=querystring)\n",
    "dresponseS = requests.get(url3, headers=headers, params=querystring)"
   ]
  },
  {
   "cell_type": "code",
   "execution_count": 90,
   "metadata": {},
   "outputs": [
    {
     "name": "stdout",
     "output_type": "stream",
     "text": [
      "JSON data has been successfully saved to data/currencies/xrp/coin_price.csv.\n",
      "JSON data has been successfully saved to data/currencies/dogecoin/coin_price.csv.\n",
      "JSON data has been successfully saved to data/currencies/solana/coin_price.csv.\n"
     ]
    }
   ],
   "source": [
    "    if all(response.status_code == 200 for response in [dresponseX, dresponseD, dresponseS]):\n",
    "        dataX = dresponseX.json()\n",
    "        dataD = dresponseD.json()\n",
    "        dataS = dresponseS.json()\n",
    "\n",
    "        json_dataX = dataX['data']\n",
    "        json_dataD = dataD['data']\n",
    "        json_dataS = dataS['data']\n",
    "\n",
    "        # Extracting relevant data from the JSON\n",
    "        changeX = json_dataX['change']\n",
    "        historyX = json_dataX['history']\n",
    "\n",
    "        changeD = json_dataD['change']\n",
    "        historyD = json_dataD['history']\n",
    "\n",
    "        changeS = json_dataS['change']\n",
    "        historyS = json_dataS['history']\n",
    "\n",
    "        # Defining the CSV file names\n",
    "        csv_fileX = 'data/currencies/xrp/coin_price.csv'\n",
    "        csv_fileD = 'data/currencies/dogecoin/coin_price.csv'\n",
    "        csv_fileS = 'data/currencies/solana/coin_price.csv'\n",
    "\n",
    "        # Save data to CSV files\n",
    "        save_data_to_csv(json_dataX, changeX, historyX, csv_fileX)\n",
    "        save_data_to_csv(json_dataD, changeD, historyD, csv_fileD)\n",
    "        save_data_to_csv(json_dataS, changeS, historyS, csv_fileS)\n",
    "\n",
    "    else:\n",
    "        print(\"Error occurred during the API request.\")"
   ]
  }
 ],
 "metadata": {
  "kernelspec": {
   "display_name": "Python 3",
   "language": "python",
   "name": "python3"
  },
  "language_info": {
   "codemirror_mode": {
    "name": "ipython",
    "version": 3
   },
   "file_extension": ".py",
   "mimetype": "text/x-python",
   "name": "python",
   "nbconvert_exporter": "python",
   "pygments_lexer": "ipython3",
   "version": "3.10.0"
  },
  "orig_nbformat": 4
 },
 "nbformat": 4,
 "nbformat_minor": 2
}
