{
 "cells": [
  {
   "cell_type": "code",
   "execution_count": 176,
   "metadata": {},
   "outputs": [
    {
     "name": "stdout",
     "output_type": "stream",
     "text": [
      "[*********************100%%**********************]  1 of 1 completed\n"
     ]
    },
    {
     "data": {
      "text/plain": [
       "(2192, 6)"
      ]
     },
     "execution_count": 176,
     "metadata": {},
     "output_type": "execute_result"
    }
   ],
   "source": [
    "import tensorflow as tf\n",
    "import numpy as np\n",
    "import matplotlib.pyplot as plt\n",
    "import csv\n",
    "import pandas as pd\n",
    "import pandas_ta as ta ## Technical Analysis Indicators\n",
    "import yfinance as yf\n",
    "from pytrends.request import TrendReq\n",
    "import time\n",
    "\n",
    "data = yf.download(tickers = 'BTC-USD', start = '2015-01-01',end = '2021-01-01')\n",
    "data.to_csv('modules/data/currencies/bitcoin/btc_dates_daily.csv')\n",
    "data.head(10)\n",
    "data.shape\n",
    "\n"
   ]
  },
  {
   "cell_type": "code",
   "execution_count": 177,
   "metadata": {},
   "outputs": [
    {
     "name": "stdout",
     "output_type": "stream",
     "text": [
      "4\n",
      "3\n",
      "3\n",
      "2\n",
      "2\n",
      "2\n",
      "4\n",
      "3\n",
      "2\n",
      "3\n",
      "3\n",
      "3\n",
      "3\n",
      "3\n",
      "3\n",
      "3\n",
      "3\n",
      "4\n",
      "3\n",
      "3\n",
      "3\n",
      "4\n",
      "4\n",
      "4\n",
      "6\n",
      "5\n",
      "6\n",
      "5\n",
      "11\n",
      "11\n",
      "12\n",
      "20\n",
      "25\n",
      "28\n",
      "47\n",
      "100\n",
      "52\n",
      "41\n",
      "24\n",
      "19\n",
      "14\n",
      "11\n",
      "10\n",
      "11\n",
      "11\n",
      "10\n",
      "14\n",
      "14\n",
      "12\n",
      "12\n",
      "12\n",
      "16\n",
      "20\n",
      "24\n",
      "23\n",
      "22\n",
      "16\n",
      "17\n",
      "13\n",
      "11\n",
      "16\n",
      "18\n",
      "24\n",
      "21\n",
      "25\n",
      "17\n",
      "18\n",
      "20\n",
      "14\n",
      "16\n",
      "29\n",
      "34\n"
     ]
    }
   ],
   "source": [
    "import pandas as pd\n",
    "\n",
    "column_names_monthly = ['Month', 'monthVol']\n",
    "column_names_daily = ['Day', 'dayVol']\n",
    "\n",
    "dfM = pd.read_csv('modules/data/currencies/bitcoin/gTrends/monthly/multiTimeline-78.csv', names=column_names_monthly)\n",
    "\n",
    "# Define an initially empty DataFrame to accumulate results\n",
    "combined_df = pd.DataFrame(columns=column_names_daily)\n",
    "\n",
    "# Define the range for iteration (4 to 78)\n",
    "for i in range(0, 72):\n",
    "    dfD = pd.read_csv('modules/data/currencies/bitcoin/gTrends/Months/{}.csv'.format(i+1), names=column_names_daily, skiprows=2)\n",
    "    monthlyVolume = pd.to_numeric(dfM.at[i+2, 'monthVol'], errors='coerce')\n",
    "    dfD_copy = dfD.copy()\n",
    "    dfD_copy['dayVol'] = pd.to_numeric(dfD_copy['dayVol'], errors='coerce')\n",
    "    dfD_copy['dayVol'] *= monthlyVolume\n",
    "    combined_df = pd.concat([combined_df, dfD_copy], ignore_index=True)\n",
    "    print(monthlyVolume)\n",
    "    \n",
    "# Save the combined DataFrame to a CSV file\n",
    "combined_df.to_csv('combined_data.csv', index=False)\n"
   ]
  },
  {
   "cell_type": "code",
   "execution_count": 178,
   "metadata": {},
   "outputs": [
    {
     "data": {
      "image/png": "[encoded data removed]",
      "text/plain": [
       "<Figure size 720x432 with 1 Axes>"
      ]
     },
     "metadata": {
      "needs_background": "light"
     },
     "output_type": "display_data"
    }
   ],
   "source": [
    "import pandas as pd\n",
    "import matplotlib.pyplot as plt\n",
    "from sklearn.preprocessing import MinMaxScaler\n",
    "\n",
    "column_names = ['Day', 'volume']\n",
    "dfM = pd.read_csv('modules/data/currencies/bitcoin/combined_data.csv', names=column_names)\n",
    "\n",
    "# Initialize the MinMaxScaler\n",
    "scaler = MinMaxScaler(feature_range=(0, 100))\n",
    "\n",
    "# Fit and transform the 'volume' column\n",
    "dfM['volume'] = scaler.fit_transform(dfM[['volume']])\n",
    "\n",
    "# Plot the min-max scaled 'volume' values in the DataFrame\n",
    "def plot_dataframe(data_frame):\n",
    "    plt.figure(figsize=(10, 6))\n",
    "    plt.plot(data_frame['Day'], data_frame['volume'])\n",
    "    plt.title('Combined Data (Min-Max Scaled)')\n",
    "    plt.xlabel('Day')\n",
    "    plt.ylabel('Volume (0-100)')\n",
    "    plt.show()\n",
    "\n",
    "plot_dataframe(dfM)\n"
   ]
  },
  {
   "cell_type": "code",
   "execution_count": 179,
   "metadata": {},
   "outputs": [],
   "source": [
    "def plot_series(x, y, format=\"-\", start=0, end=None, \n",
    "                title=None, xlabel=None, ylabel=None, legend=None ):\n",
    "    \"\"\"\n",
    "    Visualizes time series data\n",
    "\n",
    "    Args:\n",
    "      x (array of int) - contains values for the x-axis\n",
    "      y (array of int or tuple of arrays) - contains the values for the y-axis\n",
    "      format (string) - line style when plotting the graph\n",
    "      start (int) - first time step to plot\n",
    "      end (int) - last time step to plot\n",
    "      title (string) - title of the plot\n",
    "      xlabel (string) - label for the x-axis\n",
    "      ylabel (string) - label for the y-axis\n",
    "      legend (list of strings) - legend for the plot\n",
    "    \"\"\"\n",
    "\n",
    "    # Setup dimensions of the graph figure\n",
    "    plt.figure(figsize=(10, 6))\n",
    "    \n",
    "    # Check if there are more than two series to plot\n",
    "    if type(y) is tuple:\n",
    "\n",
    "      # Loop over the y elements\n",
    "      for y_curr in y:\n",
    "\n",
    "        # Plot the x and current y values\n",
    "        plt.plot(x[start:end], y_curr[start:end], format)\n",
    "\n",
    "    else:\n",
    "      # Plot the x and y values\n",
    "      plt.plot(x[start:end], y[start:end], format)\n",
    "\n",
    "    # Label the x-axis\n",
    "    plt.xlabel(xlabel)\n",
    "\n",
    "    # Label the y-axis\n",
    "    plt.ylabel(ylabel)\n",
    "\n",
    "    # Set the legend\n",
    "    if legend:\n",
    "      plt.legend(legend)\n",
    "\n",
    "    # Set the title\n",
    "    plt.title(title)\n",
    "\n",
    "    # Overlay a grid on the graph\n",
    "    plt.grid(True)\n",
    "\n",
    "    # Draw the graph on screen\n",
    "    plt.show()"
   ]
  },
  {
   "cell_type": "code",
   "execution_count": 180,
   "metadata": {},
   "outputs": [
    {
     "name": "stdout",
     "output_type": "stream",
     "text": [
      "(2192, 2)\n",
      "(2192, 6)\n"
     ]
    }
   ],
   "source": [
    "print(dfM.shape)\n",
    "print(data.shape)"
   ]
  },
  {
   "cell_type": "code",
   "execution_count": 181,
   "metadata": {},
   "outputs": [
    {
     "name": "stdout",
     "output_type": "stream",
     "text": [
      "[1.48, 2.4, 3.0, 3.3200000000000003, 2.08, 2.04, 1.8, 3.2, 1.48, 2.84, 2.48, 2.0, 2.8000000000000003, 4.0, 2.0, 2.24, 3.48, 1.6400000000000001, 2.08, 1.76, 3.4, 2.4, 2.2, 3.68, 1.72, 2.68, 2.92, 2.16, 2.2800000000000002, 3.08, 3.3200000000000003, 2.5500000000000003, 1.83, 1.98, 2.4, 1.53, 1.23, 2.37, 3.0, 1.62, 2.22, 2.34, 0.75, 2.61, 2.52, 2.2800000000000002, 1.86, 1.98, 1.77, 2.88, 1.86, 1.35, 2.04, 2.37, 2.0100000000000002, 2.52, 1.62, 2.0100000000000002, 2.73, 1.95, 2.07, 2.07, 1.35, 1.95, 2.5500000000000003, 2.34, 2.58, 2.04, 2.49, 1.44, 2.0100000000000002, 1.77, 1.92, 2.5500000000000003, 1.44, 2.07, 1.5, 3.0, 1.08, 2.13, 1.23, 2.13, 2.19, 2.43, 2.25, 0.87, 1.92, 1.3800000000000001, 1.77, 1.44, 1.3, 1.06, 1.22, 1.06, 1.4000000000000001, 0.96, 0.98, 1.3800000000000001, 1.68, 0.54, 1.54, 1.0, 1.48, 1.06, 1.24, 1.52, 0.98, 2.0, 0.66, 1.1400000000000001, 1.18, 0.84, 0.72, 1.16, 1.3, 1.36, 1.22, 1.18, 0.84, 1.3800000000000001, 0.72, 1.42, 1.68, 1.28, 0.64, 0.86, 0.96, 0.8, 0.72, 1.42, 0.8, 1.46, 0.96, 1.48, 0.74, 1.02, 1.8800000000000001, 1.54, 1.34, 0.92, 1.4000000000000001, 1.4000000000000001, 1.52, 1.82, 1.44, 1.52, 0.8200000000000001, 1.68, 1.16, 2.0, 1.56, 1.42, 1.02, 1.04, 0.42, 1.18, 1.18, 0.9, 0.88, 0.6, 0.68, 0.46, 0.42, 1.0, 2.0, 1.32, 1.1, 0.7000000000000001, 0.92, 0.72, 0.96, 0.96, 0.84, 0.46, 0.76, 1.04, 1.0, 0.8200000000000001, 0.84, 0.98, 1.84, 1.68, 2.16, 4.0, 2.16, 2.72, 2.8000000000000003, 1.48, 2.64, 2.7600000000000002, 2.0, 1.76, 2.68, 2.08, 1.44, 1.56, 1.68, 1.68, 1.72, 2.12, 1.12, 1.92, 1.44, 1.24, 1.2, 1.84, 1.4000000000000001, 1.6, 1.4000000000000001, 1.44, 1.12, 2.68, 2.85, 3.0, 1.5, 1.83, 2.07, 1.68, 1.59, 1.62, 0.9, 0.0, 1.56, 1.1400000000000001, 1.1400000000000001, 1.77, 1.95, 0.45, 1.17, 1.44, 1.23, 1.5, 1.1400000000000001, 0.75, 1.5, 1.44, 1.53, 1.74, 1.59, 1.71, 1.71, 0.87, 1.8900000000000001, 1.92, 1.24, 0.9400000000000001, 1.6, 1.6600000000000001, 0.88, 0.84, 0.74, 1.0, 1.06, 1.02, 1.4000000000000001, 0.8200000000000001, 1.1400000000000001, 1.18, 0.84, 1.28, 1.62, 1.48, 0.58, 1.34, 1.52, 0.92, 0.74, 1.08, 0.88, 0.8200000000000001, 1.3, 2.0, 1.28, 1.5, 1.11, 1.59, 0.51, 1.59, 1.35, 1.2, 1.11, 1.47, 1.47, 0.75, 1.02, 1.05, 0.93, 1.23, 1.32, 1.77, 1.68, 1.62, 1.8900000000000001, 1.6500000000000001, 1.62, 2.34, 2.31, 3.0, 1.86, 1.29, 1.23, 2.0100000000000002, 2.0100000000000002, 2.49, 1.2, 2.22, 2.2800000000000002, 3.0, 1.83, 2.34, 2.07, 1.32, 1.86, 1.3800000000000001, 1.32, 1.1400000000000001, 0.9, 1.62, 0.84, 1.08, 0.93, 1.3800000000000001, 1.86, 2.16, 1.71, 1.53, 1.56, 1.8900000000000001, 1.17, 2.22, 2.2800000000000002, 2.34, 1.86, 2.04, 1.59, 1.62, 1.59, 1.11, 2.22, 1.1400000000000001, 1.11, 2.0100000000000002, 2.64, 3.0, 2.31, 1.77, 1.11, 1.1400000000000001, 2.0100000000000002, 1.44, 1.95, 2.0100000000000002, 1.11, 1.53, 2.04, 1.47, 2.07, 0.6, 1.77, 1.74, 1.71, 0.66, 1.41, 1.6500000000000001, 1.8900000000000001, 1.6500000000000001, 1.62, 2.25, 1.8900000000000001, 1.62, 2.1, 2.2800000000000002, 2.46, 1.6500000000000001, 1.83, 1.83, 2.31, 1.59, 1.3800000000000001, 1.68, 3.0, 1.95, 1.8, 1.83, 1.35, 1.26, 2.7600000000000002, 2.49, 1.5, 2.34, 2.13, 1.68, 1.5, 1.56, 1.68, 2.13, 1.26, 1.29, 1.83, 0.63, 1.5, 0.99, 1.17, 1.05, 1.29, 1.98, 1.26, 1.26, 1.3800000000000001, 1.02, 0.45, 1.6500000000000001, 1.8900000000000001, 1.74, 1.29, 1.77, 1.53, 1.47, 3.0, 1.1400000000000001, 1.3800000000000001, 1.17, 1.2, 1.02, 1.71, 2.64, 2.31, 2.25, 1.83, 2.67, 2.22, 2.07, 1.71, 2.91, 3.0, 1.68, 2.4, 1.74, 1.44, 1.35, 1.95, 1.32, 2.13, 0.39, 1.6500000000000001, 1.8, 2.61, 2.04, 1.47, 1.5, 0.84, 1.98, 2.43, 2.79, 1.59, 2.58, 2.79, 2.64, 1.44, 2.4, 2.0100000000000002, 3.0, 2.22, 2.5500000000000003, 2.46, 2.34, 2.58, 1.6500000000000001, 1.83, 1.02, 1.62, 1.8, 2.37, 2.04, 2.46, 0.84, 1.92, 1.8900000000000001, 2.25, 2.37, 2.67, 1.29, 2.04, 2.16, 1.8900000000000001, 1.6500000000000001, 0.72, 3.0, 2.22, 1.47, 1.29, 1.8900000000000001, 1.8, 1.29, 1.29, 1.71, 2.19, 2.13, 1.2, 1.11, 0.87, 1.29, 1.32, 1.11, 1.32, 0.63, 1.8, 0.9, 0.75, 1.1400000000000001, 0.87, 1.02, 0.78, 1.62, 1.53, 1.47, 1.3800000000000001, 2.08, 2.04, 1.92, 2.6, 1.2, 2.0, 1.84, 1.68, 1.32, 1.68, 2.52, 2.68, 2.56, 1.8, 2.72, 2.04, 2.36, 2.72, 2.32, 1.6400000000000001, 2.0, 1.72, 1.36, 4.0, 3.64, 2.6, 2.2, 2.0, 1.68, 2.48, 2.46, 1.95, 3.0, 1.77, 2.64, 2.43, 2.52, 1.92, 1.56, 2.25, 2.07, 1.68, 2.07, 2.07, 1.56, 1.68, 2.5500000000000003, 1.74, 1.3800000000000001, 1.3800000000000001, 2.19, 1.86, 2.16, 1.68, 1.29, 1.98, 1.86, 2.22, 2.4, 1.26, 2.4, 1.41, 1.41, 2.7, 3.0, 1.08, 2.7, 1.17, 1.71, 1.8900000000000001, 1.56, 1.56, 0.84, 0.96, 1.05, 0.99, 1.32, 1.92, 1.59, 1.41, 1.35, 1.44, 0.93, 0.9, 1.5, 1.77, 1.77, 0.5700000000000001, 0.66, 1.74, 0.87, 1.77, 1.1400000000000001, 1.1400000000000001, 3.0, 2.46, 1.77, 1.83, 2.46, 2.1, 1.98, 1.68, 2.0100000000000002, 2.04, 2.5500000000000003, 1.83, 2.22, 1.86, 2.07, 1.8900000000000001, 1.68, 1.47, 1.8900000000000001, 1.77, 1.56, 1.6500000000000001, 1.08, 1.86, 2.16, 0.87, 1.44, 1.41, 3.36, 0.84, 1.76, 1.4000000000000001, 2.0, 2.08, 4.0, 1.68, 2.2800000000000002, 1.6, 2.92, 2.04, 1.96, 3.4, 0.36, 1.8800000000000001, 1.4000000000000001, 2.04, 1.72, 1.8, 2.4, 1.32, 2.7600000000000002, 1.96, 1.56, 1.72, 1.6, 2.24, 2.92, 0.88, 2.24, 1.76, 2.84, 2.6, 2.36, 4.0, 2.16, 1.52, 2.12, 3.0, 2.6, 2.36, 3.08, 1.96, 2.56, 2.12, 2.2, 2.52, 1.84, 2.56, 1.96, 2.52, 1.96, 2.2, 2.36, 2.12, 3.16, 1.84, 3.04, 2.96, 2.16, 1.56, 2.24, 2.7600000000000002, 1.4000000000000001, 1.92, 1.96, 1.96, 2.56, 2.12, 3.52, 2.44, 2.8000000000000003, 2.2, 2.0, 1.96, 2.2, 1.6, 2.88, 2.6, 2.56, 1.24, 2.84, 2.88, 3.4, 2.84, 2.7600000000000002, 3.64, 4.0, 3.0, 1.6400000000000001, 3.36, 2.4, 4.26, 4.5600000000000005, 5.7, 6.0, 3.72, 5.82, 3.36, 3.36, 3.0, 3.48, 3.66, 3.06, 3.7800000000000002, 3.72, 3.12, 3.6, 3.06, 3.24, 3.3000000000000003, 2.22, 1.98, 3.66, 2.58, 2.4, 3.0, 2.88, 3.3000000000000003, 2.46, 2.64, 2.88, 2.5, 3.0500000000000003, 3.4, 3.75, 3.15, 3.45, 3.5500000000000003, 3.15, 2.7, 2.8000000000000003, 3.35, 2.8000000000000003, 2.2, 3.35, 2.15, 2.2, 2.5500000000000003, 3.0, 2.35, 2.95, 2.5, 3.15, 3.4, 5.0, 3.0500000000000003, 4.1, 2.9, 3.5, 4.68, 3.7800000000000002, 4.38, 5.76, 5.28, 4.08, 5.16, 5.5200000000000005, 4.44, 5.28, 6.0, 1.2, 3.72, 3.7800000000000002, 3.7800000000000002, 4.2, 4.8, 5.4, 5.4, 4.38, 4.98, 3.66, 4.0200000000000005, 3.12, 3.72, 4.5, 4.32, 3.24, 2.22, 3.66, 3.12, 3.25, 3.15, 2.15, 3.5, 5.0, 4.75, 2.65, 4.4, 3.7, 4.15, 4.3500000000000005, 2.75, 3.15, 3.3000000000000003, 2.15, 1.1, 2.8000000000000003, 2.8000000000000003, 2.65, 2.9, 0.75, 2.6, 2.0, 2.05, 3.0, 3.3000000000000003, 3.7, 3.8000000000000003, 3.5, 4.1, 1.6500000000000001, 2.86, 3.19, 2.86, 3.74, 3.74, 3.41, 2.86, 4.29, 4.95, 4.4, 6.82, 11.0, 6.93, 6.49, 7.37, 5.17, 5.5, 5.94, 5.28, 4.18, 7.8100000000000005, 6.6000000000000005, 9.46, 9.46, 9.02, 7.26, 5.5, 5.28, 6.2700000000000005, 6.16, 6.71, 7.26, 6.93, 5.83, 6.49, 10.78, 9.35, 7.04, 6.82, 8.36, 7.7, 8.03, 7.15, 6.2700000000000005, 8.8, 6.82, 8.69, 6.2700000000000005, 5.94, 4.95, 6.6000000000000005, 6.71, 6.71, 5.28, 6.2700000000000005, 6.82, 10.01, 11.0, 6.6000000000000005, 6.16, 4.32, 5.64, 6.0, 5.4, 6.72, 6.96, 6.0, 6.0, 5.88, 6.24, 7.32, 6.24, 5.88, 6.0, 8.16, 7.5600000000000005, 6.12, 5.5200000000000005, 5.04, 6.24, 6.0, 5.4, 6.12, 5.28, 6.36, 5.16, 6.24, 12.0, 10.32, 6.36, 7.8, 19.0, 16.4, 11.4, 10.0, 13.200000000000001, 11.0, 12.6, 13.6, 11.8, 10.8, 11.200000000000001, 13.6, 17.400000000000002, 20.0, 19.2, 16.4, 16.0, 15.6, 14.4, 14.0, 13.8, 14.8, 14.0, 13.6, 14.0, 12.0, 10.6, 12.0, 14.6, 14.4, 15.6, 16.0, 12.25, 14.5, 17.0, 17.5, 19.0, 15.75, 15.75, 14.75, 14.5, 15.0, 14.25, 19.5, 23.5, 25.0, 18.0, 14.75, 14.5, 16.25, 13.0, 12.5, 13.0, 12.75, 10.25, 11.25, 11.0, 13.5, 12.25, 12.5, 11.0, 18.2, 20.16, 15.4, 15.4, 16.240000000000002, 15.4, 14.84, 16.8, 16.52, 17.080000000000002, 16.52, 23.240000000000002, 25.48, 26.32, 20.16, 24.080000000000002, 22.400000000000002, 20.16, 21.56, 23.52, 28.0, 23.240000000000002, 26.32, 25.76, 24.36, 22.96, 22.400000000000002, 18.2, 21.56, 19.32, 23.240000000000002, 19.27, 19.740000000000002, 19.27, 14.1, 15.98, 14.57, 15.98, 18.330000000000002, 15.98, 17.86, 17.86, 22.09, 16.45, 15.51, 13.63, 15.51, 15.51, 14.1, 12.69, 15.040000000000001, 15.98, 13.63, 12.69, 12.69, 13.16, 16.45, 20.68, 24.44, 47.0, 39.01, 34.0, 29.0, 25.0, 25.0, 30.0, 45.0, 69.0, 66.0, 46.0, 53.0, 100.0, 76.0, 55.0, 46.0, 41.0, 41.0, 42.0, 43.0, 46.0, 52.0, 39.0, 81.0, 58.0, 47.0, 46.0, 39.0, 38.0, 34.0, 30.0, 29.0, 27.0, 32.24, 37.96, 35.88, 31.720000000000002, 35.36, 28.6, 32.76, 33.8, 35.36, 31.720000000000002, 38.480000000000004, 32.76, 28.6, 29.12, 27.560000000000002, 50.96, 52.0, 39.52, 29.12, 26.52, 22.88, 29.64, 26.52, 23.92, 23.400000000000002, 24.96, 20.8, 20.8, 21.32, 23.400000000000002, 26.0, 24.6, 33.62, 21.73, 18.45, 29.52, 34.03, 27.47, 20.91, 20.09, 17.22, 13.530000000000001, 16.81, 15.58, 41.0, 36.49, 22.55, 22.96, 17.63, 17.22, 17.22, 18.86, 18.04, 15.99, 13.94, 11.48, 12.71, 13.94, 11.48, 10.32, 11.28, 7.68, 8.16, 7.44, 9.84, 9.6, 10.08, 11.28, 8.64, 8.16, 10.08, 9.6, 9.84, 11.28, 10.8, 8.88, 9.120000000000001, 10.32, 10.08, 9.6, 8.88, 9.120000000000001, 6.96, 24.0, 19.2, 13.68, 10.8, 13.92, 12.24, 9.6, 19.0, 14.63, 15.96, 14.44, 16.34, 14.25, 12.540000000000001, 10.83, 14.25, 12.540000000000001, 13.68, 14.06, 15.01, 10.83, 11.02, 12.73, 13.3, 11.21, 12.540000000000001, 13.870000000000001, 12.92, 12.16, 15.77, 14.25, 13.3, 12.16, 12.73, 9.31, 10.450000000000001, 9.5, 9.38, 11.06, 11.48, 12.74, 11.34, 8.68, 9.1, 11.48, 9.94, 10.08, 11.06, 10.36, 7.28, 14.0, 11.34, 9.52, 8.540000000000001, 10.36, 8.4, 7.7, 7.7, 8.4, 9.24, 9.24, 7.7, 7.98, 7.98, 7.84, 9.1, 7.42, 8.4, 10.34, 7.8100000000000005, 7.26, 8.47, 8.25, 6.93, 6.82, 6.16, 8.25, 8.25, 11.0, 10.23, 10.78, 8.58, 9.24, 7.8100000000000005, 7.37, 8.8, 9.24, 8.47, 6.82, 7.48, 7.92, 8.47, 9.13, 9.02, 8.69, 9.02, 9.68, 7.92, 5.2, 5.4, 4.7, 5.8, 5.0, 3.5, 4.7, 5.7, 5.2, 5.0, 5.4, 4.5, 5.7, 4.7, 3.9, 5.3, 7.0, 6.3, 5.2, 6.9, 5.1000000000000005, 4.6000000000000005, 6.1000000000000005, 10.0, 9.1, 7.3, 7.1000000000000005, 5.9, 5.8, 5.3, 7.0, 9.68, 9.02, 7.26, 8.03, 9.46, 9.790000000000001, 8.58, 10.78, 9.13, 8.58, 10.01, 8.03, 10.23, 9.24, 9.790000000000001, 9.02, 7.7, 7.04, 8.25, 9.68, 9.02, 10.89, 10.120000000000001, 9.9, 6.49, 8.91, 7.59, 10.23, 11.0, 10.450000000000001, 9.790000000000001, 5.39, 7.04, 7.37, 7.7, 9.68, 8.69, 7.8100000000000005, 6.71, 7.15, 7.59, 7.37, 10.78, 8.36, 7.15, 5.61, 5.94, 7.37, 6.71, 11.0, 7.48, 9.02, 5.72, 5.0600000000000005, 5.28, 8.03, 7.26, 6.49, 7.7, 4.73, 6.2700000000000005, 6.7, 7.3, 6.6000000000000005, 7.6000000000000005, 6.2, 6.5, 4.6000000000000005, 6.5, 6.8, 8.1, 9.5, 8.9, 4.7, 6.5, 10.0, 9.9, 9.0, 8.6, 7.9, 6.5, 5.5, 6.6000000000000005, 7.0, 7.9, 7.1000000000000005, 6.8, 6.8, 6.6000000000000005, 5.3, 7.6000000000000005, 8.700000000000001, 7.28, 6.44, 6.58, 7.140000000000001, 7.42, 7.140000000000001, 7.5600000000000005, 6.58, 7.140000000000001, 6.72, 6.44, 6.3, 9.66, 10.64, 10.78, 9.94, 7.7, 7.84, 12.6, 14.0, 10.92, 9.8, 9.1, 8.96, 12.74, 12.46, 13.58, 11.620000000000001, 10.78, 9.24, 14.0, 7.7, 8.540000000000001, 7.98, 7.5600000000000005, 9.38, 10.64, 7.98, 7.98, 8.26, 7.0, 6.0200000000000005, 6.3, 7.42, 7.140000000000001, 5.6000000000000005, 7.0, 5.32, 8.120000000000001, 9.1, 8.26, 6.58, 7.5600000000000005, 6.86, 5.88, 8.120000000000001, 7.28, 7.0, 9.1, 6.72, 6.3, 8.64, 9.48, 9.48, 10.200000000000001, 11.4, 9.6, 9.72, 9.120000000000001, 10.92, 9.84, 9.84, 6.84, 6.48, 12.0, 11.4, 10.08, 11.88, 11.28, 7.44, 7.8, 7.68, 6.36, 7.08, 7.68, 6.36, 6.6000000000000005, 5.28, 7.44, 7.08, 6.84, 6.48, 7.5600000000000005, 6.6000000000000005, 7.08, 8.76, 12.0, 10.56, 8.52, 7.68, 6.84, 5.88, 8.040000000000001, 7.5600000000000005, 9.24, 9.36, 9.48, 5.88, 5.76, 11.040000000000001, 10.200000000000001, 10.92, 8.76, 9.120000000000001, 8.76, 8.76, 10.08, 8.28, 7.2, 7.5600000000000005, 8.4, 6.72, 4.32, 7.8, 9.48, 8.4, 8.88, 8.16, 7.92, 7.5600000000000005, 7.92, 7.92, 9.48, 8.16, 9.84, 8.88, 7.08, 7.8, 9.84, 9.24, 9.84, 8.76, 7.2, 7.32, 8.88, 8.64, 9.72, 12.0, 9.6, 5.76, 7.2, 9.28, 15.36, 16.0, 14.4, 12.16, 10.08, 9.92, 10.24, 10.24, 10.4, 9.92, 8.8, 6.5600000000000005, 6.5600000000000005, 9.76, 9.28, 11.84, 10.72, 8.16, 7.2, 6.72, 8.48, 11.200000000000001, 10.72, 11.52, 9.76, 7.04, 7.84, 8.16, 9.6, 11.4, 10.200000000000001, 12.4, 9.8, 9.8, 11.0, 11.8, 12.200000000000001, 12.4, 11.8, 14.200000000000001, 16.2, 14.200000000000001, 20.0, 17.8, 14.4, 16.2, 12.0, 11.8, 14.0, 11.6, 11.0, 10.6, 12.200000000000001, 9.8, 8.0, 14.0, 11.8, 11.4, 14.0, 10.4, 8.16, 7.44, 8.64, 11.52, 10.08, 8.64, 8.64, 5.5200000000000005, 8.16, 7.92, 8.16, 7.68, 7.68, 8.16, 8.88, 10.56, 10.32, 11.52, 10.8, 10.08, 11.28, 17.28, 12.24, 13.200000000000001, 13.92, 24.0, 18.96, 16.080000000000002, 12.72, 12.0, 22.77, 23.0, 18.86, 18.86, 19.55, 15.870000000000001, 15.18, 15.64, 21.16, 19.32, 19.32, 18.17, 13.57, 15.64, 18.17, 19.32, 21.16, 19.32, 16.79, 14.950000000000001, 13.34, 17.25, 18.63, 16.79, 15.64, 12.88, 10.81, 11.040000000000001, 13.57, 13.57, 13.8, 12.98, 15.18, 12.98, 13.64, 19.8, 22.0, 18.92, 16.28, 16.72, 13.64, 12.32, 15.84, 17.16, 15.620000000000001, 17.82, 12.98, 13.64, 11.0, 16.28, 14.52, 17.38, 15.18, 14.3, 11.0, 10.34, 14.08, 16.94, 17.38, 18.7, 17.82, 9.02, 8.64, 14.24, 15.68, 15.68, 13.280000000000001, 13.44, 9.44, 9.6, 10.72, 9.120000000000001, 11.68, 11.52, 10.24, 8.32, 8.48, 9.28, 8.8, 8.8, 10.72, 9.76, 7.2, 7.84, 10.4, 13.120000000000001, 16.0, 14.72, 13.280000000000001, 8.8, 7.68, 12.96, 14.280000000000001, 12.92, 14.450000000000001, 11.9, 10.200000000000001, 9.35, 12.24, 10.88, 13.6, 14.620000000000001, 14.280000000000001, 11.9, 10.370000000000001, 11.73, 13.77, 15.13, 14.280000000000001, 13.43, 10.370000000000001, 9.86, 11.9, 11.56, 15.64, 13.6, 12.58, 17.0, 15.98, 15.98, 11.05, 12.07, 11.9, 9.620000000000001, 8.58, 8.45, 9.88, 9.88, 9.620000000000001, 9.23, 9.620000000000001, 8.32, 8.19, 9.36, 8.97, 8.97, 8.19, 8.58, 7.67, 7.8, 8.84, 9.75, 9.36, 11.05, 13.0, 9.88, 9.49, 12.870000000000001, 11.57, 10.66, 10.14, 9.49, 8.58, 7.37, 8.25, 7.92, 9.46, 7.7, 8.58, 6.93, 7.26, 6.6000000000000005, 8.69, 6.6000000000000005, 8.25, 7.92, 8.14, 6.82, 6.71, 9.57, 9.13, 11.0, 9.68, 6.71, 8.25, 9.24, 9.68, 10.120000000000001, 7.92, 7.15, 9.24, 7.48, 8.25, 7.7, 9.76, 7.84, 9.92, 9.76, 8.64, 11.200000000000001, 11.84, 14.56, 12.64, 14.24, 11.52, 9.44, 10.72, 12.96, 13.44, 12.48, 12.96, 13.280000000000001, 15.68, 12.48, 12.8, 10.88, 10.24, 10.56, 8.32, 8.32, 10.88, 14.88, 14.88, 16.0, 11.040000000000001, 11.88, 9.72, 11.700000000000001, 12.06, 12.6, 13.14, 12.780000000000001, 12.6, 13.32, 13.5, 16.02, 18.0, 16.2, 15.48, 13.32, 13.68, 13.68, 13.68, 12.6, 14.76, 12.06, 8.82, 11.700000000000001, 11.700000000000001, 13.14, 14.22, 12.780000000000001, 13.68, 10.8, 8.88, 9.120000000000001, 7.92, 8.4, 10.08, 9.84, 8.4, 8.64, 13.200000000000001, 9.6, 10.32, 16.8, 24.0, 18.48, 16.32, 17.28, 15.6, 14.88, 17.52, 17.52, 13.92, 12.24, 13.200000000000001, 15.84, 12.96, 12.96, 12.0, 12.96, 12.24, 12.24, 11.76, 10.290000000000001, 12.6, 12.39, 12.6, 11.34, 12.39, 15.120000000000001, 14.49, 12.81, 13.23, 12.18, 13.23, 15.120000000000001, 12.6, 11.97, 12.6, 11.55, 10.5, 12.81, 10.71, 12.81, 12.39, 13.44, 14.91, 13.23, 11.76, 12.81, 12.6, 18.48, 21.0, 13.5, 15.0, 14.5, 13.25, 12.25, 16.0, 19.0, 18.5, 17.25, 22.0, 25.0, 17.5, 13.75, 16.75, 15.75, 14.5, 13.25, 13.5, 11.75, 12.0, 13.25, 13.25, 10.25, 12.75, 10.75, 10.5, 11.25, 11.25, 10.5, 11.0, 10.5, 11.73, 17.0, 10.88, 10.540000000000001, 9.52, 9.01, 8.67, 10.200000000000001, 9.86, 10.88, 11.9, 9.86, 9.01, 8.84, 9.69, 9.86, 10.71, 9.18, 9.18, 7.82, 7.140000000000001, 9.01, 9.86, 8.16, 9.01, 7.99, 7.82, 8.5, 9.69, 7.48, 8.1, 7.92, 8.1, 7.2, 7.5600000000000005, 7.74, 6.84, 7.2, 8.64, 7.74, 8.82, 11.16, 10.08, 10.26, 11.700000000000001, 13.68, 8.82, 9.9, 12.42, 10.8, 12.42, 10.08, 11.88, 8.28, 8.1, 9.18, 14.040000000000001, 18.0, 14.22, 13.5, 13.86, 19.6, 20.0, 17.8, 14.6, 15.0, 17.400000000000002, 16.2, 12.6, 12.4, 15.6, 16.6, 13.8, 13.0, 11.8, 13.4, 12.4, 13.8, 16.4, 15.200000000000001, 15.200000000000001, 12.0, 13.4, 13.6, 11.200000000000001, 11.6, 13.8, 11.8, 12.8, 11.0, 11.0, 11.200000000000001, 11.620000000000001, 10.08, 12.6, 14.0, 13.3, 12.040000000000001, 11.34, 10.5, 8.96, 10.78, 9.94, 9.52, 9.24, 10.08, 10.22, 11.06, 8.96, 9.94, 7.28, 8.68, 8.26, 8.68, 9.66, 9.24, 9.52, 7.5600000000000005, 7.5600000000000005, 8.120000000000001, 8.68, 8.120000000000001, 10.4, 9.92, 9.120000000000001, 8.16, 8.64, 9.120000000000001, 8.8, 9.28, 11.68, 10.88, 9.76, 10.72, 10.4, 12.0, 8.96, 9.44, 8.48, 9.120000000000001, 10.08, 13.280000000000001, 15.36, 16.0, 12.96, 12.16, 11.68, 12.8, 14.24, 15.040000000000001, 10.88, 10.72, 14.08, 13.63, 14.21, 12.18, 14.21, 20.59, 22.04, 19.14, 18.27, 16.53, 14.790000000000001, 16.53, 20.59, 19.43, 13.34, 16.53, 19.43, 22.91, 29.0, 24.650000000000002, 23.2, 21.75, 20.3, 23.2, 26.68, 23.78, 29.0, 23.490000000000002, 20.3, 20.3, 24.650000000000002, 17.34, 15.3, 15.3, 13.6, 11.22, 14.620000000000001, 11.56, 13.6, 12.24, 11.9, 11.56, 11.9, 12.92, 11.56, 12.58, 22.78, 34.0, 20.740000000000002, 21.080000000000002, 21.42, 23.46, 19.04, 17.34, 16.32, 22.44, 25.16, 33.660000000000004, 26.18, 22.78, 29.92, 27.2]\n"
     ]
    }
   ],
   "source": [
    "gTrends = dfM['volume'].tolist()\n",
    "print(gTrends)\n"
   ]
  },
  {
   "cell_type": "code",
   "execution_count": 182,
   "metadata": {},
   "outputs": [],
   "source": [
    "# Adding indicators\n",
    "data['RSI']=ta.rsi(data.Close, length=15) ## Relative Strength Index\n",
    "data['EMAF']=ta.ema(data.Close, length=20) ## Exponential Moving Average Fast\n",
    "data['EMAM']=ta.ema(data.Close, length=100) ## Exponential Moving Average Medium\n",
    "data['EMAS']=ta.ema(data.Close, length=150) ## Exponential Moving Average Slow\n",
    "\n",
    "data['gTrends'] = gTrends ## Google Trends\n",
    "\n",
    "\n",
    "data['Target'] = data['Adj Close']-data.Open ## Target is the difference between the opening price and the future closing price\n",
    "data['Target'] = data['Target'].shift(-1) ## Shift the target by one day\n",
    "\n",
    "\n",
    "data['TargetClass'] = [1 if data.Target[i]>0 else 0 for i in range(len(data))] ## TargetClass is 1 if the price goes up and 0 if it goes down\n",
    "data['TargetNextClose'] = data['Adj Close'].shift(-1) ## TargetNextClose is the future closing price\n",
    "\n",
    "\n",
    "\n",
    "data.reset_index(inplace = True) ## Reset the index\n",
    "data.drop(['Volume', 'Close', 'Date'], axis=1, inplace=True)"
   ]
  },
  {
   "cell_type": "code",
   "execution_count": 183,
   "metadata": {},
   "outputs": [],
   "source": [
    "data.dropna(inplace=True) ## Drop the NaN values"
   ]
  },
  {
   "cell_type": "code",
   "execution_count": 184,
   "metadata": {},
   "outputs": [
    {
     "data": {
      "text/html": [
       "<div>\n",
       "<style scoped>\n",
       "    .dataframe tbody tr th:only-of-type {\n",
       "        vertical-align: middle;\n",
       "    }\n",
       "\n",
       "    .dataframe tbody tr th {\n",
       "        vertical-align: top;\n",
       "    }\n",
       "\n",
       "    .dataframe thead th {\n",
       "        text-align: right;\n",
       "    }\n",
       "</style>\n",
       "<table border=\"1\" class=\"dataframe\">\n",
       "  <thead>\n",
       "    <tr style=\"text-align: right;\">\n",
       "      <th></th>\n",
       "      <th>Open</th>\n",
       "      <th>High</th>\n",
       "      <th>Low</th>\n",
       "      <th>Adj Close</th>\n",
       "      <th>RSI</th>\n",
       "      <th>EMAF</th>\n",
       "      <th>EMAM</th>\n",
       "      <th>EMAS</th>\n",
       "      <th>gTrends</th>\n",
       "      <th>Target</th>\n",
       "      <th>TargetClass</th>\n",
       "      <th>TargetNextClose</th>\n",
       "    </tr>\n",
       "  </thead>\n",
       "  <tbody>\n",
       "    <tr>\n",
       "      <th>149</th>\n",
       "      <td>237.091995</td>\n",
       "      <td>237.093002</td>\n",
       "      <td>232.046005</td>\n",
       "      <td>233.345001</td>\n",
       "      <td>44.997251</td>\n",
       "      <td>236.674144</td>\n",
       "      <td>240.674675</td>\n",
       "      <td>245.268894</td>\n",
       "      <td>2.00</td>\n",
       "      <td>-2.944992</td>\n",
       "      <td>0</td>\n",
       "      <td>230.190002</td>\n",
       "    </tr>\n",
       "    <tr>\n",
       "      <th>150</th>\n",
       "      <td>233.134995</td>\n",
       "      <td>233.251999</td>\n",
       "      <td>229.542007</td>\n",
       "      <td>230.190002</td>\n",
       "      <td>41.186285</td>\n",
       "      <td>236.056607</td>\n",
       "      <td>240.467058</td>\n",
       "      <td>245.069174</td>\n",
       "      <td>1.56</td>\n",
       "      <td>-7.307007</td>\n",
       "      <td>0</td>\n",
       "      <td>222.925995</td>\n",
       "    </tr>\n",
       "    <tr>\n",
       "      <th>151</th>\n",
       "      <td>230.233002</td>\n",
       "      <td>231.712997</td>\n",
       "      <td>221.296005</td>\n",
       "      <td>222.925995</td>\n",
       "      <td>34.068533</td>\n",
       "      <td>234.806073</td>\n",
       "      <td>240.119710</td>\n",
       "      <td>244.775886</td>\n",
       "      <td>1.42</td>\n",
       "      <td>2.908997</td>\n",
       "      <td>1</td>\n",
       "      <td>225.802994</td>\n",
       "    </tr>\n",
       "    <tr>\n",
       "      <th>152</th>\n",
       "      <td>222.893997</td>\n",
       "      <td>226.416000</td>\n",
       "      <td>222.419006</td>\n",
       "      <td>225.802994</td>\n",
       "      <td>38.573317</td>\n",
       "      <td>233.948637</td>\n",
       "      <td>239.836210</td>\n",
       "      <td>244.524590</td>\n",
       "      <td>1.02</td>\n",
       "      <td>0.138000</td>\n",
       "      <td>1</td>\n",
       "      <td>225.873993</td>\n",
       "    </tr>\n",
       "    <tr>\n",
       "      <th>153</th>\n",
       "      <td>225.735992</td>\n",
       "      <td>227.404007</td>\n",
       "      <td>223.929993</td>\n",
       "      <td>225.873993</td>\n",
       "      <td>38.684089</td>\n",
       "      <td>233.179623</td>\n",
       "      <td>239.559731</td>\n",
       "      <td>244.277562</td>\n",
       "      <td>1.04</td>\n",
       "      <td>-1.447998</td>\n",
       "      <td>0</td>\n",
       "      <td>224.324005</td>\n",
       "    </tr>\n",
       "    <tr>\n",
       "      <th>...</th>\n",
       "      <td>...</td>\n",
       "      <td>...</td>\n",
       "      <td>...</td>\n",
       "      <td>...</td>\n",
       "      <td>...</td>\n",
       "      <td>...</td>\n",
       "      <td>...</td>\n",
       "      <td>...</td>\n",
       "      <td>...</td>\n",
       "      <td>...</td>\n",
       "      <td>...</td>\n",
       "      <td>...</td>\n",
       "    </tr>\n",
       "    <tr>\n",
       "      <th>2166</th>\n",
       "      <td>19154.179688</td>\n",
       "      <td>19390.500000</td>\n",
       "      <td>18897.894531</td>\n",
       "      <td>19345.121094</td>\n",
       "      <td>63.217136</td>\n",
       "      <td>18211.330935</td>\n",
       "      <td>14389.646971</td>\n",
       "      <td>13261.302751</td>\n",
       "      <td>14.62</td>\n",
       "      <td>-151.498047</td>\n",
       "      <td>0</td>\n",
       "      <td>19191.630859</td>\n",
       "    </tr>\n",
       "    <tr>\n",
       "      <th>2167</th>\n",
       "      <td>19343.128906</td>\n",
       "      <td>19411.828125</td>\n",
       "      <td>18931.142578</td>\n",
       "      <td>19191.630859</td>\n",
       "      <td>61.791170</td>\n",
       "      <td>18304.692832</td>\n",
       "      <td>14484.735761</td>\n",
       "      <td>13339.850143</td>\n",
       "      <td>11.56</td>\n",
       "      <td>-870.384766</td>\n",
       "      <td>0</td>\n",
       "      <td>18321.144531</td>\n",
       "    </tr>\n",
       "    <tr>\n",
       "      <th>2168</th>\n",
       "      <td>19191.529297</td>\n",
       "      <td>19283.478516</td>\n",
       "      <td>18269.945312</td>\n",
       "      <td>18321.144531</td>\n",
       "      <td>54.342808</td>\n",
       "      <td>18306.259661</td>\n",
       "      <td>14560.704251</td>\n",
       "      <td>13405.827552</td>\n",
       "      <td>13.60</td>\n",
       "      <td>233.031250</td>\n",
       "      <td>1</td>\n",
       "      <td>18553.916016</td>\n",
       "    </tr>\n",
       "    <tr>\n",
       "      <th>2169</th>\n",
       "      <td>18320.884766</td>\n",
       "      <td>18626.292969</td>\n",
       "      <td>17935.546875</td>\n",
       "      <td>18553.916016</td>\n",
       "      <td>55.866963</td>\n",
       "      <td>18329.845980</td>\n",
       "      <td>14639.777752</td>\n",
       "      <td>13474.014154</td>\n",
       "      <td>12.24</td>\n",
       "      <td>-288.306641</td>\n",
       "      <td>0</td>\n",
       "      <td>18264.992188</td>\n",
       "    </tr>\n",
       "    <tr>\n",
       "      <th>2170</th>\n",
       "      <td>18553.298828</td>\n",
       "      <td>18553.298828</td>\n",
       "      <td>17957.064453</td>\n",
       "      <td>18264.992188</td>\n",
       "      <td>53.492163</td>\n",
       "      <td>18323.669429</td>\n",
       "      <td>14711.564176</td>\n",
       "      <td>13537.470817</td>\n",
       "      <td>11.90</td>\n",
       "      <td>-205.025391</td>\n",
       "      <td>0</td>\n",
       "      <td>18058.904297</td>\n",
       "    </tr>\n",
       "  </tbody>\n",
       "</table>\n",
       "<p>2022 rows × 12 columns</p>\n",
       "</div>"
      ],
      "text/plain": [
       "              Open          High           Low     Adj Close        RSI  \\\n",
       "149     237.091995    237.093002    232.046005    233.345001  44.997251   \n",
       "150     233.134995    233.251999    229.542007    230.190002  41.186285   \n",
       "151     230.233002    231.712997    221.296005    222.925995  34.068533   \n",
       "152     222.893997    226.416000    222.419006    225.802994  38.573317   \n",
       "153     225.735992    227.404007    223.929993    225.873993  38.684089   \n",
       "...            ...           ...           ...           ...        ...   \n",
       "2166  19154.179688  19390.500000  18897.894531  19345.121094  63.217136   \n",
       "2167  19343.128906  19411.828125  18931.142578  19191.630859  61.791170   \n",
       "2168  19191.529297  19283.478516  18269.945312  18321.144531  54.342808   \n",
       "2169  18320.884766  18626.292969  17935.546875  18553.916016  55.866963   \n",
       "2170  18553.298828  18553.298828  17957.064453  18264.992188  53.492163   \n",
       "\n",
       "              EMAF          EMAM          EMAS  gTrends      Target  \\\n",
       "149     236.674144    240.674675    245.268894     2.00   -2.944992   \n",
       "150     236.056607    240.467058    245.069174     1.56   -7.307007   \n",
       "151     234.806073    240.119710    244.775886     1.42    2.908997   \n",
       "152     233.948637    239.836210    244.524590     1.02    0.138000   \n",
       "153     233.179623    239.559731    244.277562     1.04   -1.447998   \n",
       "...            ...           ...           ...      ...         ...   \n",
       "2166  18211.330935  14389.646971  13261.302751    14.62 -151.498047   \n",
       "2167  18304.692832  14484.735761  13339.850143    11.56 -870.384766   \n",
       "2168  18306.259661  14560.704251  13405.827552    13.60  233.031250   \n",
       "2169  18329.845980  14639.777752  13474.014154    12.24 -288.306641   \n",
       "2170  18323.669429  14711.564176  13537.470817    11.90 -205.025391   \n",
       "\n",
       "      TargetClass  TargetNextClose  \n",
       "149             0       230.190002  \n",
       "150             0       222.925995  \n",
       "151             1       225.802994  \n",
       "152             1       225.873993  \n",
       "153             0       224.324005  \n",
       "...           ...              ...  \n",
       "2166            0     19191.630859  \n",
       "2167            0     18321.144531  \n",
       "2168            1     18553.916016  \n",
       "2169            0     18264.992188  \n",
       "2170            0     18058.904297  \n",
       "\n",
       "[2022 rows x 12 columns]"
      ]
     },
     "execution_count": 184,
     "metadata": {},
     "output_type": "execute_result"
    }
   ],
   "source": [
    "data_set = data.iloc[:, 0:12]#.values\n",
    "pd.set_option('display.max_columns', None)\n",
    "\n",
    "data_set.head(-20)\n",
    "#print(data_set.shape)\n",
    "#print(data.shape)\n",
    "#print(type(data_set))"
   ]
  },
  {
   "cell_type": "code",
   "execution_count": 185,
   "metadata": {},
   "outputs": [
    {
     "name": "stdout",
     "output_type": "stream",
     "text": [
      "[[9.95358391e-04 3.96140978e-04 1.19581659e-03 ... 4.47033443e-01\n",
      "  0.00000000e+00 6.84062830e-04]\n",
      " [8.49612625e-04 2.62364140e-04 1.10362405e-03 ... 4.46370163e-01\n",
      "  0.00000000e+00 4.31763478e-04]\n",
      " [7.42725316e-04 2.08762847e-04 8.00021562e-04 ... 4.47923590e-01\n",
      "  1.00000000e+00 5.31689717e-04]\n",
      " ...\n",
      " [9.60248003e-01 9.46063396e-01 9.57568960e-01 ... 4.90152893e-01\n",
      "  1.00000000e+00 9.43063098e-01]\n",
      " [9.89750310e-01 9.45422876e-01 9.49456385e-01 ... 6.72658712e-01\n",
      "  1.00000000e+00 9.94416091e-01]\n",
      " [1.00000000e+00 1.00000000e+00 1.00000000e+00 ... 4.71832845e-01\n",
      "  1.00000000e+00 1.00000000e+00]]\n"
     ]
    }
   ],
   "source": [
    "from sklearn.preprocessing import MinMaxScaler ## Scale the data\n",
    "from sklearn.metrics import mean_squared_error as mse\n",
    "from sklearn.metrics import mean_absolute_error as mae\n",
    "\n",
    "\n",
    "sc = MinMaxScaler(feature_range=(0,1)) ## Scale the data between 0 and 1\n",
    "data_set_scaled = sc.fit_transform(data_set) ## Fit and transform the data\n",
    "print(data_set_scaled) ## Print the scaled data"
   ]
  },
  {
   "cell_type": "code",
   "execution_count": 186,
   "metadata": {},
   "outputs": [
    {
     "name": "stdout",
     "output_type": "stream",
     "text": [
      "2042\n",
      "[[[9.95358391e-04 3.96140978e-04 1.19581659e-03 ... 2.87270963e-04\n",
      "   1.92212322e-04 2.07835055e-04]\n",
      "  [8.49612625e-04 2.62364140e-04 1.10362405e-03 ... 2.61173918e-04\n",
      "   1.80263313e-04 1.95035604e-04]\n",
      "  [7.42725316e-04 2.08762847e-04 8.00021562e-04 ... 2.08326499e-04\n",
      "   1.60272386e-04 1.76239756e-04]\n",
      "  ...\n",
      "  [1.19837881e-03 6.27959928e-04 1.54584625e-03 ... 4.38071177e-04\n",
      "   9.16918162e-05 2.99699904e-05]\n",
      "  [1.23318511e-03 8.92309537e-04 1.60343022e-03 ... 4.81327001e-04\n",
      "   1.05438338e-04 3.71820840e-05]\n",
      "  [1.50596596e-03 8.86492898e-04 1.76237419e-03 ... 5.12498227e-04\n",
      "   1.16657251e-04 4.26188105e-05]]\n",
      "\n",
      " [[8.49612625e-04 2.62364140e-04 1.10362405e-03 ... 2.61173918e-04\n",
      "   1.80263313e-04 1.95035604e-04]\n",
      "  [7.42725316e-04 2.08762847e-04 8.00021562e-04 ... 2.08326499e-04\n",
      "   1.60272386e-04 1.76239756e-04]\n",
      "  [4.72412291e-04 2.42757631e-05 8.41368376e-04 ... 1.72091366e-04\n",
      "   1.43956132e-04 1.60134950e-04]\n",
      "  ...\n",
      "  [1.23318511e-03 8.92309537e-04 1.60343022e-03 ... 4.81327001e-04\n",
      "   1.05438338e-04 3.71820840e-05]\n",
      "  [1.50596596e-03 8.86492898e-04 1.76237419e-03 ... 5.12498227e-04\n",
      "   1.16657251e-04 4.26188105e-05]\n",
      "  [1.42368209e-03 1.09549968e-03 1.80460415e-03 ... 5.73112045e-04\n",
      "   1.36831718e-04 5.48191694e-05]]\n",
      "\n",
      " [[7.42725316e-04 2.08762847e-04 8.00021562e-04 ... 2.08326499e-04\n",
      "   1.60272386e-04 1.76239756e-04]\n",
      "  [4.72412291e-04 2.42757631e-05 8.41368376e-04 ... 1.72091366e-04\n",
      "   1.43956132e-04 1.60134950e-04]\n",
      "  [5.77089748e-04 5.86866666e-05 8.97000086e-04 ... 1.39592952e-04\n",
      "   1.28043888e-04 1.44303719e-04]\n",
      "  ...\n",
      "  [1.50596596e-03 8.86492898e-04 1.76237419e-03 ... 5.12498227e-04\n",
      "   1.16657251e-04 4.26188105e-05]\n",
      "  [1.42368209e-03 1.09549968e-03 1.80460415e-03 ... 5.73112045e-04\n",
      "   1.36831718e-04 5.48191694e-05]\n",
      "  [1.72994401e-03 1.46795692e-03 2.07576997e-03 ... 6.52133793e-04\n",
      "   1.63453791e-04 7.19577155e-05]]\n",
      "\n",
      " ...\n",
      "\n",
      " [[6.22572818e-01 6.13966544e-01 6.15271121e-01 ... 7.14344787e-01\n",
      "   7.67832987e-01 7.92524027e-01]\n",
      "  [6.44919067e-01 6.28932034e-01 6.39146392e-01 ... 7.18546569e-01\n",
      "   7.73074125e-01 7.97251218e-01]\n",
      "  [6.61813621e-01 6.79978066e-01 6.61944373e-01 ... 7.28177432e-01\n",
      "   7.79862114e-01 8.03145206e-01]\n",
      "  ...\n",
      "  [8.66426644e-01 8.52757191e-01 8.56541200e-01 ... 9.05954693e-01\n",
      "   9.41825890e-01 9.49768066e-01]\n",
      "  [9.01175983e-01 9.22691966e-01 8.95532188e-01 ... 9.25150539e-01\n",
      "   9.53034744e-01 9.59423531e-01]\n",
      "  [9.66087806e-01 9.77399697e-01 9.47080536e-01 ... 9.41855163e-01\n",
      "   9.63833889e-01 9.68811270e-01]]\n",
      "\n",
      " [[6.44919067e-01 6.28932034e-01 6.39146392e-01 ... 7.18546569e-01\n",
      "   7.73074125e-01 7.97251218e-01]\n",
      "  [6.61813621e-01 6.79978066e-01 6.61944373e-01 ... 7.28177432e-01\n",
      "   7.79862114e-01 8.03145206e-01]\n",
      "  [7.15421212e-01 6.83346374e-01 6.67231444e-01 ... 7.33579355e-01\n",
      "   7.85577927e-01 8.08262675e-01]\n",
      "  ...\n",
      "  [9.01175983e-01 9.22691966e-01 8.95532188e-01 ... 9.25150539e-01\n",
      "   9.53034744e-01 9.59423531e-01]\n",
      "  [9.66087806e-01 9.77399697e-01 9.47080536e-01 ... 9.41855163e-01\n",
      "   9.63833889e-01 9.68811270e-01]\n",
      "  [9.60248003e-01 9.46063396e-01 9.57568960e-01 ... 9.60239035e-01\n",
      "   9.75345183e-01 9.78764356e-01]]\n",
      "\n",
      " [[6.61813621e-01 6.79978066e-01 6.61944373e-01 ... 7.28177432e-01\n",
      "   7.79862114e-01 8.03145206e-01]\n",
      "  [7.15421212e-01 6.83346374e-01 6.67231444e-01 ... 7.33579355e-01\n",
      "   7.85577927e-01 8.08262675e-01]\n",
      "  [6.84775734e-01 6.64620959e-01 6.68181237e-01 ... 7.40069035e-01\n",
      "   7.91634250e-01 8.13650279e-01]\n",
      "  ...\n",
      "  [9.66087806e-01 9.77399697e-01 9.47080536e-01 ... 9.41855163e-01\n",
      "   9.63833889e-01 9.68811270e-01]\n",
      "  [9.60248003e-01 9.46063396e-01 9.57568960e-01 ... 9.60239035e-01\n",
      "   9.75345183e-01 9.78764356e-01]\n",
      "  [9.89750310e-01 9.45422876e-01 9.49456385e-01 ... 9.77989448e-01\n",
      "   9.86944935e-01 9.88821274e-01]]]\n",
      "(2012, 30, 8)\n",
      "[[0.00182615]\n",
      " [0.00167155]\n",
      " [0.00156009]\n",
      " ...\n",
      " [0.9430631 ]\n",
      " [0.99441609]\n",
      " [1.        ]]\n",
      "(2012, 1)\n"
     ]
    }
   ],
   "source": [
    "# multiple feature from data provided to the model\n",
    "X = []\n",
    "\n",
    "backcandles = 30 ## Number of previous candles(days) to consider\n",
    "print(data_set_scaled.shape[0])\n",
    "for j in range(8):#data_set_scaled[0].size):#2 columns are target not X\n",
    "    X.append([])\n",
    "    for i in range(backcandles, data_set_scaled.shape[0]):#backcandles+2\n",
    "        X[j].append(data_set_scaled[i-backcandles:i, j])\n",
    "\n",
    "#move axis from 0 to position 2\n",
    "X=np.moveaxis(X, [0], [2]) \n",
    "\n",
    "#Erase first elements of y because of backcandles to match X length\n",
    "#del(yi[0:backcandles])\n",
    "#X, yi = np.array(X), np.array(yi)\n",
    "# Choose -1 for last column, classification else -2...\n",
    "X, yi =np.array(X), np.array(data_set_scaled[backcandles:,-1])\n",
    "y=np.reshape(yi,(len(yi),1))\n",
    "#y=sc.fit_transform(yi)\n",
    "#X_train = np.reshape(X_train, (X_train.shape[0], X_train.shape[1], 1))\n",
    "print(X)\n",
    "print(X.shape)\n",
    "print(y)\n",
    "print(y.shape)"
   ]
  },
  {
   "cell_type": "code",
   "execution_count": 187,
   "metadata": {},
   "outputs": [
    {
     "name": "stdout",
     "output_type": "stream",
     "text": [
      "1609\n",
      "(1609, 30, 8)\n",
      "(403, 30, 8)\n",
      "(1609, 1)\n",
      "(403, 1)\n",
      "[[0.00182615]\n",
      " [0.00167155]\n",
      " [0.00156009]\n",
      " ...\n",
      " [0.24611952]\n",
      " [0.24963515]\n",
      " [0.23748284]]\n"
     ]
    }
   ],
   "source": [
    "# split data into train test sets\n",
    "splitlimit = int(len(X)*0.8) ## Split the data into 80% training and 20% testing\n",
    "print(splitlimit) ## Print the split limit to check\n",
    "X_train, X_test = X[:splitlimit], X[splitlimit:] ## Split the data into training and testing\n",
    "y_train, y_test = y[:splitlimit], y[splitlimit:] ## Split the data into training and testing\n",
    "print(X_train.shape) ## Print the shape of the training data\n",
    "print(X_test.shape) ## Print the shape of the testing data\n",
    "print(y_train.shape) ## Print the shape of the training data\n",
    "print(y_test.shape) ## Print the shape of the testing data\n",
    "print(y_train) ## Print the training data"
   ]
  },
  {
   "cell_type": "code",
   "execution_count": 188,
   "metadata": {},
   "outputs": [],
   "source": [
    "from keras.models import Sequential\n",
    "from keras.layers import LSTM\n",
    "from keras.layers import Dropout\n",
    "from keras.layers import Dense\n",
    "from keras.layers import TimeDistributed\n",
    "\n",
    "import tensorflow as tf\n",
    "import keras\n",
    "from keras import optimizers\n",
    "from keras.callbacks import History\n",
    "from keras.models import Model\n",
    "from keras.layers import Dense, Dropout, LSTM, Input, Activation, concatenate\n",
    "import numpy as np\n",
    "#tf.random.set_seed(20)\n",
    "np.random.seed(10)\n",
    "\n",
    "from keras.layers import *\n",
    "from keras.callbacks import ModelCheckpoint\n",
    "from keras.losses import MeanSquaredError\n",
    "from keras.metrics import RootMeanSquaredError\n",
    "from keras.optimizers import Adam"
   ]
  },
  {
   "cell_type": "code",
   "execution_count": 189,
   "metadata": {},
   "outputs": [
    {
     "name": "stderr",
     "output_type": "stream",
     "text": [
      "WARNING:absl:At this time, the v2.11+ optimizer `tf.keras.optimizers.Adam` runs slowly on M1/M2 Macs, please use the legacy Keras optimizer instead, located at `tf.keras.optimizers.legacy.Adam`.\n"
     ]
    },
    {
     "name": "stdout",
     "output_type": "stream",
     "text": [
      "Model: \"model_5\"\n",
      "_________________________________________________________________\n",
      " Layer (type)                Output Shape              Param #   \n",
      "=================================================================\n",
      " lstm_input (InputLayer)     [(None, 30, 8)]           0         \n",
      "                                                                 \n",
      " first_layer (LSTM)          (None, 30, 400)           654400    \n",
      "                                                                 \n",
      " third_layer (LSTM)          (None, 800)               3843200   \n",
      "                                                                 \n",
      " dense_layer (Dense)         (None, 1)                 801       \n",
      "                                                                 \n",
      "=================================================================\n",
      "Total params: 4498401 (17.16 MB)\n",
      "Trainable params: 4498401 (17.16 MB)\n",
      "Non-trainable params: 0 (0.00 Byte)\n",
      "_________________________________________________________________\n"
     ]
    }
   ],
   "source": [
    "lstm_input = Input(shape=(backcandles, 8), name='lstm_input')\n",
    "# Add the first LSTM layer\n",
    "lstm1 = LSTM(400, return_sequences=True, name='first_layer')(lstm_input)\n",
    "# Add a second LSTM layer\n",
    "lstm2 = LSTM(800, name='third_layer')(lstm1)\n",
    "\n",
    "# Add a Dense layer\n",
    "dense_layer = Dense(1, name='dense_layer')(lstm2)\n",
    "# Create the model\n",
    "model1 = Model(inputs=lstm_input, outputs=dense_layer)\n",
    "adam = optimizers.Adam()\n",
    "\n",
    "model1.summary()"
   ]
  },
  {
   "cell_type": "code",
   "execution_count": 190,
   "metadata": {},
   "outputs": [],
   "source": [
    "cp1 = ModelCheckpoint('model1/', save_best_only=True)\n",
    "model1.compile(loss=MeanSquaredError(), optimizer=adam, metrics=[RootMeanSquaredError()])\n"
   ]
  },
  {
   "cell_type": "code",
   "execution_count": 191,
   "metadata": {},
   "outputs": [
    {
     "name": "stdout",
     "output_type": "stream",
     "text": [
      "Epoch 1/15\n",
      "108/108 [==============================] - ETA: 0s - loss: 0.0091 - root_mean_squared_error: 0.0954INFO:tensorflow:Assets written to: model1/assets\n"
     ]
    },
    {
     "name": "stderr",
     "output_type": "stream",
     "text": [
      "INFO:tensorflow:Assets written to: model1/assets\n"
     ]
    },
    {
     "name": "stdout",
     "output_type": "stream",
     "text": [
      "108/108 [==============================] - 35s 309ms/step - loss: 0.0091 - root_mean_squared_error: 0.0954 - val_loss: 0.0048 - val_root_mean_squared_error: 0.0691\n",
      "Epoch 2/15\n",
      "108/108 [==============================] - ETA: 0s - loss: 7.1272e-04 - root_mean_squared_error: 0.0267INFO:tensorflow:Assets written to: model1/assets\n"
     ]
    },
    {
     "name": "stderr",
     "output_type": "stream",
     "text": [
      "INFO:tensorflow:Assets written to: model1/assets\n"
     ]
    },
    {
     "name": "stdout",
     "output_type": "stream",
     "text": [
      "108/108 [==============================] - 35s 323ms/step - loss: 7.1272e-04 - root_mean_squared_error: 0.0267 - val_loss: 0.0019 - val_root_mean_squared_error: 0.0435\n",
      "Epoch 3/15\n",
      "108/108 [==============================] - ETA: 0s - loss: 5.7521e-04 - root_mean_squared_error: 0.0240INFO:tensorflow:Assets written to: model1/assets\n"
     ]
    },
    {
     "name": "stderr",
     "output_type": "stream",
     "text": [
      "INFO:tensorflow:Assets written to: model1/assets\n"
     ]
    },
    {
     "name": "stdout",
     "output_type": "stream",
     "text": [
      "108/108 [==============================] - 34s 316ms/step - loss: 5.7521e-04 - root_mean_squared_error: 0.0240 - val_loss: 0.0012 - val_root_mean_squared_error: 0.0347\n",
      "Epoch 4/15\n",
      "108/108 [==============================] - ETA: 0s - loss: 5.2900e-04 - root_mean_squared_error: 0.0230INFO:tensorflow:Assets written to: model1/assets\n"
     ]
    },
    {
     "name": "stderr",
     "output_type": "stream",
     "text": [
      "INFO:tensorflow:Assets written to: model1/assets\n"
     ]
    },
    {
     "name": "stdout",
     "output_type": "stream",
     "text": [
      "108/108 [==============================] - 33s 307ms/step - loss: 5.2900e-04 - root_mean_squared_error: 0.0230 - val_loss: 0.0011 - val_root_mean_squared_error: 0.0337\n",
      "Epoch 5/15\n",
      "108/108 [==============================] - 31s 289ms/step - loss: 5.1503e-04 - root_mean_squared_error: 0.0227 - val_loss: 0.0017 - val_root_mean_squared_error: 0.0411\n",
      "Epoch 6/15\n",
      "108/108 [==============================] - 31s 287ms/step - loss: 4.0196e-04 - root_mean_squared_error: 0.0200 - val_loss: 0.0013 - val_root_mean_squared_error: 0.0367\n",
      "Epoch 7/15\n",
      "108/108 [==============================] - ETA: 0s - loss: 4.5675e-04 - root_mean_squared_error: 0.0214INFO:tensorflow:Assets written to: model1/assets\n"
     ]
    },
    {
     "name": "stderr",
     "output_type": "stream",
     "text": [
      "INFO:tensorflow:Assets written to: model1/assets\n"
     ]
    },
    {
     "name": "stdout",
     "output_type": "stream",
     "text": [
      "108/108 [==============================] - 31s 290ms/step - loss: 4.5675e-04 - root_mean_squared_error: 0.0214 - val_loss: 0.0010 - val_root_mean_squared_error: 0.0322\n",
      "Epoch 8/15\n",
      "108/108 [==============================] - ETA: 0s - loss: 3.7844e-04 - root_mean_squared_error: 0.0195INFO:tensorflow:Assets written to: model1/assets\n"
     ]
    },
    {
     "name": "stderr",
     "output_type": "stream",
     "text": [
      "INFO:tensorflow:Assets written to: model1/assets\n"
     ]
    },
    {
     "name": "stdout",
     "output_type": "stream",
     "text": [
      "108/108 [==============================] - 31s 291ms/step - loss: 3.7844e-04 - root_mean_squared_error: 0.0195 - val_loss: 8.9146e-04 - val_root_mean_squared_error: 0.0299\n",
      "Epoch 9/15\n",
      "108/108 [==============================] - ETA: 0s - loss: 3.5041e-04 - root_mean_squared_error: 0.0187INFO:tensorflow:Assets written to: model1/assets\n"
     ]
    },
    {
     "name": "stderr",
     "output_type": "stream",
     "text": [
      "INFO:tensorflow:Assets written to: model1/assets\n"
     ]
    },
    {
     "name": "stdout",
     "output_type": "stream",
     "text": [
      "108/108 [==============================] - 35s 323ms/step - loss: 3.5041e-04 - root_mean_squared_error: 0.0187 - val_loss: 7.8172e-04 - val_root_mean_squared_error: 0.0280\n",
      "Epoch 10/15\n",
      "108/108 [==============================] - 28s 263ms/step - loss: 3.3588e-04 - root_mean_squared_error: 0.0183 - val_loss: 0.0011 - val_root_mean_squared_error: 0.0327\n",
      "Epoch 11/15\n",
      "108/108 [==============================] - 28s 262ms/step - loss: 3.7710e-04 - root_mean_squared_error: 0.0194 - val_loss: 0.0013 - val_root_mean_squared_error: 0.0365\n",
      "Epoch 12/15\n",
      "108/108 [==============================] - 29s 272ms/step - loss: 3.3967e-04 - root_mean_squared_error: 0.0184 - val_loss: 7.9512e-04 - val_root_mean_squared_error: 0.0282\n",
      "Epoch 13/15\n",
      "108/108 [==============================] - 34s 314ms/step - loss: 3.3861e-04 - root_mean_squared_error: 0.0184 - val_loss: 7.8485e-04 - val_root_mean_squared_error: 0.0280\n",
      "Epoch 14/15\n",
      "108/108 [==============================] - 29s 265ms/step - loss: 2.8826e-04 - root_mean_squared_error: 0.0170 - val_loss: 0.0010 - val_root_mean_squared_error: 0.0319\n",
      "Epoch 15/15\n",
      "108/108 [==============================] - 29s 272ms/step - loss: 3.4907e-04 - root_mean_squared_error: 0.0187 - val_loss: 0.0015 - val_root_mean_squared_error: 0.0384\n"
     ]
    },
    {
     "data": {
      "text/plain": [
       "<keras.src.callbacks.History at 0x28f1da800>"
      ]
     },
     "execution_count": 191,
     "metadata": {},
     "output_type": "execute_result"
    }
   ],
   "source": [
    "model1.fit(x=X_train, y=y_train, validation_data=(X_test, y_test), batch_size=15, epochs=15, shuffle=True, validation_split = 0.1, callbacks=[cp1])"
   ]
  },
  {
   "cell_type": "code",
   "execution_count": 192,
   "metadata": {},
   "outputs": [
    {
     "name": "stderr",
     "output_type": "stream",
     "text": [
      "WARNING:absl:At this time, the v2.11+ optimizer `tf.keras.optimizers.RestoredOptimizer` runs slowly on M1/M2 Macs, please use the legacy Keras optimizer instead, located at `tf.keras.optimizers.legacy.RestoredOptimizer`.\n",
      "WARNING:absl:At this time, the v2.11+ optimizer `tf.keras.optimizers.Adam` runs slowly on M1/M2 Macs, please use the legacy Keras optimizer instead, located at `tf.keras.optimizers.legacy.Adam`.\n"
     ]
    }
   ],
   "source": [
    "from keras.models import load_model\n",
    "model1 = load_model('model1/')"
   ]
  },
  {
   "cell_type": "code",
   "execution_count": 193,
   "metadata": {},
   "outputs": [
    {
     "name": "stdout",
     "output_type": "stream",
     "text": [
      "13/13 [==============================] - 2s 100ms/step\n",
      "[0.2582571] [0.24089418]\n",
      "[0.25161415] [0.24340319]\n",
      "[0.24793519] [0.25428471]\n",
      "[0.24815363] [0.25190352]\n",
      "[0.25489074] [0.26225867]\n",
      "[0.2603692] [0.25560339]\n",
      "[0.26817912] [0.25055541]\n",
      "[0.27091208] [0.2470021]\n",
      "[0.26822442] [0.2469381]\n",
      "[0.26338243] [0.24457242]\n"
     ]
    }
   ],
   "source": [
    "y_pred = model1.predict(X_test)\n",
    "#y_pred=np.where(y_pred > 0.43, 1,0)\n",
    "for i in range(10):\n",
    "    print(y_pred[i], y_test[i])"
   ]
  },
  {
   "cell_type": "code",
   "execution_count": 194,
   "metadata": {},
   "outputs": [
    {
     "data": {
      "image/png": "[encoded data removed]",
      "text/plain": [
       "<Figure size 1152x576 with 1 Axes>"
      ]
     },
     "metadata": {
      "needs_background": "light"
     },
     "output_type": "display_data"
    },
    {
     "name": "stdout",
     "output_type": "stream",
     "text": [
      "Mean Absolute_error:  20.807478576898575\n",
      "Mean Squared Error:  0.7817200385034084\n"
     ]
    }
   ],
   "source": [
    "plt.figure(figsize=(16,8))\n",
    "plt.plot(y_test, color = 'black', label = 'Test')\n",
    "plt.plot(y_pred, color = 'green', label = 'pred')\n",
    "plt.legend()\n",
    "plt.show()\n",
    "\n",
    "\n",
    "mean_absolute_error = np.mean(tf.keras.metrics.mean_absolute_error(y_test, y_pred).numpy())\n",
    "print(\"Mean Absolute_error: \",mean_absolute_error*1000)\n",
    "mean_squared_error = np.mean(tf.keras.metrics.mean_squared_error(y_test, y_pred).numpy())\n",
    "print(\"Mean Squared Error: \",mean_squared_error*1000)\n",
    "\n",
    "\n",
    "\n"
   ]
  },
  {
   "cell_type": "code",
   "execution_count": 195,
   "metadata": {},
   "outputs": [
    {
     "name": "stdout",
     "output_type": "stream",
     "text": [
      "2042\n",
      "[[[9.95358391e-04 3.96140978e-04 1.19581659e-03 ... 1.92212322e-04\n",
      "   2.07835055e-04 2.00000000e-02]\n",
      "  [8.49612625e-04 2.62364140e-04 1.10362405e-03 ... 1.80263313e-04\n",
      "   1.95035604e-04 1.56000000e-02]\n",
      "  [7.42725316e-04 2.08762847e-04 8.00021562e-04 ... 1.60272386e-04\n",
      "   1.76239756e-04 1.42000000e-02]\n",
      "  ...\n",
      "  [1.19837881e-03 6.27959928e-04 1.54584625e-03 ... 9.16918162e-05\n",
      "   2.99699904e-05 1.00000000e-02]\n",
      "  [1.23318511e-03 8.92309537e-04 1.60343022e-03 ... 1.05438338e-04\n",
      "   3.71820840e-05 8.20000000e-03]\n",
      "  [1.50596596e-03 8.86492898e-04 1.76237419e-03 ... 1.16657251e-04\n",
      "   4.26188105e-05 8.40000000e-03]]\n",
      "\n",
      " [[8.49612625e-04 2.62364140e-04 1.10362405e-03 ... 1.80263313e-04\n",
      "   1.95035604e-04 1.56000000e-02]\n",
      "  [7.42725316e-04 2.08762847e-04 8.00021562e-04 ... 1.60272386e-04\n",
      "   1.76239756e-04 1.42000000e-02]\n",
      "  [4.72412291e-04 2.42757631e-05 8.41368376e-04 ... 1.43956132e-04\n",
      "   1.60134950e-04 1.02000000e-02]\n",
      "  ...\n",
      "  [1.23318511e-03 8.92309537e-04 1.60343022e-03 ... 1.05438338e-04\n",
      "   3.71820840e-05 8.20000000e-03]\n",
      "  [1.50596596e-03 8.86492898e-04 1.76237419e-03 ... 1.16657251e-04\n",
      "   4.26188105e-05 8.40000000e-03]\n",
      "  [1.42368209e-03 1.09549968e-03 1.80460415e-03 ... 1.36831718e-04\n",
      "   5.48191694e-05 9.80000000e-03]]\n",
      "\n",
      " [[7.42725316e-04 2.08762847e-04 8.00021562e-04 ... 1.60272386e-04\n",
      "   1.76239756e-04 1.42000000e-02]\n",
      "  [4.72412291e-04 2.42757631e-05 8.41368376e-04 ... 1.43956132e-04\n",
      "   1.60134950e-04 1.02000000e-02]\n",
      "  [5.77089748e-04 5.86866666e-05 8.97000086e-04 ... 1.28043888e-04\n",
      "   1.44303719e-04 1.04000000e-02]\n",
      "  ...\n",
      "  [1.50596596e-03 8.86492898e-04 1.76237419e-03 ... 1.16657251e-04\n",
      "   4.26188105e-05 8.40000000e-03]\n",
      "  [1.42368209e-03 1.09549968e-03 1.80460415e-03 ... 1.36831718e-04\n",
      "   5.48191694e-05 9.80000000e-03]\n",
      "  [1.72994401e-03 1.46795692e-03 2.07576997e-03 ... 1.63453791e-04\n",
      "   7.19577155e-05 1.84000000e-02]]\n",
      "\n",
      " ...\n",
      "\n",
      " [[6.22572818e-01 6.13966544e-01 6.15271121e-01 ... 7.67832987e-01\n",
      "   7.92524027e-01 2.03000000e-01]\n",
      "  [6.44919067e-01 6.28932034e-01 6.39146392e-01 ... 7.73074125e-01\n",
      "   7.97251218e-01 2.03000000e-01]\n",
      "  [6.61813621e-01 6.79978066e-01 6.61944373e-01 ... 7.79862114e-01\n",
      "   8.03145206e-01 2.46500000e-01]\n",
      "  ...\n",
      "  [8.66426644e-01 8.52757191e-01 8.56541200e-01 ... 9.41825890e-01\n",
      "   9.49768066e-01 2.24400000e-01]\n",
      "  [9.01175983e-01 9.22691966e-01 8.95532188e-01 ... 9.53034744e-01\n",
      "   9.59423531e-01 2.51600000e-01]\n",
      "  [9.66087806e-01 9.77399697e-01 9.47080536e-01 ... 9.63833889e-01\n",
      "   9.68811270e-01 3.36600000e-01]]\n",
      "\n",
      " [[6.44919067e-01 6.28932034e-01 6.39146392e-01 ... 7.73074125e-01\n",
      "   7.97251218e-01 2.03000000e-01]\n",
      "  [6.61813621e-01 6.79978066e-01 6.61944373e-01 ... 7.79862114e-01\n",
      "   8.03145206e-01 2.46500000e-01]\n",
      "  [7.15421212e-01 6.83346374e-01 6.67231444e-01 ... 7.85577927e-01\n",
      "   8.08262675e-01 1.73400000e-01]\n",
      "  ...\n",
      "  [9.01175983e-01 9.22691966e-01 8.95532188e-01 ... 9.53034744e-01\n",
      "   9.59423531e-01 2.51600000e-01]\n",
      "  [9.66087806e-01 9.77399697e-01 9.47080536e-01 ... 9.63833889e-01\n",
      "   9.68811270e-01 3.36600000e-01]\n",
      "  [9.60248003e-01 9.46063396e-01 9.57568960e-01 ... 9.75345183e-01\n",
      "   9.78764356e-01 2.61800000e-01]]\n",
      "\n",
      " [[6.61813621e-01 6.79978066e-01 6.61944373e-01 ... 7.79862114e-01\n",
      "   8.03145206e-01 2.46500000e-01]\n",
      "  [7.15421212e-01 6.83346374e-01 6.67231444e-01 ... 7.85577927e-01\n",
      "   8.08262675e-01 1.73400000e-01]\n",
      "  [6.84775734e-01 6.64620959e-01 6.68181237e-01 ... 7.91634250e-01\n",
      "   8.13650279e-01 1.53000000e-01]\n",
      "  ...\n",
      "  [9.66087806e-01 9.77399697e-01 9.47080536e-01 ... 9.63833889e-01\n",
      "   9.68811270e-01 3.36600000e-01]\n",
      "  [9.60248003e-01 9.46063396e-01 9.57568960e-01 ... 9.75345183e-01\n",
      "   9.78764356e-01 2.61800000e-01]\n",
      "  [9.89750310e-01 9.45422876e-01 9.49456385e-01 ... 9.86944935e-01\n",
      "   9.88821274e-01 2.27800000e-01]]]\n",
      "(2012, 30, 9)\n",
      "[[0.00182615]\n",
      " [0.00167155]\n",
      " [0.00156009]\n",
      " ...\n",
      " [0.9430631 ]\n",
      " [0.99441609]\n",
      " [1.        ]]\n",
      "(2012, 1)\n"
     ]
    }
   ],
   "source": [
    "# multiple feature from data provided to the model\n",
    "X = []\n",
    "\n",
    "print(data_set_scaled.shape[0])\n",
    "for j in range(9):#data_set_scaled[0].size):#2 columns are target not X\n",
    "    X.append([])\n",
    "    for i in range(backcandles, data_set_scaled.shape[0]):#backcandles+2\n",
    "        X[j].append(data_set_scaled[i-backcandles:i, j])\n",
    "\n",
    "#move axis from 0 to position 2\n",
    "X=np.moveaxis(X, [0], [2]) \n",
    "\n",
    "#Erase first elements of y because of backcandles to match X length\n",
    "#del(yi[0:backcandles])\n",
    "#X, yi = np.array(X), np.array(yi)\n",
    "# Choose -1 for last column, classification else -2...\n",
    "X, yi =np.array(X), np.array(data_set_scaled[backcandles:,-1])\n",
    "y=np.reshape(yi,(len(yi),1))\n",
    "#y=sc.fit_transform(yi)\n",
    "#X_train = np.reshape(X_train, (X_train.shape[0], X_train.shape[1], 1))\n",
    "print(X)\n",
    "print(X.shape)\n",
    "print(y)\n",
    "print(y.shape)"
   ]
  },
  {
   "cell_type": "code",
   "execution_count": 196,
   "metadata": {},
   "outputs": [
    {
     "name": "stdout",
     "output_type": "stream",
     "text": [
      "1609\n",
      "(1609, 30, 9)\n",
      "(403, 30, 9)\n",
      "(1609, 1)\n",
      "(403, 1)\n",
      "[[0.00182615]\n",
      " [0.00167155]\n",
      " [0.00156009]\n",
      " ...\n",
      " [0.24611952]\n",
      " [0.24963515]\n",
      " [0.23748284]]\n"
     ]
    }
   ],
   "source": [
    "# split data into train test sets\n",
    "splitlimit = int(len(X)*0.8) ## Split the data into 80% training and 20% testing\n",
    "print(splitlimit) ## Print the split limit to check\n",
    "X_train, X_test = X[:splitlimit], X[splitlimit:] ## Split the data into training and testing\n",
    "y_train, y_test = y[:splitlimit], y[splitlimit:] ## Split the data into training and testing\n",
    "print(X_train.shape) ## Print the shape of the training data\n",
    "print(X_test.shape) ## Print the shape of the testing data\n",
    "print(y_train.shape) ## Print the shape of the training data\n",
    "print(y_test.shape) ## Print the shape of the testing data\n",
    "print(y_train) ## Print the training data"
   ]
  },
  {
   "cell_type": "code",
   "execution_count": 197,
   "metadata": {},
   "outputs": [
    {
     "name": "stderr",
     "output_type": "stream",
     "text": [
      "WARNING:absl:At this time, the v2.11+ optimizer `tf.keras.optimizers.Adam` runs slowly on M1/M2 Macs, please use the legacy Keras optimizer instead, located at `tf.keras.optimizers.legacy.Adam`.\n"
     ]
    },
    {
     "name": "stdout",
     "output_type": "stream",
     "text": [
      "Model: \"model_6\"\n",
      "_________________________________________________________________\n",
      " Layer (type)                Output Shape              Param #   \n",
      "=================================================================\n",
      " lstm_input (InputLayer)     [(None, 30, 9)]           0         \n",
      "                                                                 \n",
      " first_layer (LSTM)          (None, 30, 400)           656000    \n",
      "                                                                 \n",
      " third_layer (LSTM)          (None, 800)               3843200   \n",
      "                                                                 \n",
      " dense_layer (Dense)         (None, 1)                 801       \n",
      "                                                                 \n",
      "=================================================================\n",
      "Total params: 4500001 (17.17 MB)\n",
      "Trainable params: 4500001 (17.17 MB)\n",
      "Non-trainable params: 0 (0.00 Byte)\n",
      "_________________________________________________________________\n"
     ]
    }
   ],
   "source": [
    "lstm_input = Input(shape=(backcandles, 9), name='lstm_input')\n",
    "# Add the first LSTM layer\n",
    "lstm1 = LSTM(400, return_sequences=True, name='first_layer')(lstm_input)\n",
    "# Add a second LSTM layer\n",
    "lstm2 = LSTM(800, name='third_layer')(lstm1)\n",
    "\n",
    "# Add a Dense layer\n",
    "dense_layer = Dense(1, name='dense_layer')(lstm2)\n",
    "# Create the model\n",
    "model1_GT = Model(inputs=lstm_input, outputs=dense_layer)\n",
    "adam = optimizers.Adam()\n",
    "\n",
    "model1_GT.summary()"
   ]
  },
  {
   "cell_type": "code",
   "execution_count": 198,
   "metadata": {},
   "outputs": [],
   "source": [
    "cp1_GT = ModelCheckpoint('model1GT/', save_best_only=True)\n",
    "model1_GT.compile(loss=MeanSquaredError(), optimizer=adam, metrics=[RootMeanSquaredError()])\n"
   ]
  },
  {
   "cell_type": "code",
   "execution_count": 199,
   "metadata": {},
   "outputs": [
    {
     "name": "stdout",
     "output_type": "stream",
     "text": [
      "Epoch 1/14\n",
      "108/108 [==============================] - ETA: 0s - loss: 0.0076 - root_mean_squared_error: 0.0870INFO:tensorflow:Assets written to: model1GT/assets\n"
     ]
    },
    {
     "name": "stderr",
     "output_type": "stream",
     "text": [
      "INFO:tensorflow:Assets written to: model1GT/assets\n"
     ]
    },
    {
     "name": "stdout",
     "output_type": "stream",
     "text": [
      "108/108 [==============================] - 37s 324ms/step - loss: 0.0076 - root_mean_squared_error: 0.0870 - val_loss: 0.0025 - val_root_mean_squared_error: 0.0499\n",
      "Epoch 2/14\n",
      "108/108 [==============================] - 30s 280ms/step - loss: 5.3573e-04 - root_mean_squared_error: 0.0231 - val_loss: 0.0033 - val_root_mean_squared_error: 0.0576\n",
      "Epoch 3/14\n",
      "108/108 [==============================] - ETA: 0s - loss: 6.1548e-04 - root_mean_squared_error: 0.0248INFO:tensorflow:Assets written to: model1GT/assets\n"
     ]
    },
    {
     "name": "stderr",
     "output_type": "stream",
     "text": [
      "INFO:tensorflow:Assets written to: model1GT/assets\n"
     ]
    },
    {
     "name": "stdout",
     "output_type": "stream",
     "text": [
      "108/108 [==============================] - 34s 317ms/step - loss: 6.1548e-04 - root_mean_squared_error: 0.0248 - val_loss: 0.0019 - val_root_mean_squared_error: 0.0434\n",
      "Epoch 4/14\n",
      "108/108 [==============================] - ETA: 0s - loss: 4.3346e-04 - root_mean_squared_error: 0.0208INFO:tensorflow:Assets written to: model1GT/assets\n"
     ]
    },
    {
     "name": "stderr",
     "output_type": "stream",
     "text": [
      "INFO:tensorflow:Assets written to: model1GT/assets\n"
     ]
    },
    {
     "name": "stdout",
     "output_type": "stream",
     "text": [
      "108/108 [==============================] - 35s 328ms/step - loss: 4.3346e-04 - root_mean_squared_error: 0.0208 - val_loss: 0.0014 - val_root_mean_squared_error: 0.0369\n",
      "Epoch 5/14\n",
      "108/108 [==============================] - ETA: 0s - loss: 3.6543e-04 - root_mean_squared_error: 0.0191INFO:tensorflow:Assets written to: model1GT/assets\n"
     ]
    },
    {
     "name": "stderr",
     "output_type": "stream",
     "text": [
      "INFO:tensorflow:Assets written to: model1GT/assets\n"
     ]
    },
    {
     "name": "stdout",
     "output_type": "stream",
     "text": [
      "108/108 [==============================] - 37s 346ms/step - loss: 3.6543e-04 - root_mean_squared_error: 0.0191 - val_loss: 0.0013 - val_root_mean_squared_error: 0.0358\n",
      "Epoch 6/14\n",
      "108/108 [==============================] - 37s 347ms/step - loss: 3.6995e-04 - root_mean_squared_error: 0.0192 - val_loss: 0.0025 - val_root_mean_squared_error: 0.0500\n",
      "Epoch 7/14\n",
      "108/108 [==============================] - ETA: 0s - loss: 4.5394e-04 - root_mean_squared_error: 0.0213INFO:tensorflow:Assets written to: model1GT/assets\n"
     ]
    },
    {
     "name": "stderr",
     "output_type": "stream",
     "text": [
      "INFO:tensorflow:Assets written to: model1GT/assets\n"
     ]
    },
    {
     "name": "stdout",
     "output_type": "stream",
     "text": [
      "108/108 [==============================] - 39s 358ms/step - loss: 4.5394e-04 - root_mean_squared_error: 0.0213 - val_loss: 0.0011 - val_root_mean_squared_error: 0.0326\n",
      "Epoch 8/14\n",
      "108/108 [==============================] - 36s 332ms/step - loss: 3.7981e-04 - root_mean_squared_error: 0.0195 - val_loss: 0.0011 - val_root_mean_squared_error: 0.0335\n",
      "Epoch 9/14\n",
      "108/108 [==============================] - 37s 347ms/step - loss: 3.7454e-04 - root_mean_squared_error: 0.0194 - val_loss: 0.0011 - val_root_mean_squared_error: 0.0333\n",
      "Epoch 10/14\n",
      "108/108 [==============================] - 38s 357ms/step - loss: 3.8162e-04 - root_mean_squared_error: 0.0195 - val_loss: 0.0050 - val_root_mean_squared_error: 0.0710\n",
      "Epoch 11/14\n",
      "108/108 [==============================] - 34s 313ms/step - loss: 3.1780e-04 - root_mean_squared_error: 0.0178 - val_loss: 0.0014 - val_root_mean_squared_error: 0.0370\n",
      "Epoch 12/14\n",
      "108/108 [==============================] - 30s 278ms/step - loss: 2.9994e-04 - root_mean_squared_error: 0.0173 - val_loss: 0.0012 - val_root_mean_squared_error: 0.0349\n",
      "Epoch 13/14\n",
      "108/108 [==============================] - 36s 338ms/step - loss: 3.0847e-04 - root_mean_squared_error: 0.0176 - val_loss: 0.0017 - val_root_mean_squared_error: 0.0418\n",
      "Epoch 14/14\n",
      "108/108 [==============================] - 38s 355ms/step - loss: 3.7157e-04 - root_mean_squared_error: 0.0193 - val_loss: 0.0015 - val_root_mean_squared_error: 0.0387\n"
     ]
    },
    {
     "data": {
      "text/plain": [
       "<keras.src.callbacks.History at 0x28cda1780>"
      ]
     },
     "execution_count": 199,
     "metadata": {},
     "output_type": "execute_result"
    }
   ],
   "source": [
    "model1_GT.fit(x=X_train, y=y_train, validation_data=(X_test, y_test), batch_size=15, epochs=14, shuffle=True, validation_split = 0.1, callbacks=[cp1_GT])"
   ]
  },
  {
   "cell_type": "code",
   "execution_count": 200,
   "metadata": {},
   "outputs": [
    {
     "name": "stderr",
     "output_type": "stream",
     "text": [
      "WARNING:absl:At this time, the v2.11+ optimizer `tf.keras.optimizers.RestoredOptimizer` runs slowly on M1/M2 Macs, please use the legacy Keras optimizer instead, located at `tf.keras.optimizers.legacy.RestoredOptimizer`.\n",
      "WARNING:absl:At this time, the v2.11+ optimizer `tf.keras.optimizers.Adam` runs slowly on M1/M2 Macs, please use the legacy Keras optimizer instead, located at `tf.keras.optimizers.legacy.Adam`.\n"
     ]
    }
   ],
   "source": [
    "model1_GT = load_model('model1GT/')"
   ]
  },
  {
   "cell_type": "code",
   "execution_count": 253,
   "metadata": {},
   "outputs": [
    {
     "name": "stdout",
     "output_type": "stream",
     "text": [
      "13/13 [==============================] - 2s 121ms/step\n",
      "[0.2571369] [0.24089418]\n",
      "[0.25110853] [0.24340319]\n",
      "[0.24791859] [0.25428471]\n",
      "[0.24841316] [0.25190352]\n",
      "[0.25415686] [0.26225867]\n",
      "[0.25877765] [0.25560339]\n",
      "[0.2651297] [0.25055541]\n",
      "[0.26676932] [0.2470021]\n",
      "[0.26330534] [0.2469381]\n",
      "[0.2580133] [0.24457242]\n"
     ]
    }
   ],
   "source": [
    "y_pred = model1_GT.predict(X_test)\n",
    "#y_pred=np.where(y_pred > 0.43, 1,0)\n",
    "for i in range(10):\n",
    "    print(y_pred[i], y_test[i])"
   ]
  },
  {
   "cell_type": "code",
   "execution_count": 202,
   "metadata": {},
   "outputs": [
    {
     "data": {
      "image/png": "[encoded data removed]",
      "text/plain": [
       "<Figure size 1152x576 with 1 Axes>"
      ]
     },
     "metadata": {
      "needs_background": "light"
     },
     "output_type": "display_data"
    },
    {
     "name": "stdout",
     "output_type": "stream",
     "text": [
      "Mean Absolute_error:  18.238183110952377\n",
      "Mean Squared Error:  1.0649076430127025\n"
     ]
    }
   ],
   "source": [
    "plt.figure(figsize=(16,8))\n",
    "plt.plot(y_test, color = 'black', label = 'Test')\n",
    "plt.plot(y_pred, color = 'green', label = 'pred')\n",
    "plt.legend()\n",
    "plt.show()\n",
    "\n",
    "\n",
    "mean_absolute_error = np.mean(tf.keras.metrics.mean_absolute_error(y_test, y_pred).numpy())\n",
    "print(\"Mean Absolute_error: \",mean_absolute_error*1000)\n",
    "mean_squared_error = np.mean(tf.keras.metrics.mean_squared_error(y_test, y_pred).numpy())\n",
    "print(\"Mean Squared Error: \",mean_squared_error*1000)\n",
    "\n",
    "\n",
    "\n",
    "\n",
    "\n"
   ]
  },
  {
   "cell_type": "code",
   "execution_count": 255,
   "metadata": {},
   "outputs": [
    {
     "data": {
      "image/png": "[encoded data removed]",
      "text/plain": [
       "<Figure size 1152x576 with 1 Axes>"
      ]
     },
     "metadata": {
      "needs_background": "light"
     },
     "output_type": "display_data"
    }
   ],
   "source": [
    "import matplotlib.pyplot as plt\n",
    "\n",
    "# Your code to create 'y_train', 'y_test', and 'y_pred'...\n",
    "start_point = len(y_train)  # Adjust 1609 to the desired starting point\n",
    "\n",
    "plt.figure(figsize=(16, 8))\n",
    "\n",
    "# Plot the 'Train' segment in red\n",
    "plt.plot(y_train, color='black', label='Train')\n",
    "\n",
    "# Plot the 'Test' segment in black\n",
    "plt.plot(range(start_point, start_point + len(y_pred)), y_test, color='red', label='Test')\n",
    "\n",
    "# Plot the 'pred' segment starting from 'start_point' in green\n",
    "plt.plot(range(start_point, start_point + len(y_pred)), y_pred, color='green', label='pred')\n",
    "\n",
    "plt.legend()\n",
    "plt.show()\n"
   ]
  }
 ],
 "metadata": {
  "kernelspec": {
   "display_name": "Python 3",
   "language": "python",
   "name": "python3"
  },
  "language_info": {
   "codemirror_mode": {
    "name": "ipython",
    "version": 3
   },
   "file_extension": ".py",
   "mimetype": "text/x-python",
   "name": "python",
   "nbconvert_exporter": "python",
   "pygments_lexer": "ipython3",
   "version": "3.10.0"
  },
  "orig_nbformat": 4
 },
 "nbformat": 4,
 "nbformat_minor": 2
}
