{
 "cells": [
  {
   "cell_type": "code",
   "execution_count": 129,
   "metadata": {},
   "outputs": [
    {
     "name": "stdout",
     "output_type": "stream",
     "text": [
      "[*********************100%%**********************]  1 of 1 completed\n"
     ]
    },
    {
     "data": {
      "text/plain": [
       "(2853, 6)"
      ]
     },
     "execution_count": 129,
     "metadata": {},
     "output_type": "execute_result"
    }
   ],
   "source": [
    "import tensorflow as tf\n",
    "import numpy as np\n",
    "import matplotlib.pyplot as plt\n",
    "import csv\n",
    "import pandas as pd\n",
    "import pandas_ta as ta ## Technical Analysis Indicators\n",
    "import yfinance as yf\n",
    "from pytrends.request import TrendReq\n",
    "\n",
    "\n",
    "data = yf.download(tickers = 'BTC-USD', start = '2014-09-17',end = '2022-07-10')\n",
    "data.to_csv('modules/data/currencies/bitcoin/btc_dates_daily.csv')\n",
    "data.head(10)\n",
    "data.shape\n",
    "\n"
   ]
  },
  {
   "cell_type": "code",
   "execution_count": 130,
   "metadata": {},
   "outputs": [
    {
     "data": {
      "text/plain": [
       "(2853, 1)"
      ]
     },
     "execution_count": 130,
     "metadata": {},
     "output_type": "execute_result"
    }
   ],
   "source": [
    "import pandas as pd\n",
    "from pytrends.request import TrendReq\n",
    "\n",
    "# Set up pytrends\n",
    "pytrends = TrendReq(hl='en-US', tz=360)\n",
    "\n",
    "# Define your keyword and date range\n",
    "keyword = 'Bitcoin'\n",
    "start_date = '2014-01-01'\n",
    "end_date = '2022-08-01'\n",
    "start = '2014-09-17'\n",
    "end = '2022-07-09'\n",
    "\n",
    "# Build the payload for weekly data\n",
    "pytrends.build_payload(kw_list=[keyword], timeframe=f'{start_date} {end_date}')\n",
    "df_weekly = pytrends.interest_over_time()\n",
    "\n",
    "# Resample the weekly data to daily and fill in the values\n",
    "df_daily = df_weekly.resample('D').ffill()\n",
    "df_daily = df_daily.drop(columns=['isPartial'])\n",
    "\n",
    "# Slice the DataFrame to the exact date range\n",
    "df_daily = df_daily[start:end]\n",
    "\n",
    "df_daily.to_csv('modules/data/currencies/bitcoin/trending_dates_daily.csv')  # save to csv\n",
    "df_daily.shape\n"
   ]
  },
  {
   "cell_type": "code",
   "execution_count": 131,
   "metadata": {},
   "outputs": [],
   "source": [
    "def plot_series(x, y, format=\"-\", start=0, end=None, \n",
    "                title=None, xlabel=None, ylabel=None, legend=None ):\n",
    "    \"\"\"\n",
    "    Visualizes time series data\n",
    "\n",
    "    Args:\n",
    "      x (array of int) - contains values for the x-axis\n",
    "      y (array of int or tuple of arrays) - contains the values for the y-axis\n",
    "      format (string) - line style when plotting the graph\n",
    "      start (int) - first time step to plot\n",
    "      end (int) - last time step to plot\n",
    "      title (string) - title of the plot\n",
    "      xlabel (string) - label for the x-axis\n",
    "      ylabel (string) - label for the y-axis\n",
    "      legend (list of strings) - legend for the plot\n",
    "    \"\"\"\n",
    "\n",
    "    # Setup dimensions of the graph figure\n",
    "    plt.figure(figsize=(10, 6))\n",
    "    \n",
    "    # Check if there are more than two series to plot\n",
    "    if type(y) is tuple:\n",
    "\n",
    "      # Loop over the y elements\n",
    "      for y_curr in y:\n",
    "\n",
    "        # Plot the x and current y values\n",
    "        plt.plot(x[start:end], y_curr[start:end], format)\n",
    "\n",
    "    else:\n",
    "      # Plot the x and y values\n",
    "      plt.plot(x[start:end], y[start:end], format)\n",
    "\n",
    "    # Label the x-axis\n",
    "    plt.xlabel(xlabel)\n",
    "\n",
    "    # Label the y-axis\n",
    "    plt.ylabel(ylabel)\n",
    "\n",
    "    # Set the legend\n",
    "    if legend:\n",
    "      plt.legend(legend)\n",
    "\n",
    "    # Set the title\n",
    "    plt.title(title)\n",
    "\n",
    "    # Overlay a grid on the graph\n",
    "    plt.grid(True)\n",
    "\n",
    "    # Draw the graph on screen\n",
    "    plt.show()"
   ]
  },
  {
   "cell_type": "code",
   "execution_count": 132,
   "metadata": {},
   "outputs": [],
   "source": [
    "# Adding indicators\n",
    "data['RSI']=ta.rsi(data.Close, length=15) ## Relative Strength Index\n",
    "data['EMAF']=ta.ema(data.Close, length=20) ## Exponential Moving Average Fast\n",
    "data['EMAM']=ta.ema(data.Close, length=100) ## Exponential Moving Average Medium\n",
    "data['EMAS']=ta.ema(data.Close, length=150) ## Exponential Moving Average Slow\n",
    "\n",
    "data['Target'] = data['Adj Close']-data.Open ## Target is the difference between the opening price and the future closing price\n",
    "data['Target'] = data['Target'].shift(-1) ## Shift the target by one day\n",
    "\n",
    "\n",
    "data['TargetClass'] = [1 if data.Target[i]>0 else 0 for i in range(len(data))] ## TargetClass is 1 if the price goes up and 0 if it goes down\n",
    "data['TargetNextClose'] = data['Adj Close'].shift(-1) ## TargetNextClose is the future closing price\n",
    "\n",
    "data['gTrends'] = df_daily['Bitcoin'] ## Google Trends\n",
    "\n",
    "\n",
    "data.dropna(inplace=True) ## Drop the NaN values\n",
    "data.reset_index(inplace = True) ## Reset the index\n",
    "data.drop(['Volume', 'Close', 'Date'], axis=1, inplace=True)"
   ]
  },
  {
   "cell_type": "code",
   "execution_count": 133,
   "metadata": {},
   "outputs": [
    {
     "data": {
      "text/html": [
       "<div>\n",
       "<style scoped>\n",
       "    .dataframe tbody tr th:only-of-type {\n",
       "        vertical-align: middle;\n",
       "    }\n",
       "\n",
       "    .dataframe tbody tr th {\n",
       "        vertical-align: top;\n",
       "    }\n",
       "\n",
       "    .dataframe thead th {\n",
       "        text-align: right;\n",
       "    }\n",
       "</style>\n",
       "<table border=\"1\" class=\"dataframe\">\n",
       "  <thead>\n",
       "    <tr style=\"text-align: right;\">\n",
       "      <th></th>\n",
       "      <th>Open</th>\n",
       "      <th>High</th>\n",
       "      <th>Low</th>\n",
       "      <th>Adj Close</th>\n",
       "      <th>RSI</th>\n",
       "      <th>EMAF</th>\n",
       "      <th>EMAM</th>\n",
       "      <th>EMAS</th>\n",
       "      <th>Target</th>\n",
       "      <th>TargetClass</th>\n",
       "      <th>TargetNextClose</th>\n",
       "    </tr>\n",
       "  </thead>\n",
       "  <tbody>\n",
       "    <tr>\n",
       "      <th>0</th>\n",
       "      <td>221.968994</td>\n",
       "      <td>240.259003</td>\n",
       "      <td>221.261993</td>\n",
       "      <td>235.427002</td>\n",
       "      <td>50.019072</td>\n",
       "      <td>229.312807</td>\n",
       "      <td>288.640505</td>\n",
       "      <td>327.932773</td>\n",
       "      <td>21.793015</td>\n",
       "      <td>1</td>\n",
       "      <td>257.321014</td>\n",
       "    </tr>\n",
       "    <tr>\n",
       "      <th>1</th>\n",
       "      <td>235.528000</td>\n",
       "      <td>259.808014</td>\n",
       "      <td>235.528000</td>\n",
       "      <td>257.321014</td>\n",
       "      <td>58.174526</td>\n",
       "      <td>231.980256</td>\n",
       "      <td>288.020317</td>\n",
       "      <td>326.997518</td>\n",
       "      <td>-22.681992</td>\n",
       "      <td>0</td>\n",
       "      <td>234.824997</td>\n",
       "    </tr>\n",
       "    <tr>\n",
       "      <th>2</th>\n",
       "      <td>257.506989</td>\n",
       "      <td>265.610992</td>\n",
       "      <td>227.684006</td>\n",
       "      <td>234.824997</td>\n",
       "      <td>49.315763</td>\n",
       "      <td>232.251183</td>\n",
       "      <td>286.966944</td>\n",
       "      <td>325.776690</td>\n",
       "      <td>-0.981995</td>\n",
       "      <td>0</td>\n",
       "      <td>233.843002</td>\n",
       "    </tr>\n",
       "    <tr>\n",
       "      <th>3</th>\n",
       "      <td>234.824997</td>\n",
       "      <td>239.520996</td>\n",
       "      <td>229.022003</td>\n",
       "      <td>233.843002</td>\n",
       "      <td>48.967016</td>\n",
       "      <td>232.402785</td>\n",
       "      <td>285.914985</td>\n",
       "      <td>324.559025</td>\n",
       "      <td>10.188004</td>\n",
       "      <td>1</td>\n",
       "      <td>243.610001</td>\n",
       "    </tr>\n",
       "    <tr>\n",
       "      <th>4</th>\n",
       "      <td>233.421997</td>\n",
       "      <td>245.774994</td>\n",
       "      <td>232.313995</td>\n",
       "      <td>243.610001</td>\n",
       "      <td>52.543343</td>\n",
       "      <td>233.470139</td>\n",
       "      <td>285.077263</td>\n",
       "      <td>323.486853</td>\n",
       "      <td>-7.453995</td>\n",
       "      <td>0</td>\n",
       "      <td>236.326004</td>\n",
       "    </tr>\n",
       "    <tr>\n",
       "      <th>...</th>\n",
       "      <td>...</td>\n",
       "      <td>...</td>\n",
       "      <td>...</td>\n",
       "      <td>...</td>\n",
       "      <td>...</td>\n",
       "      <td>...</td>\n",
       "      <td>...</td>\n",
       "      <td>...</td>\n",
       "      <td>...</td>\n",
       "      <td>...</td>\n",
       "      <td>...</td>\n",
       "    </tr>\n",
       "    <tr>\n",
       "      <th>2678</th>\n",
       "      <td>22487.986328</td>\n",
       "      <td>23018.951172</td>\n",
       "      <td>20950.818359</td>\n",
       "      <td>22206.792969</td>\n",
       "      <td>24.639862</td>\n",
       "      <td>28492.640709</td>\n",
       "      <td>35089.481482</td>\n",
       "      <td>37462.773483</td>\n",
       "      <td>376.109375</td>\n",
       "      <td>1</td>\n",
       "      <td>22572.839844</td>\n",
       "    </tr>\n",
       "    <tr>\n",
       "      <th>2679</th>\n",
       "      <td>22196.730469</td>\n",
       "      <td>22642.671875</td>\n",
       "      <td>20178.376953</td>\n",
       "      <td>22572.839844</td>\n",
       "      <td>26.519771</td>\n",
       "      <td>27928.850151</td>\n",
       "      <td>34841.627192</td>\n",
       "      <td>37265.555819</td>\n",
       "      <td>-2194.654297</td>\n",
       "      <td>0</td>\n",
       "      <td>20381.650391</td>\n",
       "    </tr>\n",
       "    <tr>\n",
       "      <th>2680</th>\n",
       "      <td>22576.304688</td>\n",
       "      <td>22868.921875</td>\n",
       "      <td>20265.226562</td>\n",
       "      <td>20381.650391</td>\n",
       "      <td>22.862006</td>\n",
       "      <td>27210.069221</td>\n",
       "      <td>34555.291018</td>\n",
       "      <td>37041.927933</td>\n",
       "      <td>85.763672</td>\n",
       "      <td>1</td>\n",
       "      <td>20471.482422</td>\n",
       "    </tr>\n",
       "    <tr>\n",
       "      <th>2681</th>\n",
       "      <td>20385.718750</td>\n",
       "      <td>21243.312500</td>\n",
       "      <td>20326.519531</td>\n",
       "      <td>20471.482422</td>\n",
       "      <td>23.326527</td>\n",
       "      <td>26568.299050</td>\n",
       "      <td>34276.403719</td>\n",
       "      <td>36822.451833</td>\n",
       "      <td>-1455.783203</td>\n",
       "      <td>0</td>\n",
       "      <td>19017.642578</td>\n",
       "    </tr>\n",
       "    <tr>\n",
       "      <th>2682</th>\n",
       "      <td>20473.425781</td>\n",
       "      <td>20736.041016</td>\n",
       "      <td>17708.623047</td>\n",
       "      <td>19017.642578</td>\n",
       "      <td>21.121055</td>\n",
       "      <td>25849.188910</td>\n",
       "      <td>33974.250033</td>\n",
       "      <td>36586.626545</td>\n",
       "      <td>1542.369141</td>\n",
       "      <td>1</td>\n",
       "      <td>20553.271484</td>\n",
       "    </tr>\n",
       "  </tbody>\n",
       "</table>\n",
       "<p>2683 rows × 11 columns</p>\n",
       "</div>"
      ],
      "text/plain": [
       "              Open          High           Low     Adj Close        RSI  \\\n",
       "0       221.968994    240.259003    221.261993    235.427002  50.019072   \n",
       "1       235.528000    259.808014    235.528000    257.321014  58.174526   \n",
       "2       257.506989    265.610992    227.684006    234.824997  49.315763   \n",
       "3       234.824997    239.520996    229.022003    233.843002  48.967016   \n",
       "4       233.421997    245.774994    232.313995    243.610001  52.543343   \n",
       "...            ...           ...           ...           ...        ...   \n",
       "2678  22487.986328  23018.951172  20950.818359  22206.792969  24.639862   \n",
       "2679  22196.730469  22642.671875  20178.376953  22572.839844  26.519771   \n",
       "2680  22576.304688  22868.921875  20265.226562  20381.650391  22.862006   \n",
       "2681  20385.718750  21243.312500  20326.519531  20471.482422  23.326527   \n",
       "2682  20473.425781  20736.041016  17708.623047  19017.642578  21.121055   \n",
       "\n",
       "              EMAF          EMAM          EMAS       Target  TargetClass  \\\n",
       "0       229.312807    288.640505    327.932773    21.793015            1   \n",
       "1       231.980256    288.020317    326.997518   -22.681992            0   \n",
       "2       232.251183    286.966944    325.776690    -0.981995            0   \n",
       "3       232.402785    285.914985    324.559025    10.188004            1   \n",
       "4       233.470139    285.077263    323.486853    -7.453995            0   \n",
       "...            ...           ...           ...          ...          ...   \n",
       "2678  28492.640709  35089.481482  37462.773483   376.109375            1   \n",
       "2679  27928.850151  34841.627192  37265.555819 -2194.654297            0   \n",
       "2680  27210.069221  34555.291018  37041.927933    85.763672            1   \n",
       "2681  26568.299050  34276.403719  36822.451833 -1455.783203            0   \n",
       "2682  25849.188910  33974.250033  36586.626545  1542.369141            1   \n",
       "\n",
       "      TargetNextClose  \n",
       "0          257.321014  \n",
       "1          234.824997  \n",
       "2          233.843002  \n",
       "3          243.610001  \n",
       "4          236.326004  \n",
       "...               ...  \n",
       "2678     22572.839844  \n",
       "2679     20381.650391  \n",
       "2680     20471.482422  \n",
       "2681     19017.642578  \n",
       "2682     20553.271484  \n",
       "\n",
       "[2683 rows x 11 columns]"
      ]
     },
     "execution_count": 133,
     "metadata": {},
     "output_type": "execute_result"
    }
   ],
   "source": [
    "data_set = data.iloc[:, 0:11]#.values\n",
    "pd.set_option('display.max_columns', None)\n",
    "\n",
    "data_set.head(-20)\n",
    "#print(data_set.shape)\n",
    "#print(data.shape)\n",
    "#print(type(data_set))"
   ]
  },
  {
   "cell_type": "code",
   "execution_count": 134,
   "metadata": {},
   "outputs": [
    {
     "name": "stdout",
     "output_type": "stream",
     "text": [
      "[[1.76730917e-04 2.39565673e-04 3.27805591e-04 ... 5.10015892e-01\n",
      "  1.00000000e+00 6.95198463e-04]\n",
      " [3.78083351e-04 5.24678857e-04 5.43361175e-04 ... 5.07025701e-01\n",
      "  0.00000000e+00 3.61213277e-04]\n",
      " [7.04473276e-04 6.09312584e-04 4.24840499e-04 ... 5.08484658e-01\n",
      "  0.00000000e+00 3.46634179e-04]\n",
      " ...\n",
      " [2.96772352e-01 2.97111660e-01 2.96512614e-01 ... 5.81819495e-01\n",
      "  1.00000000e+00 3.18115490e-01]\n",
      " [3.02017333e-01 3.14267258e-01 3.03653351e-01 ... 5.14868094e-01\n",
      "  1.00000000e+00 3.19504064e-01]\n",
      " [3.18194126e-01 3.22188482e-01 3.18179089e-01 ... 5.00172022e-01\n",
      "  0.00000000e+00 3.17441747e-01]]\n"
     ]
    }
   ],
   "source": [
    "from sklearn.preprocessing import MinMaxScaler ## Scale the data\n",
    "from sklearn.metrics import mean_squared_error as mse\n",
    "from sklearn.metrics import mean_absolute_error as mae\n",
    "\n",
    "\n",
    "sc = MinMaxScaler(feature_range=(0,1)) ## Scale the data between 0 and 1\n",
    "data_set_scaled = sc.fit_transform(data_set) ## Fit and transform the data\n",
    "print(data_set_scaled) ## Print the scaled data"
   ]
  },
  {
   "cell_type": "code",
   "execution_count": 135,
   "metadata": {},
   "outputs": [
    {
     "name": "stdout",
     "output_type": "stream",
     "text": [
      "2703\n",
      "[[[1.76730917e-04 2.39565673e-04 3.27805591e-04 ... 0.00000000e+00\n",
      "   8.54480830e-04 1.51359471e-03]\n",
      "  [3.78083351e-04 5.24678857e-04 5.43361175e-04 ... 4.23545789e-05\n",
      "   8.43149654e-04 1.49563545e-03]\n",
      "  [7.04473276e-04 6.09312584e-04 4.24840499e-04 ... 4.66564543e-05\n",
      "   8.23903952e-04 1.47219246e-03]\n",
      "  ...\n",
      "  [1.27798407e-03 1.06839020e-03 1.40287839e-03 ... 6.48253253e-04\n",
      "   6.50589741e-04 1.12452129e-03]\n",
      "  [1.24815020e-03 1.03061587e-03 1.29596208e-03 ... 6.71235777e-04\n",
      "   6.53432005e-04 1.11884086e-03]\n",
      "  [1.10446037e-03 9.11664784e-04 1.23006863e-03 ... 6.86809311e-04\n",
      "   6.54969078e-04 1.11235768e-03]]\n",
      "\n",
      " [[3.78083351e-04 5.24678857e-04 5.43361175e-04 ... 4.23545789e-05\n",
      "   8.43149654e-04 1.49563545e-03]\n",
      "  [7.04473276e-04 6.09312584e-04 4.24840499e-04 ... 4.66564543e-05\n",
      "   8.23903952e-04 1.47219246e-03]\n",
      "  [3.67643695e-04 2.28802192e-04 4.45057286e-04 ... 4.90636352e-05\n",
      "   8.04684075e-04 1.44881023e-03]\n",
      "  ...\n",
      "  [1.24815020e-03 1.03061587e-03 1.29596208e-03 ... 6.71235777e-04\n",
      "   6.53432005e-04 1.11884086e-03]\n",
      "  [1.10446037e-03 9.11664784e-04 1.23006863e-03 ... 6.86809311e-04\n",
      "   6.54969078e-04 1.11235768e-03]\n",
      "  [1.05965768e-03 9.14391817e-04 1.23037066e-03 ... 7.07716734e-04\n",
      "   6.58106676e-04 1.10710694e-03]]\n",
      "\n",
      " [[7.04473276e-04 6.09312584e-04 4.24840499e-04 ... 4.66564543e-05\n",
      "   8.23903952e-04 1.47219246e-03]\n",
      "  [3.67643695e-04 2.28802192e-04 4.45057286e-04 ... 4.90636352e-05\n",
      "   8.04684075e-04 1.44881023e-03]\n",
      "  [3.46809023e-04 3.20013825e-04 4.94798417e-04 ... 6.60114137e-05\n",
      "   7.89378422e-04 1.42822181e-03]\n",
      "  ...\n",
      "  [1.10446037e-03 9.11664784e-04 1.23006863e-03 ... 6.86809311e-04\n",
      "   6.54969078e-04 1.11235768e-03]\n",
      "  [1.05965768e-03 9.14391817e-04 1.23037066e-03 ... 7.07716734e-04\n",
      "   6.58106676e-04 1.10710694e-03]\n",
      "  [1.12291920e-03 1.02498644e-03 1.30122014e-03 ... 7.32984271e-04\n",
      "   6.62701667e-04 1.10299395e-03]]\n",
      "\n",
      " ...\n",
      "\n",
      " [[4.41050822e-01 4.58967323e-01 4.48677861e-01 ... 4.81067633e-01\n",
      "   6.61040138e-01 7.36230194e-01]\n",
      "  [4.62753617e-01 4.55997804e-01 4.39876381e-01 ... 4.82018843e-01\n",
      "   6.59134564e-01 7.34339467e-01]\n",
      "  [4.59482711e-01 4.52555969e-01 4.49436623e-01 ... 4.81456276e-01\n",
      "   6.56926233e-01 7.32234420e-01]\n",
      "  ...\n",
      "  [2.82627294e-01 2.81983712e-01 2.83570210e-01 ... 3.36271120e-01\n",
      "   5.51643100e-01 6.41195289e-01]\n",
      "  [2.83447298e-01 2.92199863e-01 2.85022486e-01 ... 3.34492652e-01\n",
      "   5.47951498e-01 6.37784859e-01]\n",
      "  [2.97228760e-01 2.97694130e-01 2.89225501e-01 ... 3.32821339e-01\n",
      "   5.44318111e-01 6.34409134e-01]]\n",
      "\n",
      " [[4.62753617e-01 4.55997804e-01 4.39876381e-01 ... 4.82018843e-01\n",
      "   6.59134564e-01 7.34339467e-01]\n",
      "  [4.59482711e-01 4.52555969e-01 4.49436623e-01 ... 4.81456276e-01\n",
      "   6.56926233e-01 7.32234420e-01]\n",
      "  [4.45580041e-01 4.43157975e-01 4.50582868e-01 ... 4.80792501e-01\n",
      "   6.54724599e-01 7.30131221e-01]\n",
      "  ...\n",
      "  [2.83447298e-01 2.92199863e-01 2.85022486e-01 ... 3.34492652e-01\n",
      "   5.47951498e-01 6.37784859e-01]\n",
      "  [2.97228760e-01 2.97694130e-01 2.89225501e-01 ... 3.32821339e-01\n",
      "   5.44318111e-01 6.34409134e-01]\n",
      "  [2.96772352e-01 2.97111660e-01 2.96512614e-01 ... 3.31850772e-01\n",
      "   5.40886241e-01 6.31169208e-01]]\n",
      "\n",
      " [[4.59482711e-01 4.52555969e-01 4.49436623e-01 ... 4.81456276e-01\n",
      "   6.56926233e-01 7.32234420e-01]\n",
      "  [4.45580041e-01 4.43157975e-01 4.50582868e-01 ... 4.80792501e-01\n",
      "   6.54724599e-01 7.30131221e-01]\n",
      "  [4.44021536e-01 4.37856469e-01 4.34836723e-01 ... 4.78637087e-01\n",
      "   6.52194569e-01 7.27794370e-01]\n",
      "  ...\n",
      "  [2.97228760e-01 2.97694130e-01 2.89225501e-01 ... 3.32821339e-01\n",
      "   5.44318111e-01 6.34409134e-01]\n",
      "  [2.96772352e-01 2.97111660e-01 2.96512614e-01 ... 3.31850772e-01\n",
      "   5.40886241e-01 6.31169208e-01]\n",
      "  [3.02017333e-01 3.14267258e-01 3.03653351e-01 ... 3.32619965e-01\n",
      "   5.37916445e-01 6.28249255e-01]]]\n",
      "(2673, 30, 8)\n",
      "[[0.00118917]\n",
      " [0.00111363]\n",
      " [0.00068003]\n",
      " ...\n",
      " [0.31811549]\n",
      " [0.31950406]\n",
      " [0.31744175]]\n",
      "(2673, 1)\n"
     ]
    }
   ],
   "source": [
    "# multiple feature from data provided to the model\n",
    "X = []\n",
    "\n",
    "backcandles = 30 ## Number of previous candles(days) to consider\n",
    "print(data_set_scaled.shape[0])\n",
    "for j in range(8):#data_set_scaled[0].size):#2 columns are target not X\n",
    "    X.append([])\n",
    "    for i in range(backcandles, data_set_scaled.shape[0]):#backcandles+2\n",
    "        X[j].append(data_set_scaled[i-backcandles:i, j])\n",
    "\n",
    "#move axis from 0 to position 2\n",
    "X=np.moveaxis(X, [0], [2]) \n",
    "\n",
    "#Erase first elements of y because of backcandles to match X length\n",
    "#del(yi[0:backcandles])\n",
    "#X, yi = np.array(X), np.array(yi)\n",
    "# Choose -1 for last column, classification else -2...\n",
    "X, yi =np.array(X), np.array(data_set_scaled[backcandles:,-1])\n",
    "y=np.reshape(yi,(len(yi),1))\n",
    "#y=sc.fit_transform(yi)\n",
    "#X_train = np.reshape(X_train, (X_train.shape[0], X_train.shape[1], 1))\n",
    "print(X)\n",
    "print(X.shape)\n",
    "print(y)\n",
    "print(y.shape)"
   ]
  },
  {
   "cell_type": "code",
   "execution_count": 136,
   "metadata": {},
   "outputs": [
    {
     "name": "stdout",
     "output_type": "stream",
     "text": [
      "2138\n",
      "(2138, 30, 8)\n",
      "(535, 30, 8)\n",
      "(2138, 1)\n",
      "(535, 1)\n",
      "[[0.00118917]\n",
      " [0.00111363]\n",
      " [0.00068003]\n",
      " ...\n",
      " [0.54070015]\n",
      " [0.53238215]\n",
      " [0.52463151]]\n"
     ]
    }
   ],
   "source": [
    "# split data into train test sets\n",
    "splitlimit = int(len(X)*0.8) ## Split the data into 80% training and 20% testing\n",
    "print(splitlimit) ## Print the split limit to check\n",
    "X_train, X_test = X[:splitlimit], X[splitlimit:] ## Split the data into training and testing\n",
    "y_train, y_test = y[:splitlimit], y[splitlimit:] ## Split the data into training and testing\n",
    "print(X_train.shape) ## Print the shape of the training data\n",
    "print(X_test.shape) ## Print the shape of the testing data\n",
    "print(y_train.shape) ## Print the shape of the training data\n",
    "print(y_test.shape) ## Print the shape of the testing data\n",
    "print(y_train) ## Print the training data"
   ]
  },
  {
   "cell_type": "code",
   "execution_count": 137,
   "metadata": {},
   "outputs": [],
   "source": [
    "from keras.models import Sequential\n",
    "from keras.layers import LSTM\n",
    "from keras.layers import Dropout\n",
    "from keras.layers import Dense\n",
    "from keras.layers import TimeDistributed\n",
    "\n",
    "import tensorflow as tf\n",
    "import keras\n",
    "from keras import optimizers\n",
    "from keras.callbacks import History\n",
    "from keras.models import Model\n",
    "from keras.layers import Dense, Dropout, LSTM, Input, Activation, concatenate\n",
    "import numpy as np\n",
    "#tf.random.set_seed(20)\n",
    "np.random.seed(10)\n",
    "\n",
    "from keras.layers import *\n",
    "from keras.callbacks import ModelCheckpoint\n",
    "from keras.losses import MeanSquaredError\n",
    "from keras.metrics import RootMeanSquaredError\n",
    "from keras.optimizers import Adam"
   ]
  },
  {
   "cell_type": "code",
   "execution_count": 138,
   "metadata": {},
   "outputs": [
    {
     "name": "stderr",
     "output_type": "stream",
     "text": [
      "WARNING:absl:At this time, the v2.11+ optimizer `tf.keras.optimizers.Adam` runs slowly on M1/M2 Macs, please use the legacy Keras optimizer instead, located at `tf.keras.optimizers.legacy.Adam`.\n"
     ]
    },
    {
     "name": "stdout",
     "output_type": "stream",
     "text": [
      "Model: \"model_7\"\n",
      "_________________________________________________________________\n",
      " Layer (type)                Output Shape              Param #   \n",
      "=================================================================\n",
      " lstm_input (InputLayer)     [(None, 30, 8)]           0         \n",
      "                                                                 \n",
      " first_layer (LSTM)          (None, 30, 400)           654400    \n",
      "                                                                 \n",
      " third_layer (LSTM)          (None, 800)               3843200   \n",
      "                                                                 \n",
      " dense_layer (Dense)         (None, 1)                 801       \n",
      "                                                                 \n",
      "=================================================================\n",
      "Total params: 4498401 (17.16 MB)\n",
      "Trainable params: 4498401 (17.16 MB)\n",
      "Non-trainable params: 0 (0.00 Byte)\n",
      "_________________________________________________________________\n"
     ]
    }
   ],
   "source": [
    "lstm_input = Input(shape=(backcandles, 8), name='lstm_input')\n",
    "# Add the first LSTM layer\n",
    "lstm1 = LSTM(400, return_sequences=True, name='first_layer')(lstm_input)\n",
    "# Add a second LSTM layer\n",
    "lstm2 = LSTM(800, name='third_layer')(lstm1)\n",
    "\n",
    "# Add a Dense layer\n",
    "dense_layer = Dense(1, name='dense_layer')(lstm2)\n",
    "# Create the model\n",
    "model1 = Model(inputs=lstm_input, outputs=dense_layer)\n",
    "adam = optimizers.Adam()\n",
    "\n",
    "model1.summary()"
   ]
  },
  {
   "cell_type": "code",
   "execution_count": 139,
   "metadata": {},
   "outputs": [],
   "source": [
    "cp1 = ModelCheckpoint('model1/', save_best_only=True)\n",
    "model1.compile(loss=MeanSquaredError(), optimizer=adam, metrics=[RootMeanSquaredError()])\n"
   ]
  },
  {
   "cell_type": "code",
   "execution_count": 140,
   "metadata": {},
   "outputs": [
    {
     "name": "stdout",
     "output_type": "stream",
     "text": [
      "Epoch 1/15\n",
      "143/143 [==============================] - ETA: 0s - loss: 0.0022 - root_mean_squared_error: 0.0468INFO:tensorflow:Assets written to: model1/assets\n"
     ]
    },
    {
     "name": "stderr",
     "output_type": "stream",
     "text": [
      "INFO:tensorflow:Assets written to: model1/assets\n"
     ]
    },
    {
     "name": "stdout",
     "output_type": "stream",
     "text": [
      "143/143 [==============================] - 44s 290ms/step - loss: 0.0022 - root_mean_squared_error: 0.0468 - val_loss: 0.0030 - val_root_mean_squared_error: 0.0549\n",
      "Epoch 2/15\n",
      "143/143 [==============================] - 38s 264ms/step - loss: 1.7930e-04 - root_mean_squared_error: 0.0134 - val_loss: 0.0245 - val_root_mean_squared_error: 0.1566\n",
      "Epoch 3/15\n",
      "143/143 [==============================] - 42s 297ms/step - loss: 1.5734e-04 - root_mean_squared_error: 0.0125 - val_loss: 0.0058 - val_root_mean_squared_error: 0.0764\n",
      "Epoch 4/15\n",
      "143/143 [==============================] - ETA: 0s - loss: 1.5343e-04 - root_mean_squared_error: 0.0124INFO:tensorflow:Assets written to: model1/assets\n"
     ]
    },
    {
     "name": "stderr",
     "output_type": "stream",
     "text": [
      "INFO:tensorflow:Assets written to: model1/assets\n"
     ]
    },
    {
     "name": "stdout",
     "output_type": "stream",
     "text": [
      "143/143 [==============================] - 41s 286ms/step - loss: 1.5343e-04 - root_mean_squared_error: 0.0124 - val_loss: 0.0019 - val_root_mean_squared_error: 0.0435\n",
      "Epoch 5/15\n",
      "143/143 [==============================] - 38s 267ms/step - loss: 1.1605e-04 - root_mean_squared_error: 0.0108 - val_loss: 0.0048 - val_root_mean_squared_error: 0.0695\n",
      "Epoch 6/15\n",
      "143/143 [==============================] - 38s 265ms/step - loss: 1.2355e-04 - root_mean_squared_error: 0.0111 - val_loss: 0.0036 - val_root_mean_squared_error: 0.0599\n",
      "Epoch 7/15\n",
      "143/143 [==============================] - 39s 273ms/step - loss: 1.0798e-04 - root_mean_squared_error: 0.0104 - val_loss: 0.0029 - val_root_mean_squared_error: 0.0542\n",
      "Epoch 8/15\n",
      "143/143 [==============================] - 39s 272ms/step - loss: 1.2551e-04 - root_mean_squared_error: 0.0112 - val_loss: 0.0029 - val_root_mean_squared_error: 0.0535\n",
      "Epoch 9/15\n",
      "143/143 [==============================] - 40s 278ms/step - loss: 1.0605e-04 - root_mean_squared_error: 0.0103 - val_loss: 0.0021 - val_root_mean_squared_error: 0.0456\n",
      "Epoch 10/15\n",
      "143/143 [==============================] - ETA: 0s - loss: 1.0117e-04 - root_mean_squared_error: 0.0101INFO:tensorflow:Assets written to: model1/assets\n"
     ]
    },
    {
     "name": "stderr",
     "output_type": "stream",
     "text": [
      "INFO:tensorflow:Assets written to: model1/assets\n"
     ]
    },
    {
     "name": "stdout",
     "output_type": "stream",
     "text": [
      "143/143 [==============================] - 41s 287ms/step - loss: 1.0117e-04 - root_mean_squared_error: 0.0101 - val_loss: 0.0016 - val_root_mean_squared_error: 0.0395\n",
      "Epoch 11/15\n",
      "143/143 [==============================] - ETA: 0s - loss: 1.1698e-04 - root_mean_squared_error: 0.0108INFO:tensorflow:Assets written to: model1/assets\n"
     ]
    },
    {
     "name": "stderr",
     "output_type": "stream",
     "text": [
      "INFO:tensorflow:Assets written to: model1/assets\n"
     ]
    },
    {
     "name": "stdout",
     "output_type": "stream",
     "text": [
      "143/143 [==============================] - 41s 289ms/step - loss: 1.1698e-04 - root_mean_squared_error: 0.0108 - val_loss: 0.0015 - val_root_mean_squared_error: 0.0387\n",
      "Epoch 12/15\n",
      "143/143 [==============================] - 40s 282ms/step - loss: 9.8173e-05 - root_mean_squared_error: 0.0099 - val_loss: 0.0024 - val_root_mean_squared_error: 0.0495\n",
      "Epoch 13/15\n",
      "143/143 [==============================] - ETA: 0s - loss: 9.8913e-05 - root_mean_squared_error: 0.0099INFO:tensorflow:Assets written to: model1/assets\n"
     ]
    },
    {
     "name": "stderr",
     "output_type": "stream",
     "text": [
      "INFO:tensorflow:Assets written to: model1/assets\n"
     ]
    },
    {
     "name": "stdout",
     "output_type": "stream",
     "text": [
      "143/143 [==============================] - 53s 368ms/step - loss: 9.8913e-05 - root_mean_squared_error: 0.0099 - val_loss: 0.0014 - val_root_mean_squared_error: 0.0376\n",
      "Epoch 14/15\n",
      "143/143 [==============================] - 40s 276ms/step - loss: 1.4121e-04 - root_mean_squared_error: 0.0119 - val_loss: 0.0044 - val_root_mean_squared_error: 0.0663\n",
      "Epoch 15/15\n",
      "143/143 [==============================] - 40s 280ms/step - loss: 9.0929e-05 - root_mean_squared_error: 0.0095 - val_loss: 0.0023 - val_root_mean_squared_error: 0.0484\n"
     ]
    },
    {
     "data": {
      "text/plain": [
       "<keras.src.callbacks.History at 0x325c77a30>"
      ]
     },
     "execution_count": 140,
     "metadata": {},
     "output_type": "execute_result"
    }
   ],
   "source": [
    "model1.fit(x=X_train, y=y_train, validation_data=(X_test, y_test), batch_size=15, epochs=15, shuffle=True, validation_split = 0.1, callbacks=[cp1])"
   ]
  },
  {
   "cell_type": "code",
   "execution_count": 141,
   "metadata": {},
   "outputs": [
    {
     "name": "stderr",
     "output_type": "stream",
     "text": [
      "WARNING:absl:At this time, the v2.11+ optimizer `tf.keras.optimizers.RestoredOptimizer` runs slowly on M1/M2 Macs, please use the legacy Keras optimizer instead, located at `tf.keras.optimizers.legacy.RestoredOptimizer`.\n",
      "WARNING:absl:At this time, the v2.11+ optimizer `tf.keras.optimizers.Adam` runs slowly on M1/M2 Macs, please use the legacy Keras optimizer instead, located at `tf.keras.optimizers.legacy.Adam`.\n"
     ]
    }
   ],
   "source": [
    "from keras.models import load_model\n",
    "model1 = load_model('model1/')"
   ]
  },
  {
   "cell_type": "code",
   "execution_count": 142,
   "metadata": {},
   "outputs": [
    {
     "name": "stdout",
     "output_type": "stream",
     "text": [
      "17/17 [==============================] - 2s 90ms/step\n",
      "[0.5276063] [0.45452599]\n",
      "[0.51875466] [0.4868921]\n",
      "[0.48402402] [0.4729644]\n",
      "[0.47048697] [0.47625639]\n",
      "[0.46647227] [0.47739976]\n",
      "[0.4645511] [0.48042037]\n",
      "[0.47036052] [0.44868909]\n",
      "[0.46895683] [0.49372644]\n",
      "[0.45490232] [0.50635018]\n",
      "[0.46557662] [0.50565443]\n"
     ]
    }
   ],
   "source": [
    "y_pred = model1.predict(X_test)\n",
    "#y_pred=np.where(y_pred > 0.43, 1,0)\n",
    "for i in range(10):\n",
    "    print(y_pred[i], y_test[i])"
   ]
  },
  {
   "cell_type": "code",
   "execution_count": 143,
   "metadata": {},
   "outputs": [
    {
     "data": {
      "image/png": "[encoded data removed]",
      "text/plain": [
       "<Figure size 1152x576 with 1 Axes>"
      ]
     },
     "metadata": {
      "needs_background": "light"
     },
     "output_type": "display_data"
    },
    {
     "name": "stdout",
     "output_type": "stream",
     "text": [
      "Mean Absolute_error:  29.440615326166153\n",
      "Mean Squared Error:  1.4121615095064044\n"
     ]
    }
   ],
   "source": [
    "plt.figure(figsize=(16,8))\n",
    "plt.plot(y_test, color = 'black', label = 'Test')\n",
    "plt.plot(y_pred, color = 'green', label = 'pred')\n",
    "plt.legend()\n",
    "plt.show()\n",
    "\n",
    "\n",
    "mean_absolute_error = np.mean(tf.keras.metrics.mean_absolute_error(y_test, y_pred).numpy())\n",
    "print(\"Mean Absolute_error: \",mean_absolute_error*1000)\n",
    "mean_squared_error = np.mean(tf.keras.metrics.mean_squared_error(y_test, y_pred).numpy())\n",
    "print(\"Mean Squared Error: \",mean_squared_error*1000)\n",
    "\n",
    "\n",
    "\n"
   ]
  },
  {
   "cell_type": "code",
   "execution_count": 144,
   "metadata": {},
   "outputs": [
    {
     "name": "stdout",
     "output_type": "stream",
     "text": [
      "2703\n",
      "[[[1.76730917e-04 2.39565673e-04 3.27805591e-04 ... 8.54480830e-04\n",
      "   1.51359471e-03 5.10015892e-01]\n",
      "  [3.78083351e-04 5.24678857e-04 5.43361175e-04 ... 8.43149654e-04\n",
      "   1.49563545e-03 5.07025701e-01]\n",
      "  [7.04473276e-04 6.09312584e-04 4.24840499e-04 ... 8.23903952e-04\n",
      "   1.47219246e-03 5.08484658e-01]\n",
      "  ...\n",
      "  [1.27798407e-03 1.06839020e-03 1.40287839e-03 ... 6.50589741e-04\n",
      "   1.12452129e-03 5.07960307e-01]\n",
      "  [1.24815020e-03 1.03061587e-03 1.29596208e-03 ... 6.53432005e-04\n",
      "   1.11884086e-03 5.08378767e-01]\n",
      "  [1.10446037e-03 9.11664784e-04 1.23006863e-03 ... 6.54969078e-04\n",
      "   1.11235768e-03 5.08884696e-01]]\n",
      "\n",
      " [[3.78083351e-04 5.24678857e-04 5.43361175e-04 ... 8.43149654e-04\n",
      "   1.49563545e-03 5.07025701e-01]\n",
      "  [7.04473276e-04 6.09312584e-04 4.24840499e-04 ... 8.23903952e-04\n",
      "   1.47219246e-03 5.08484658e-01]\n",
      "  [3.67643695e-04 2.28802192e-04 4.45057286e-04 ... 8.04684075e-04\n",
      "   1.44881023e-03 5.09235652e-01]\n",
      "  ...\n",
      "  [1.24815020e-03 1.03061587e-03 1.29596208e-03 ... 6.53432005e-04\n",
      "   1.11884086e-03 5.08378767e-01]\n",
      "  [1.10446037e-03 9.11664784e-04 1.23006863e-03 ... 6.54969078e-04\n",
      "   1.11235768e-03 5.08884696e-01]\n",
      "  [1.05965768e-03 9.14391817e-04 1.23037066e-03 ... 6.58106676e-04\n",
      "   1.10710694e-03 5.08880660e-01]]\n",
      "\n",
      " [[7.04473276e-04 6.09312584e-04 4.24840499e-04 ... 8.23903952e-04\n",
      "   1.47219246e-03 5.08484658e-01]\n",
      "  [3.67643695e-04 2.28802192e-04 4.45057286e-04 ... 8.04684075e-04\n",
      "   1.44881023e-03 5.09235652e-01]\n",
      "  [3.46809023e-04 3.20013825e-04 4.94798417e-04 ... 7.89378422e-04\n",
      "   1.42822181e-03 5.08049526e-01]\n",
      "  ...\n",
      "  [1.10446037e-03 9.11664784e-04 1.23006863e-03 ... 6.54969078e-04\n",
      "   1.11235768e-03 5.08884696e-01]\n",
      "  [1.05965768e-03 9.14391817e-04 1.23037066e-03 ... 6.58106676e-04\n",
      "   1.10710694e-03 5.08880660e-01]\n",
      "  [1.12291920e-03 1.02498644e-03 1.30122014e-03 ... 6.62701667e-04\n",
      "   1.10299395e-03 5.08208465e-01]]\n",
      "\n",
      " ...\n",
      "\n",
      " [[4.41050822e-01 4.58967323e-01 4.48677861e-01 ... 6.61040138e-01\n",
      "   7.36230194e-01 4.94010610e-01]\n",
      "  [4.62753617e-01 4.55997804e-01 4.39876381e-01 ... 6.59134564e-01\n",
      "   7.34339467e-01 4.45544890e-01]\n",
      "  [4.59482711e-01 4.52555969e-01 4.49436623e-01 ... 6.56926233e-01\n",
      "   7.32234420e-01 5.01606765e-01]\n",
      "  ...\n",
      "  [2.82627294e-01 2.81983712e-01 2.83570210e-01 ... 5.51643100e-01\n",
      "   6.41195289e-01 5.71342823e-01]\n",
      "  [2.83447298e-01 2.92199863e-01 2.85022486e-01 ... 5.47951498e-01\n",
      "   6.37784859e-01 5.06181503e-01]\n",
      "  [2.97228760e-01 2.97694130e-01 2.89225501e-01 ... 5.44318111e-01\n",
      "   6.34409134e-01 5.32326107e-01]]\n",
      "\n",
      " [[4.62753617e-01 4.55997804e-01 4.39876381e-01 ... 6.59134564e-01\n",
      "   7.34339467e-01 4.45544890e-01]\n",
      "  [4.59482711e-01 4.52555969e-01 4.49436623e-01 ... 6.56926233e-01\n",
      "   7.32234420e-01 5.01606765e-01]\n",
      "  [4.45580041e-01 4.43157975e-01 4.50582868e-01 ... 6.54724599e-01\n",
      "   7.30131221e-01 4.39534227e-01]\n",
      "  ...\n",
      "  [2.83447298e-01 2.92199863e-01 2.85022486e-01 ... 5.47951498e-01\n",
      "   6.37784859e-01 5.06181503e-01]\n",
      "  [2.97228760e-01 2.97694130e-01 2.89225501e-01 ... 5.44318111e-01\n",
      "   6.34409134e-01 5.32326107e-01]\n",
      "  [2.96772352e-01 2.97111660e-01 2.96512614e-01 ... 5.40886241e-01\n",
      "   6.31169208e-01 5.81819495e-01]]\n",
      "\n",
      " [[4.59482711e-01 4.52555969e-01 4.49436623e-01 ... 6.56926233e-01\n",
      "   7.32234420e-01 5.01606765e-01]\n",
      "  [4.45580041e-01 4.43157975e-01 4.50582868e-01 ... 6.54724599e-01\n",
      "   7.30131221e-01 4.39534227e-01]\n",
      "  [4.44021536e-01 4.37856469e-01 4.34836723e-01 ... 6.52194569e-01\n",
      "   7.27794370e-01 4.59883655e-01]\n",
      "  ...\n",
      "  [2.97228760e-01 2.97694130e-01 2.89225501e-01 ... 5.44318111e-01\n",
      "   6.34409134e-01 5.32326107e-01]\n",
      "  [2.96772352e-01 2.97111660e-01 2.96512614e-01 ... 5.40886241e-01\n",
      "   6.31169208e-01 5.81819495e-01]\n",
      "  [3.02017333e-01 3.14267258e-01 3.03653351e-01 ... 5.37916445e-01\n",
      "   6.28249255e-01 5.14868094e-01]]]\n",
      "(2673, 30, 9)\n",
      "[[0.00118917]\n",
      " [0.00111363]\n",
      " [0.00068003]\n",
      " ...\n",
      " [0.31811549]\n",
      " [0.31950406]\n",
      " [0.31744175]]\n",
      "(2673, 1)\n"
     ]
    }
   ],
   "source": [
    "# multiple feature from data provided to the model\n",
    "X = []\n",
    "\n",
    "print(data_set_scaled.shape[0])\n",
    "for j in range(9):#data_set_scaled[0].size):#2 columns are target not X\n",
    "    X.append([])\n",
    "    for i in range(backcandles, data_set_scaled.shape[0]):#backcandles+2\n",
    "        X[j].append(data_set_scaled[i-backcandles:i, j])\n",
    "\n",
    "#move axis from 0 to position 2\n",
    "X=np.moveaxis(X, [0], [2]) \n",
    "\n",
    "#Erase first elements of y because of backcandles to match X length\n",
    "#del(yi[0:backcandles])\n",
    "#X, yi = np.array(X), np.array(yi)\n",
    "# Choose -1 for last column, classification else -2...\n",
    "X, yi =np.array(X), np.array(data_set_scaled[backcandles:,-1])\n",
    "y=np.reshape(yi,(len(yi),1))\n",
    "#y=sc.fit_transform(yi)\n",
    "#X_train = np.reshape(X_train, (X_train.shape[0], X_train.shape[1], 1))\n",
    "print(X)\n",
    "print(X.shape)\n",
    "print(y)\n",
    "print(y.shape)"
   ]
  },
  {
   "cell_type": "code",
   "execution_count": 145,
   "metadata": {},
   "outputs": [
    {
     "name": "stdout",
     "output_type": "stream",
     "text": [
      "2138\n",
      "(2138, 30, 9)\n",
      "(535, 30, 9)\n",
      "(2138, 1)\n",
      "(535, 1)\n",
      "[[0.00118917]\n",
      " [0.00111363]\n",
      " [0.00068003]\n",
      " ...\n",
      " [0.54070015]\n",
      " [0.53238215]\n",
      " [0.52463151]]\n"
     ]
    }
   ],
   "source": [
    "# split data into train test sets\n",
    "splitlimit = int(len(X)*0.8) ## Split the data into 80% training and 20% testing\n",
    "print(splitlimit) ## Print the split limit to check\n",
    "X_train, X_test = X[:splitlimit], X[splitlimit:] ## Split the data into training and testing\n",
    "y_train, y_test = y[:splitlimit], y[splitlimit:] ## Split the data into training and testing\n",
    "print(X_train.shape) ## Print the shape of the training data\n",
    "print(X_test.shape) ## Print the shape of the testing data\n",
    "print(y_train.shape) ## Print the shape of the training data\n",
    "print(y_test.shape) ## Print the shape of the testing data\n",
    "print(y_train) ## Print the training data"
   ]
  },
  {
   "cell_type": "code",
   "execution_count": 146,
   "metadata": {},
   "outputs": [
    {
     "name": "stderr",
     "output_type": "stream",
     "text": [
      "WARNING:absl:At this time, the v2.11+ optimizer `tf.keras.optimizers.Adam` runs slowly on M1/M2 Macs, please use the legacy Keras optimizer instead, located at `tf.keras.optimizers.legacy.Adam`.\n"
     ]
    },
    {
     "name": "stdout",
     "output_type": "stream",
     "text": [
      "Model: \"model_8\"\n",
      "_________________________________________________________________\n",
      " Layer (type)                Output Shape              Param #   \n",
      "=================================================================\n",
      " lstm_input (InputLayer)     [(None, 30, 9)]           0         \n",
      "                                                                 \n",
      " first_layer (LSTM)          (None, 30, 400)           656000    \n",
      "                                                                 \n",
      " third_layer (LSTM)          (None, 800)               3843200   \n",
      "                                                                 \n",
      " dense_layer (Dense)         (None, 1)                 801       \n",
      "                                                                 \n",
      "=================================================================\n",
      "Total params: 4500001 (17.17 MB)\n",
      "Trainable params: 4500001 (17.17 MB)\n",
      "Non-trainable params: 0 (0.00 Byte)\n",
      "_________________________________________________________________\n"
     ]
    }
   ],
   "source": [
    "lstm_input = Input(shape=(backcandles, 9), name='lstm_input')\n",
    "# Add the first LSTM layer\n",
    "lstm1 = LSTM(400, return_sequences=True, name='first_layer')(lstm_input)\n",
    "# Add a second LSTM layer\n",
    "lstm2 = LSTM(800, name='third_layer')(lstm1)\n",
    "\n",
    "# Add a Dense layer\n",
    "dense_layer = Dense(1, name='dense_layer')(lstm2)\n",
    "# Create the model\n",
    "model1_GT = Model(inputs=lstm_input, outputs=dense_layer)\n",
    "adam = optimizers.Adam()\n",
    "\n",
    "model1_GT.summary()"
   ]
  },
  {
   "cell_type": "code",
   "execution_count": 147,
   "metadata": {},
   "outputs": [],
   "source": [
    "cp1_GT = ModelCheckpoint('model1/', save_best_only=True)\n",
    "model1_GT.compile(loss=MeanSquaredError(), optimizer=adam, metrics=[RootMeanSquaredError()])\n"
   ]
  },
  {
   "cell_type": "code",
   "execution_count": 148,
   "metadata": {},
   "outputs": [
    {
     "name": "stdout",
     "output_type": "stream",
     "text": [
      "Epoch 1/15\n",
      "143/143 [==============================] - ETA: 0s - loss: 0.0051 - root_mean_squared_error: 0.0716INFO:tensorflow:Assets written to: model1/assets\n"
     ]
    },
    {
     "name": "stderr",
     "output_type": "stream",
     "text": [
      "INFO:tensorflow:Assets written to: model1/assets\n"
     ]
    },
    {
     "name": "stdout",
     "output_type": "stream",
     "text": [
      "143/143 [==============================] - 46s 305ms/step - loss: 0.0051 - root_mean_squared_error: 0.0716 - val_loss: 0.2202 - val_root_mean_squared_error: 0.4692\n",
      "Epoch 2/15\n",
      "143/143 [==============================] - ETA: 0s - loss: 2.5374e-04 - root_mean_squared_error: 0.0159INFO:tensorflow:Assets written to: model1/assets\n"
     ]
    },
    {
     "name": "stderr",
     "output_type": "stream",
     "text": [
      "INFO:tensorflow:Assets written to: model1/assets\n"
     ]
    },
    {
     "name": "stdout",
     "output_type": "stream",
     "text": [
      "143/143 [==============================] - 41s 289ms/step - loss: 2.5374e-04 - root_mean_squared_error: 0.0159 - val_loss: 0.0085 - val_root_mean_squared_error: 0.0924\n",
      "Epoch 3/15\n",
      "143/143 [==============================] - 38s 266ms/step - loss: 1.6473e-04 - root_mean_squared_error: 0.0128 - val_loss: 0.0098 - val_root_mean_squared_error: 0.0990\n",
      "Epoch 4/15\n",
      "143/143 [==============================] - 39s 272ms/step - loss: 1.6862e-04 - root_mean_squared_error: 0.0130 - val_loss: 0.0098 - val_root_mean_squared_error: 0.0988\n",
      "Epoch 5/15\n",
      "143/143 [==============================] - ETA: 0s - loss: 2.1827e-04 - root_mean_squared_error: 0.0148INFO:tensorflow:Assets written to: model1/assets\n"
     ]
    },
    {
     "name": "stderr",
     "output_type": "stream",
     "text": [
      "INFO:tensorflow:Assets written to: model1/assets\n"
     ]
    },
    {
     "name": "stdout",
     "output_type": "stream",
     "text": [
      "143/143 [==============================] - 41s 285ms/step - loss: 2.1827e-04 - root_mean_squared_error: 0.0148 - val_loss: 0.0034 - val_root_mean_squared_error: 0.0581\n",
      "Epoch 6/15\n",
      "143/143 [==============================] - ETA: 0s - loss: 1.2606e-04 - root_mean_squared_error: 0.0112INFO:tensorflow:Assets written to: model1/assets\n"
     ]
    },
    {
     "name": "stderr",
     "output_type": "stream",
     "text": [
      "INFO:tensorflow:Assets written to: model1/assets\n"
     ]
    },
    {
     "name": "stdout",
     "output_type": "stream",
     "text": [
      "143/143 [==============================] - 41s 284ms/step - loss: 1.2606e-04 - root_mean_squared_error: 0.0112 - val_loss: 0.0020 - val_root_mean_squared_error: 0.0451\n",
      "Epoch 7/15\n",
      "143/143 [==============================] - 38s 263ms/step - loss: 1.3326e-04 - root_mean_squared_error: 0.0115 - val_loss: 0.0080 - val_root_mean_squared_error: 0.0893\n",
      "Epoch 8/15\n",
      "143/143 [==============================] - 38s 263ms/step - loss: 9.4071e-05 - root_mean_squared_error: 0.0097 - val_loss: 0.0033 - val_root_mean_squared_error: 0.0572\n",
      "Epoch 9/15\n",
      "143/143 [==============================] - ETA: 0s - loss: 1.0222e-04 - root_mean_squared_error: 0.0101INFO:tensorflow:Assets written to: model1/assets\n"
     ]
    },
    {
     "name": "stderr",
     "output_type": "stream",
     "text": [
      "INFO:tensorflow:Assets written to: model1/assets\n"
     ]
    },
    {
     "name": "stdout",
     "output_type": "stream",
     "text": [
      "143/143 [==============================] - 41s 284ms/step - loss: 1.0222e-04 - root_mean_squared_error: 0.0101 - val_loss: 0.0019 - val_root_mean_squared_error: 0.0431\n",
      "Epoch 10/15\n",
      "143/143 [==============================] - 39s 275ms/step - loss: 9.0696e-05 - root_mean_squared_error: 0.0095 - val_loss: 0.0067 - val_root_mean_squared_error: 0.0819\n",
      "Epoch 11/15\n",
      "143/143 [==============================] - 37s 262ms/step - loss: 1.0890e-04 - root_mean_squared_error: 0.0104 - val_loss: 0.0056 - val_root_mean_squared_error: 0.0748\n",
      "Epoch 12/15\n",
      "143/143 [==============================] - ETA: 0s - loss: 6.6247e-05 - root_mean_squared_error: 0.0081INFO:tensorflow:Assets written to: model1/assets\n"
     ]
    },
    {
     "name": "stderr",
     "output_type": "stream",
     "text": [
      "INFO:tensorflow:Assets written to: model1/assets\n"
     ]
    },
    {
     "name": "stdout",
     "output_type": "stream",
     "text": [
      "143/143 [==============================] - 41s 287ms/step - loss: 6.6247e-05 - root_mean_squared_error: 0.0081 - val_loss: 8.1098e-04 - val_root_mean_squared_error: 0.0285\n",
      "Epoch 13/15\n",
      "143/143 [==============================] - 37s 262ms/step - loss: 6.2236e-05 - root_mean_squared_error: 0.0079 - val_loss: 8.3806e-04 - val_root_mean_squared_error: 0.0289\n",
      "Epoch 14/15\n",
      "143/143 [==============================] - 37s 261ms/step - loss: 5.0442e-05 - root_mean_squared_error: 0.0071 - val_loss: 8.6840e-04 - val_root_mean_squared_error: 0.0295\n",
      "Epoch 15/15\n",
      "143/143 [==============================] - ETA: 0s - loss: 5.1255e-05 - root_mean_squared_error: 0.0072INFO:tensorflow:Assets written to: model1/assets\n"
     ]
    },
    {
     "name": "stderr",
     "output_type": "stream",
     "text": [
      "INFO:tensorflow:Assets written to: model1/assets\n"
     ]
    },
    {
     "name": "stdout",
     "output_type": "stream",
     "text": [
      "143/143 [==============================] - 41s 289ms/step - loss: 5.1255e-05 - root_mean_squared_error: 0.0072 - val_loss: 8.0201e-04 - val_root_mean_squared_error: 0.0283\n"
     ]
    },
    {
     "data": {
      "text/plain": [
       "<keras.src.callbacks.History at 0x29c869fc0>"
      ]
     },
     "execution_count": 148,
     "metadata": {},
     "output_type": "execute_result"
    }
   ],
   "source": [
    "model1_GT.fit(x=X_train, y=y_train, validation_data=(X_test, y_test), batch_size=15, epochs=15, shuffle=True, validation_split = 0.1, callbacks=[cp1_GT])"
   ]
  },
  {
   "cell_type": "code",
   "execution_count": 149,
   "metadata": {},
   "outputs": [
    {
     "name": "stderr",
     "output_type": "stream",
     "text": [
      "WARNING:absl:At this time, the v2.11+ optimizer `tf.keras.optimizers.RestoredOptimizer` runs slowly on M1/M2 Macs, please use the legacy Keras optimizer instead, located at `tf.keras.optimizers.legacy.RestoredOptimizer`.\n",
      "WARNING:absl:At this time, the v2.11+ optimizer `tf.keras.optimizers.Adam` runs slowly on M1/M2 Macs, please use the legacy Keras optimizer instead, located at `tf.keras.optimizers.legacy.Adam`.\n"
     ]
    }
   ],
   "source": [
    "model1 = load_model('model1/')"
   ]
  },
  {
   "cell_type": "code",
   "execution_count": 150,
   "metadata": {},
   "outputs": [
    {
     "name": "stdout",
     "output_type": "stream",
     "text": [
      "17/17 [==============================] - 2s 98ms/step\n",
      "[0.51720744] [0.45452599]\n",
      "[0.4444692] [0.4868921]\n",
      "[0.4922698] [0.4729644]\n",
      "[0.46941078] [0.47625639]\n",
      "[0.4709349] [0.47739976]\n",
      "[0.46852005] [0.48042037]\n",
      "[0.47527868] [0.44868909]\n",
      "[0.43980283] [0.49372644]\n",
      "[0.48648876] [0.50635018]\n",
      "[0.47928149] [0.50565443]\n"
     ]
    }
   ],
   "source": [
    "y_pred = model1.predict(X_test)\n",
    "#y_pred=np.where(y_pred > 0.43, 1,0)\n",
    "for i in range(10):\n",
    "    print(y_pred[i], y_test[i])"
   ]
  },
  {
   "cell_type": "code",
   "execution_count": 151,
   "metadata": {},
   "outputs": [
    {
     "data": {
      "image/png": "[encoded data removed]",
      "text/plain": [
       "<Figure size 1152x576 with 1 Axes>"
      ]
     },
     "metadata": {
      "needs_background": "light"
     },
     "output_type": "display_data"
    },
    {
     "name": "stdout",
     "output_type": "stream",
     "text": [
      "Mean Absolute_error:  20.998060703277588\n",
      "Mean Squared Error:  0.8020148379728198\n"
     ]
    }
   ],
   "source": [
    "plt.figure(figsize=(16,8))\n",
    "plt.plot(y_test, color = 'black', label = 'Test')\n",
    "plt.plot(y_pred, color = 'green', label = 'pred')\n",
    "plt.legend()\n",
    "plt.show()\n",
    "\n",
    "\n",
    "mean_absolute_error = np.mean(tf.keras.metrics.mean_absolute_error(y_test, y_pred).numpy())\n",
    "print(\"Mean Absolute_error: \",mean_absolute_error*1000)\n",
    "mean_squared_error = np.mean(tf.keras.metrics.mean_squared_error(y_test, y_pred).numpy())\n",
    "print(\"Mean Squared Error: \",mean_squared_error*1000)\n",
    "\n",
    "\n",
    "\n",
    "\n",
    "\n"
   ]
  }
 ],
 "metadata": {
  "kernelspec": {
   "display_name": "Python 3",
   "language": "python",
   "name": "python3"
  },
  "language_info": {
   "codemirror_mode": {
    "name": "ipython",
    "version": 3
   },
   "file_extension": ".py",
   "mimetype": "text/x-python",
   "name": "python",
   "nbconvert_exporter": "python",
   "pygments_lexer": "ipython3",
   "version": "3.10.0"
  },
  "orig_nbformat": 4
 },
 "nbformat": 4,
 "nbformat_minor": 2
}
