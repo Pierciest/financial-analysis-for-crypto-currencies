{
 "cells": [
  {
   "cell_type": "markdown",
   "metadata": {},
   "source": [
    "Improting the libraries and the dataset\n",
    "[]: # Path: LSTM.ipynb"
   ]
  },
  {
   "cell_type": "code",
   "execution_count": 61,
   "metadata": {},
   "outputs": [
    {
     "name": "stdout",
     "output_type": "stream",
     "text": [
      "[*********************100%%**********************]  1 of 1 completed\n"
     ]
    },
    {
     "data": {
      "text/plain": [
       "(2192, 6)"
      ]
     },
     "execution_count": 61,
     "metadata": {},
     "output_type": "execute_result"
    }
   ],
   "source": [
    "import tensorflow as tf\n",
    "import numpy as np\n",
    "import matplotlib.pyplot as plt\n",
    "import pandas as pd\n",
    "import pandas_ta as ta ## Technical Analysis Indicators\n",
    "import yfinance as yf\n",
    "from pytrends.request import TrendReq\n",
    "\n",
    "data = yf.download(tickers = 'BTC-USD', start = '2015-01-01',end = '2021-01-01')\n",
    "data.to_csv('modules/data/currencies/bitcoin/btc_dates_daily.csv')\n",
    "data.head(10)\n",
    "data.shape\n",
    "\n"
   ]
  },
  {
   "cell_type": "markdown",
   "metadata": {},
   "source": [
    "Since Google doesn't provide an official API for Google Trends, and using the unofficial API pytrends doesn't provide data daily (only monthly), we will use the data from the website itself. We will use the data from every month to fill the gaps between the months. For each daily volume, we will take the product with the monthly volume to obtain a graph and then we will scale it to obtain the daily data in 6 years between 2015 and 2021.\n"
   ]
  },
  {
   "cell_type": "code",
   "execution_count": 62,
   "metadata": {},
   "outputs": [],
   "source": [
    "import pandas as pd\n",
    "\n",
    "column_names_monthly = ['Month', 'monthVol']\n",
    "column_names_daily = ['Day', 'dayVol']\n",
    "\n",
    "dfM = pd.read_csv('modules/data/currencies/bitcoin/gTrends/monthly/multiTimeline-78.csv', names=column_names_monthly)\n",
    "\n",
    "# Define an initially empty DataFrame to accumulate results\n",
    "combined_df = pd.DataFrame(columns=column_names_daily)\n",
    "\n",
    "# Define the range for iteration (4 to 78)\n",
    "for i in range(0, 72):\n",
    "    dfD = pd.read_csv('modules/data/currencies/bitcoin/gTrends/Months/{}.csv'.format(i+1), names=column_names_daily, skiprows=2)\n",
    "    monthlyVolume = pd.to_numeric(dfM.at[i+2, 'monthVol'], errors='coerce')\n",
    "    dfD_copy = dfD.copy()\n",
    "    dfD_copy['dayVol'] = pd.to_numeric(dfD_copy['dayVol'], errors='coerce')\n",
    "    dfD_copy['dayVol'] *= monthlyVolume\n",
    "    combined_df = pd.concat([combined_df, dfD_copy], ignore_index=True)    \n",
    "# Save the combined DataFrame to a CSV file\n",
    "combined_df.to_csv('combined_data.csv', index=False)\n"
   ]
  },
  {
   "cell_type": "code",
   "execution_count": 63,
   "metadata": {},
   "outputs": [
    {
     "data": {
      "image/png": "[encoded data removed]",
      "text/plain": [
       "<Figure size 720x432 with 1 Axes>"
      ]
     },
     "metadata": {
      "needs_background": "light"
     },
     "output_type": "display_data"
    }
   ],
   "source": [
    "import pandas as pd\n",
    "import matplotlib.pyplot as plt\n",
    "from sklearn.preprocessing import MinMaxScaler\n",
    "\n",
    "column_names = ['Day', 'volume']\n",
    "dfM = pd.read_csv('modules/data/currencies/bitcoin/combined_data.csv', names=column_names)\n",
    "\n",
    "# Initialize the MinMaxScaler\n",
    "scaler = MinMaxScaler(feature_range=(0, 100))\n",
    "\n",
    "# Fit and transform the 'volume' column\n",
    "dfM['volume'] = scaler.fit_transform(dfM[['volume']])\n",
    "\n",
    "# Plot the min-max scaled 'volume' values in the DataFrame\n",
    "def plot_dataframe(data_frame):\n",
    "    plt.figure(figsize=(10, 6))\n",
    "    plt.plot(data_frame['Day'], data_frame['volume'])\n",
    "    plt.title('Combined Data (Min-Max Scaled)')\n",
    "    plt.xlabel('Day')\n",
    "    plt.ylabel('Volume (0-100)')\n",
    "    plt.show()\n",
    "\n",
    "plot_dataframe(dfM)\n"
   ]
  },
  {
   "cell_type": "code",
   "execution_count": 64,
   "metadata": {},
   "outputs": [
    {
     "name": "stdout",
     "output_type": "stream",
     "text": [
      "(2192, 2)\n",
      "(2192, 6)\n"
     ]
    }
   ],
   "source": [
    "print(dfM.shape)\n",
    "print(data.shape)"
   ]
  },
  {
   "cell_type": "code",
   "execution_count": 65,
   "metadata": {},
   "outputs": [],
   "source": [
    "gTrends = dfM['volume'].tolist()\n"
   ]
  },
  {
   "cell_type": "markdown",
   "metadata": {},
   "source": [
    "We add the economic indicators to obtain a prediction of the bitcoin market price without using the google trends volume we obtained first. After finding a prediction with the market values themselves, we will add the google trends volume to see if the prediction improves.\n",
    "\n"
   ]
  },
  {
   "cell_type": "code",
   "execution_count": 66,
   "metadata": {},
   "outputs": [],
   "source": [
    "# Adding indicators\n",
    "data['RSI']=ta.rsi(data.Close, length=15) ## Relative Strength Index\n",
    "data['EMAF']=ta.ema(data.Close, length=20) ## Exponential Moving Average Fast\n",
    "data['EMAM']=ta.ema(data.Close, length=100) ## Exponential Moving Average Medium\n",
    "data['EMAS']=ta.ema(data.Close, length=150) ## Exponential Moving Average Slow\n",
    "\n",
    "data['gTrends'] = gTrends ## Google Trends\n",
    "\n",
    "\n",
    "data['Target'] = data['Adj Close']-data.Open ## Target is the difference between the opening price and the future closing price\n",
    "data['Target'] = data['Target'].shift(-1) ## Shift the target by one day\n",
    "\n",
    "\n",
    "data['TargetClass'] = [1 if data.Target[i]>0 else 0 for i in range(len(data))] ## TargetClass is 1 if the price goes up and 0 if it goes down\n",
    "data['TargetNextClose'] = data['Adj Close'].shift(-1) ## TargetNextClose is the future closing price\n",
    "\n",
    "\n",
    "\n",
    "data.reset_index(inplace = True) ## Reset the index\n",
    "data.drop(['Volume', 'Close', 'Date'], axis=1, inplace=True)"
   ]
  },
  {
   "cell_type": "code",
   "execution_count": 67,
   "metadata": {},
   "outputs": [],
   "source": [
    "data.dropna(inplace=True) ## Drop the NaN values"
   ]
  },
  {
   "cell_type": "code",
   "execution_count": 68,
   "metadata": {},
   "outputs": [
    {
     "data": {
      "text/html": [
       "<div>\n",
       "<style scoped>\n",
       "    .dataframe tbody tr th:only-of-type {\n",
       "        vertical-align: middle;\n",
       "    }\n",
       "\n",
       "    .dataframe tbody tr th {\n",
       "        vertical-align: top;\n",
       "    }\n",
       "\n",
       "    .dataframe thead th {\n",
       "        text-align: right;\n",
       "    }\n",
       "</style>\n",
       "<table border=\"1\" class=\"dataframe\">\n",
       "  <thead>\n",
       "    <tr style=\"text-align: right;\">\n",
       "      <th></th>\n",
       "      <th>Open</th>\n",
       "      <th>High</th>\n",
       "      <th>Low</th>\n",
       "      <th>Adj Close</th>\n",
       "      <th>RSI</th>\n",
       "      <th>EMAF</th>\n",
       "      <th>EMAM</th>\n",
       "      <th>EMAS</th>\n",
       "      <th>gTrends</th>\n",
       "      <th>Target</th>\n",
       "      <th>TargetClass</th>\n",
       "      <th>TargetNextClose</th>\n",
       "    </tr>\n",
       "  </thead>\n",
       "  <tbody>\n",
       "    <tr>\n",
       "      <th>149</th>\n",
       "      <td>237.091995</td>\n",
       "      <td>237.093002</td>\n",
       "      <td>232.046005</td>\n",
       "      <td>233.345001</td>\n",
       "      <td>44.997251</td>\n",
       "      <td>236.674144</td>\n",
       "      <td>240.674675</td>\n",
       "      <td>245.268894</td>\n",
       "      <td>2.00</td>\n",
       "      <td>-2.944992</td>\n",
       "      <td>0</td>\n",
       "      <td>230.190002</td>\n",
       "    </tr>\n",
       "    <tr>\n",
       "      <th>150</th>\n",
       "      <td>233.134995</td>\n",
       "      <td>233.251999</td>\n",
       "      <td>229.542007</td>\n",
       "      <td>230.190002</td>\n",
       "      <td>41.186285</td>\n",
       "      <td>236.056607</td>\n",
       "      <td>240.467058</td>\n",
       "      <td>245.069174</td>\n",
       "      <td>1.56</td>\n",
       "      <td>-7.307007</td>\n",
       "      <td>0</td>\n",
       "      <td>222.925995</td>\n",
       "    </tr>\n",
       "    <tr>\n",
       "      <th>151</th>\n",
       "      <td>230.233002</td>\n",
       "      <td>231.712997</td>\n",
       "      <td>221.296005</td>\n",
       "      <td>222.925995</td>\n",
       "      <td>34.068533</td>\n",
       "      <td>234.806073</td>\n",
       "      <td>240.119710</td>\n",
       "      <td>244.775886</td>\n",
       "      <td>1.42</td>\n",
       "      <td>2.908997</td>\n",
       "      <td>1</td>\n",
       "      <td>225.802994</td>\n",
       "    </tr>\n",
       "    <tr>\n",
       "      <th>152</th>\n",
       "      <td>222.893997</td>\n",
       "      <td>226.416000</td>\n",
       "      <td>222.419006</td>\n",
       "      <td>225.802994</td>\n",
       "      <td>38.573317</td>\n",
       "      <td>233.948637</td>\n",
       "      <td>239.836210</td>\n",
       "      <td>244.524590</td>\n",
       "      <td>1.02</td>\n",
       "      <td>0.138000</td>\n",
       "      <td>1</td>\n",
       "      <td>225.873993</td>\n",
       "    </tr>\n",
       "    <tr>\n",
       "      <th>153</th>\n",
       "      <td>225.735992</td>\n",
       "      <td>227.404007</td>\n",
       "      <td>223.929993</td>\n",
       "      <td>225.873993</td>\n",
       "      <td>38.684089</td>\n",
       "      <td>233.179623</td>\n",
       "      <td>239.559731</td>\n",
       "      <td>244.277562</td>\n",
       "      <td>1.04</td>\n",
       "      <td>-1.447998</td>\n",
       "      <td>0</td>\n",
       "      <td>224.324005</td>\n",
       "    </tr>\n",
       "    <tr>\n",
       "      <th>...</th>\n",
       "      <td>...</td>\n",
       "      <td>...</td>\n",
       "      <td>...</td>\n",
       "      <td>...</td>\n",
       "      <td>...</td>\n",
       "      <td>...</td>\n",
       "      <td>...</td>\n",
       "      <td>...</td>\n",
       "      <td>...</td>\n",
       "      <td>...</td>\n",
       "      <td>...</td>\n",
       "      <td>...</td>\n",
       "    </tr>\n",
       "    <tr>\n",
       "      <th>2166</th>\n",
       "      <td>19154.179688</td>\n",
       "      <td>19390.500000</td>\n",
       "      <td>18897.894531</td>\n",
       "      <td>19345.121094</td>\n",
       "      <td>63.217136</td>\n",
       "      <td>18211.330935</td>\n",
       "      <td>14389.646971</td>\n",
       "      <td>13261.302751</td>\n",
       "      <td>14.62</td>\n",
       "      <td>-151.498047</td>\n",
       "      <td>0</td>\n",
       "      <td>19191.630859</td>\n",
       "    </tr>\n",
       "    <tr>\n",
       "      <th>2167</th>\n",
       "      <td>19343.128906</td>\n",
       "      <td>19411.828125</td>\n",
       "      <td>18931.142578</td>\n",
       "      <td>19191.630859</td>\n",
       "      <td>61.791170</td>\n",
       "      <td>18304.692832</td>\n",
       "      <td>14484.735761</td>\n",
       "      <td>13339.850143</td>\n",
       "      <td>11.56</td>\n",
       "      <td>-870.384766</td>\n",
       "      <td>0</td>\n",
       "      <td>18321.144531</td>\n",
       "    </tr>\n",
       "    <tr>\n",
       "      <th>2168</th>\n",
       "      <td>19191.529297</td>\n",
       "      <td>19283.478516</td>\n",
       "      <td>18269.945312</td>\n",
       "      <td>18321.144531</td>\n",
       "      <td>54.342808</td>\n",
       "      <td>18306.259661</td>\n",
       "      <td>14560.704251</td>\n",
       "      <td>13405.827552</td>\n",
       "      <td>13.60</td>\n",
       "      <td>233.031250</td>\n",
       "      <td>1</td>\n",
       "      <td>18553.916016</td>\n",
       "    </tr>\n",
       "    <tr>\n",
       "      <th>2169</th>\n",
       "      <td>18320.884766</td>\n",
       "      <td>18626.292969</td>\n",
       "      <td>17935.546875</td>\n",
       "      <td>18553.916016</td>\n",
       "      <td>55.866963</td>\n",
       "      <td>18329.845980</td>\n",
       "      <td>14639.777752</td>\n",
       "      <td>13474.014154</td>\n",
       "      <td>12.24</td>\n",
       "      <td>-288.306641</td>\n",
       "      <td>0</td>\n",
       "      <td>18264.992188</td>\n",
       "    </tr>\n",
       "    <tr>\n",
       "      <th>2170</th>\n",
       "      <td>18553.298828</td>\n",
       "      <td>18553.298828</td>\n",
       "      <td>17957.064453</td>\n",
       "      <td>18264.992188</td>\n",
       "      <td>53.492163</td>\n",
       "      <td>18323.669429</td>\n",
       "      <td>14711.564176</td>\n",
       "      <td>13537.470817</td>\n",
       "      <td>11.90</td>\n",
       "      <td>-205.025391</td>\n",
       "      <td>0</td>\n",
       "      <td>18058.904297</td>\n",
       "    </tr>\n",
       "  </tbody>\n",
       "</table>\n",
       "<p>2022 rows × 12 columns</p>\n",
       "</div>"
      ],
      "text/plain": [
       "              Open          High           Low     Adj Close        RSI  \\\n",
       "149     237.091995    237.093002    232.046005    233.345001  44.997251   \n",
       "150     233.134995    233.251999    229.542007    230.190002  41.186285   \n",
       "151     230.233002    231.712997    221.296005    222.925995  34.068533   \n",
       "152     222.893997    226.416000    222.419006    225.802994  38.573317   \n",
       "153     225.735992    227.404007    223.929993    225.873993  38.684089   \n",
       "...            ...           ...           ...           ...        ...   \n",
       "2166  19154.179688  19390.500000  18897.894531  19345.121094  63.217136   \n",
       "2167  19343.128906  19411.828125  18931.142578  19191.630859  61.791170   \n",
       "2168  19191.529297  19283.478516  18269.945312  18321.144531  54.342808   \n",
       "2169  18320.884766  18626.292969  17935.546875  18553.916016  55.866963   \n",
       "2170  18553.298828  18553.298828  17957.064453  18264.992188  53.492163   \n",
       "\n",
       "              EMAF          EMAM          EMAS  gTrends      Target  \\\n",
       "149     236.674144    240.674675    245.268894     2.00   -2.944992   \n",
       "150     236.056607    240.467058    245.069174     1.56   -7.307007   \n",
       "151     234.806073    240.119710    244.775886     1.42    2.908997   \n",
       "152     233.948637    239.836210    244.524590     1.02    0.138000   \n",
       "153     233.179623    239.559731    244.277562     1.04   -1.447998   \n",
       "...            ...           ...           ...      ...         ...   \n",
       "2166  18211.330935  14389.646971  13261.302751    14.62 -151.498047   \n",
       "2167  18304.692832  14484.735761  13339.850143    11.56 -870.384766   \n",
       "2168  18306.259661  14560.704251  13405.827552    13.60  233.031250   \n",
       "2169  18329.845980  14639.777752  13474.014154    12.24 -288.306641   \n",
       "2170  18323.669429  14711.564176  13537.470817    11.90 -205.025391   \n",
       "\n",
       "      TargetClass  TargetNextClose  \n",
       "149             0       230.190002  \n",
       "150             0       222.925995  \n",
       "151             1       225.802994  \n",
       "152             1       225.873993  \n",
       "153             0       224.324005  \n",
       "...           ...              ...  \n",
       "2166            0     19191.630859  \n",
       "2167            0     18321.144531  \n",
       "2168            1     18553.916016  \n",
       "2169            0     18264.992188  \n",
       "2170            0     18058.904297  \n",
       "\n",
       "[2022 rows x 12 columns]"
      ]
     },
     "execution_count": 68,
     "metadata": {},
     "output_type": "execute_result"
    }
   ],
   "source": [
    "data_set = data.iloc[:, 0:12]#.values\n",
    "pd.set_option('display.max_columns', None)\n",
    "\n",
    "data_set.head(-20)"
   ]
  },
  {
   "cell_type": "markdown",
   "metadata": {},
   "source": [
    "After building the data set, we will split it into training and test set. We will use the first 5 years for training and the last year for testing.\n",
    "\n"
   ]
  },
  {
   "cell_type": "code",
   "execution_count": 69,
   "metadata": {},
   "outputs": [
    {
     "name": "stdout",
     "output_type": "stream",
     "text": [
      "[[9.95358391e-04 3.96140978e-04 1.19581659e-03 ... 4.47033443e-01\n",
      "  0.00000000e+00 6.84062830e-04]\n",
      " [8.49612625e-04 2.62364140e-04 1.10362405e-03 ... 4.46370163e-01\n",
      "  0.00000000e+00 4.31763478e-04]\n",
      " [7.42725316e-04 2.08762847e-04 8.00021562e-04 ... 4.47923590e-01\n",
      "  1.00000000e+00 5.31689717e-04]\n",
      " ...\n",
      " [9.60248003e-01 9.46063396e-01 9.57568960e-01 ... 4.90152893e-01\n",
      "  1.00000000e+00 9.43063098e-01]\n",
      " [9.89750310e-01 9.45422876e-01 9.49456385e-01 ... 6.72658712e-01\n",
      "  1.00000000e+00 9.94416091e-01]\n",
      " [1.00000000e+00 1.00000000e+00 1.00000000e+00 ... 4.71832845e-01\n",
      "  1.00000000e+00 1.00000000e+00]]\n"
     ]
    }
   ],
   "source": [
    "from sklearn.preprocessing import MinMaxScaler ## Scale the data\n",
    "from sklearn.metrics import mean_squared_error as mse\n",
    "from sklearn.metrics import mean_absolute_error as mae\n",
    "\n",
    "\n",
    "sc = MinMaxScaler(feature_range=(0,1)) ## Scale the data between 0 and 1\n",
    "data_set_scaled = sc.fit_transform(data_set) ## Fit and transform the data\n",
    "print(data_set_scaled) ## Print the scaled data"
   ]
  },
  {
   "cell_type": "markdown",
   "metadata": {},
   "source": [
    "We set the backcandles as the past 30 days to predict the next day. We will use the MinMaxScaler to scale the data between 0 and 1. We will use the LSTM model to predict the next day. We will use the Adam optimizer and the mean squared error as the loss function. We will use the early stopping to stop the training when the loss function doesn't improve after 10 epochs. We will use the model checkpoint to save the best model. We will use the model to predict the test set and we will inverse the scaling to obtain the real values. We will plot the real values and the predicted values to see the accuracy of the model. We will calculate the root mean squared error to see the accuracy of the model."
   ]
  },
  {
   "cell_type": "code",
   "execution_count": 70,
   "metadata": {},
   "outputs": [
    {
     "name": "stdout",
     "output_type": "stream",
     "text": [
      "2042\n",
      "[[[9.95358391e-04 3.96140978e-04 1.19581659e-03 ... 2.87270963e-04\n",
      "   1.92212322e-04 2.07835055e-04]\n",
      "  [8.49612625e-04 2.62364140e-04 1.10362405e-03 ... 2.61173918e-04\n",
      "   1.80263313e-04 1.95035604e-04]\n",
      "  [7.42725316e-04 2.08762847e-04 8.00021562e-04 ... 2.08326499e-04\n",
      "   1.60272386e-04 1.76239756e-04]\n",
      "  ...\n",
      "  [1.19837881e-03 6.27959928e-04 1.54584625e-03 ... 4.38071177e-04\n",
      "   9.16918162e-05 2.99699904e-05]\n",
      "  [1.23318511e-03 8.92309537e-04 1.60343022e-03 ... 4.81327001e-04\n",
      "   1.05438338e-04 3.71820840e-05]\n",
      "  [1.50596596e-03 8.86492898e-04 1.76237419e-03 ... 5.12498227e-04\n",
      "   1.16657251e-04 4.26188105e-05]]\n",
      "\n",
      " [[8.49612625e-04 2.62364140e-04 1.10362405e-03 ... 2.61173918e-04\n",
      "   1.80263313e-04 1.95035604e-04]\n",
      "  [7.42725316e-04 2.08762847e-04 8.00021562e-04 ... 2.08326499e-04\n",
      "   1.60272386e-04 1.76239756e-04]\n",
      "  [4.72412291e-04 2.42757631e-05 8.41368376e-04 ... 1.72091366e-04\n",
      "   1.43956132e-04 1.60134950e-04]\n",
      "  ...\n",
      "  [1.23318511e-03 8.92309537e-04 1.60343022e-03 ... 4.81327001e-04\n",
      "   1.05438338e-04 3.71820840e-05]\n",
      "  [1.50596596e-03 8.86492898e-04 1.76237419e-03 ... 5.12498227e-04\n",
      "   1.16657251e-04 4.26188105e-05]\n",
      "  [1.42368209e-03 1.09549968e-03 1.80460415e-03 ... 5.73112045e-04\n",
      "   1.36831718e-04 5.48191694e-05]]\n",
      "\n",
      " [[7.42725316e-04 2.08762847e-04 8.00021562e-04 ... 2.08326499e-04\n",
      "   1.60272386e-04 1.76239756e-04]\n",
      "  [4.72412291e-04 2.42757631e-05 8.41368376e-04 ... 1.72091366e-04\n",
      "   1.43956132e-04 1.60134950e-04]\n",
      "  [5.77089748e-04 5.86866666e-05 8.97000086e-04 ... 1.39592952e-04\n",
      "   1.28043888e-04 1.44303719e-04]\n",
      "  ...\n",
      "  [1.50596596e-03 8.86492898e-04 1.76237419e-03 ... 5.12498227e-04\n",
      "   1.16657251e-04 4.26188105e-05]\n",
      "  [1.42368209e-03 1.09549968e-03 1.80460415e-03 ... 5.73112045e-04\n",
      "   1.36831718e-04 5.48191694e-05]\n",
      "  [1.72994401e-03 1.46795692e-03 2.07576997e-03 ... 6.52133793e-04\n",
      "   1.63453791e-04 7.19577155e-05]]\n",
      "\n",
      " ...\n",
      "\n",
      " [[6.22572818e-01 6.13966544e-01 6.15271121e-01 ... 7.14344787e-01\n",
      "   7.67832987e-01 7.92524027e-01]\n",
      "  [6.44919067e-01 6.28932034e-01 6.39146392e-01 ... 7.18546569e-01\n",
      "   7.73074125e-01 7.97251218e-01]\n",
      "  [6.61813621e-01 6.79978066e-01 6.61944373e-01 ... 7.28177432e-01\n",
      "   7.79862114e-01 8.03145206e-01]\n",
      "  ...\n",
      "  [8.66426644e-01 8.52757191e-01 8.56541200e-01 ... 9.05954693e-01\n",
      "   9.41825890e-01 9.49768066e-01]\n",
      "  [9.01175983e-01 9.22691966e-01 8.95532188e-01 ... 9.25150539e-01\n",
      "   9.53034744e-01 9.59423531e-01]\n",
      "  [9.66087806e-01 9.77399697e-01 9.47080536e-01 ... 9.41855163e-01\n",
      "   9.63833889e-01 9.68811270e-01]]\n",
      "\n",
      " [[6.44919067e-01 6.28932034e-01 6.39146392e-01 ... 7.18546569e-01\n",
      "   7.73074125e-01 7.97251218e-01]\n",
      "  [6.61813621e-01 6.79978066e-01 6.61944373e-01 ... 7.28177432e-01\n",
      "   7.79862114e-01 8.03145206e-01]\n",
      "  [7.15421212e-01 6.83346374e-01 6.67231444e-01 ... 7.33579355e-01\n",
      "   7.85577927e-01 8.08262675e-01]\n",
      "  ...\n",
      "  [9.01175983e-01 9.22691966e-01 8.95532188e-01 ... 9.25150539e-01\n",
      "   9.53034744e-01 9.59423531e-01]\n",
      "  [9.66087806e-01 9.77399697e-01 9.47080536e-01 ... 9.41855163e-01\n",
      "   9.63833889e-01 9.68811270e-01]\n",
      "  [9.60248003e-01 9.46063396e-01 9.57568960e-01 ... 9.60239035e-01\n",
      "   9.75345183e-01 9.78764356e-01]]\n",
      "\n",
      " [[6.61813621e-01 6.79978066e-01 6.61944373e-01 ... 7.28177432e-01\n",
      "   7.79862114e-01 8.03145206e-01]\n",
      "  [7.15421212e-01 6.83346374e-01 6.67231444e-01 ... 7.33579355e-01\n",
      "   7.85577927e-01 8.08262675e-01]\n",
      "  [6.84775734e-01 6.64620959e-01 6.68181237e-01 ... 7.40069035e-01\n",
      "   7.91634250e-01 8.13650279e-01]\n",
      "  ...\n",
      "  [9.66087806e-01 9.77399697e-01 9.47080536e-01 ... 9.41855163e-01\n",
      "   9.63833889e-01 9.68811270e-01]\n",
      "  [9.60248003e-01 9.46063396e-01 9.57568960e-01 ... 9.60239035e-01\n",
      "   9.75345183e-01 9.78764356e-01]\n",
      "  [9.89750310e-01 9.45422876e-01 9.49456385e-01 ... 9.77989448e-01\n",
      "   9.86944935e-01 9.88821274e-01]]]\n",
      "(2012, 30, 8)\n",
      "[[0.00182615]\n",
      " [0.00167155]\n",
      " [0.00156009]\n",
      " ...\n",
      " [0.9430631 ]\n",
      " [0.99441609]\n",
      " [1.        ]]\n",
      "(2012, 1)\n"
     ]
    }
   ],
   "source": [
    "# multiple feature from data provided to the model\n",
    "X = []\n",
    "\n",
    "backcandles = 30 ## Number of previous candles(days) to consider\n",
    "print(data_set_scaled.shape[0])\n",
    "for j in range(8):#data_set_scaled[0].size):#2 columns are target not X\n",
    "    X.append([])\n",
    "    for i in range(backcandles, data_set_scaled.shape[0]):#backcandles+2\n",
    "        X[j].append(data_set_scaled[i-backcandles:i, j])\n",
    "\n",
    "#move axis from 0 to position 2\n",
    "X=np.moveaxis(X, [0], [2]) \n",
    "\n",
    "#Erase first elements of y because of backcandles to match X length\n",
    "# Choose -1 for last column, classification else -2...\n",
    "X, yi =np.array(X), np.array(data_set_scaled[backcandles:,-1])\n",
    "y=np.reshape(yi,(len(yi),1))\n",
    "print(X)\n",
    "print(X.shape)\n",
    "print(y)\n",
    "print(y.shape)"
   ]
  },
  {
   "cell_type": "code",
   "execution_count": 71,
   "metadata": {},
   "outputs": [
    {
     "name": "stdout",
     "output_type": "stream",
     "text": [
      "1609\n",
      "(1609, 30, 8)\n",
      "(403, 30, 8)\n",
      "(1609, 1)\n",
      "(403, 1)\n",
      "[[0.00182615]\n",
      " [0.00167155]\n",
      " [0.00156009]\n",
      " ...\n",
      " [0.24611952]\n",
      " [0.24963515]\n",
      " [0.23748284]]\n"
     ]
    }
   ],
   "source": [
    "# split data into train test sets\n",
    "splitlimit = int(len(X)*0.8) ## Split the data into 80% training and 20% testing\n",
    "print(splitlimit) ## Print the split limit to check\n",
    "X_train, X_test = X[:splitlimit], X[splitlimit:] ## Split the data into training and testing\n",
    "y_train, y_test = y[:splitlimit], y[splitlimit:] ## Split the data into training and testing\n",
    "print(X_train.shape) ## Print the shape of the training data\n",
    "print(X_test.shape) ## Print the shape of the testing data\n",
    "print(y_train.shape) ## Print the shape of the training data\n",
    "print(y_test.shape) ## Print the shape of the testing data\n",
    "print(y_train) ## Print the training data"
   ]
  },
  {
   "cell_type": "code",
   "execution_count": 72,
   "metadata": {},
   "outputs": [],
   "source": [
    "from keras.models import Sequential\n",
    "from keras.layers import LSTM\n",
    "from keras.layers import Dropout\n",
    "from keras.layers import Dense\n",
    "from keras.layers import TimeDistributed\n",
    "\n",
    "import tensorflow as tf\n",
    "import keras\n",
    "from keras import optimizers\n",
    "from keras.callbacks import History\n",
    "from keras.models import Model\n",
    "from keras.layers import Dense, Dropout, LSTM, Input, Activation, concatenate\n",
    "import numpy as np\n",
    "tf.random.set_seed(20)\n",
    "\n",
    "from keras.layers import *\n",
    "from keras.callbacks import ModelCheckpoint\n",
    "from keras.losses import MeanSquaredError\n",
    "from keras.metrics import RootMeanSquaredError\n",
    "from keras.optimizers import Adam"
   ]
  },
  {
   "cell_type": "code",
   "execution_count": 73,
   "metadata": {},
   "outputs": [
    {
     "name": "stderr",
     "output_type": "stream",
     "text": [
      "WARNING:absl:At this time, the v2.11+ optimizer `tf.keras.optimizers.Adam` runs slowly on M1/M2 Macs, please use the legacy Keras optimizer instead, located at `tf.keras.optimizers.legacy.Adam`.\n"
     ]
    },
    {
     "name": "stdout",
     "output_type": "stream",
     "text": [
      "Model: \"model_4\"\n",
      "_________________________________________________________________\n",
      " Layer (type)                Output Shape              Param #   \n",
      "=================================================================\n",
      " lstm_input (InputLayer)     [(None, 30, 8)]           0         \n",
      "                                                                 \n",
      " first_layer (LSTM)          (None, 30, 400)           654400    \n",
      "                                                                 \n",
      " third_layer (LSTM)          (None, 800)               3843200   \n",
      "                                                                 \n",
      " dense_layer (Dense)         (None, 1)                 801       \n",
      "                                                                 \n",
      " output (Activation)         (None, 1)                 0         \n",
      "                                                                 \n",
      "=================================================================\n",
      "Total params: 4498401 (17.16 MB)\n",
      "Trainable params: 4498401 (17.16 MB)\n",
      "Non-trainable params: 0 (0.00 Byte)\n",
      "_________________________________________________________________\n"
     ]
    }
   ],
   "source": [
    "lstm_input = Input(shape=(backcandles, 8), name='lstm_input')\n",
    "# Add the first LSTM layer\n",
    "lstm1 = LSTM(400, return_sequences=True, name='first_layer')(lstm_input)\n",
    "# Add a second LSTM layer\n",
    "lstm2 = LSTM(800, name='third_layer')(lstm1)\n",
    "\n",
    "# Add a Dense layer\n",
    "dense_layer = Dense(1, name='dense_layer')(lstm2)\n",
    "output = Activation('sigmoid', name='output')(dense_layer)\n",
    "\n",
    "# Create the model\n",
    "model1 = Model(inputs=lstm_input, outputs=output)\n",
    "adam = optimizers.Adam()\n",
    "\n",
    "model1.summary()"
   ]
  },
  {
   "cell_type": "code",
   "execution_count": 74,
   "metadata": {},
   "outputs": [],
   "source": [
    "cp1 = ModelCheckpoint('model1/', save_best_only=True)\n",
    "model1.compile(loss=MeanSquaredError(), optimizer=adam, metrics=[RootMeanSquaredError()])\n"
   ]
  },
  {
   "cell_type": "code",
   "execution_count": 75,
   "metadata": {},
   "outputs": [
    {
     "name": "stdout",
     "output_type": "stream",
     "text": [
      "Epoch 1/5\n",
      "108/108 [==============================] - ETA: 0s - loss: 0.0223 - root_mean_squared_error: 0.1494INFO:tensorflow:Assets written to: model1/assets\n"
     ]
    },
    {
     "name": "stderr",
     "output_type": "stream",
     "text": [
      "INFO:tensorflow:Assets written to: model1/assets\n"
     ]
    },
    {
     "name": "stdout",
     "output_type": "stream",
     "text": [
      "108/108 [==============================] - 34s 302ms/step - loss: 0.0223 - root_mean_squared_error: 0.1494 - val_loss: 0.0143 - val_root_mean_squared_error: 0.1197\n",
      "Epoch 2/5\n",
      "108/108 [==============================] - ETA: 0s - loss: 0.0019 - root_mean_squared_error: 0.0431INFO:tensorflow:Assets written to: model1/assets\n"
     ]
    },
    {
     "name": "stderr",
     "output_type": "stream",
     "text": [
      "INFO:tensorflow:Assets written to: model1/assets\n"
     ]
    },
    {
     "name": "stdout",
     "output_type": "stream",
     "text": [
      "108/108 [==============================] - 36s 334ms/step - loss: 0.0019 - root_mean_squared_error: 0.0431 - val_loss: 0.0045 - val_root_mean_squared_error: 0.0673\n",
      "Epoch 3/5\n",
      "108/108 [==============================] - 30s 279ms/step - loss: 7.1562e-04 - root_mean_squared_error: 0.0268 - val_loss: 0.0046 - val_root_mean_squared_error: 0.0681\n",
      "Epoch 4/5\n",
      "108/108 [==============================] - ETA: 0s - loss: 6.3856e-04 - root_mean_squared_error: 0.0253INFO:tensorflow:Assets written to: model1/assets\n"
     ]
    },
    {
     "name": "stderr",
     "output_type": "stream",
     "text": [
      "INFO:tensorflow:Assets written to: model1/assets\n"
     ]
    },
    {
     "name": "stdout",
     "output_type": "stream",
     "text": [
      "108/108 [==============================] - 35s 327ms/step - loss: 6.3856e-04 - root_mean_squared_error: 0.0253 - val_loss: 0.0037 - val_root_mean_squared_error: 0.0611\n",
      "Epoch 5/5\n",
      "108/108 [==============================] - ETA: 0s - loss: 5.7695e-04 - root_mean_squared_error: 0.0240INFO:tensorflow:Assets written to: model1/assets\n"
     ]
    },
    {
     "name": "stderr",
     "output_type": "stream",
     "text": [
      "INFO:tensorflow:Assets written to: model1/assets\n"
     ]
    },
    {
     "name": "stdout",
     "output_type": "stream",
     "text": [
      "108/108 [==============================] - 34s 319ms/step - loss: 5.7695e-04 - root_mean_squared_error: 0.0240 - val_loss: 0.0021 - val_root_mean_squared_error: 0.0458\n"
     ]
    },
    {
     "data": {
      "text/plain": [
       "<keras.src.callbacks.History at 0x29f857fd0>"
      ]
     },
     "execution_count": 75,
     "metadata": {},
     "output_type": "execute_result"
    }
   ],
   "source": [
    "model1.fit(x=X_train, y=y_train, validation_data=(X_test, y_test), batch_size=15, epochs=5, callbacks=[cp1])"
   ]
  },
  {
   "cell_type": "code",
   "execution_count": 76,
   "metadata": {},
   "outputs": [
    {
     "name": "stderr",
     "output_type": "stream",
     "text": [
      "WARNING:absl:At this time, the v2.11+ optimizer `tf.keras.optimizers.RestoredOptimizer` runs slowly on M1/M2 Macs, please use the legacy Keras optimizer instead, located at `tf.keras.optimizers.legacy.RestoredOptimizer`.\n",
      "WARNING:absl:At this time, the v2.11+ optimizer `tf.keras.optimizers.Adam` runs slowly on M1/M2 Macs, please use the legacy Keras optimizer instead, located at `tf.keras.optimizers.legacy.Adam`.\n"
     ]
    }
   ],
   "source": [
    "from keras.models import load_model\n",
    "model1 = load_model('model1/')"
   ]
  },
  {
   "cell_type": "code",
   "execution_count": 77,
   "metadata": {},
   "outputs": [
    {
     "name": "stdout",
     "output_type": "stream",
     "text": [
      "13/13 [==============================] - 2s 111ms/step\n",
      "[0.2733384] [0.24089418]\n",
      "[0.2646647] [0.24340319]\n",
      "[0.25769275] [0.25428471]\n",
      "[0.25383303] [0.25190352]\n",
      "[0.2541868] [0.26225867]\n",
      "[0.2567232] [0.25560339]\n",
      "[0.26202953] [0.25055541]\n",
      "[0.26676187] [0.2470021]\n",
      "[0.26910216] [0.2469381]\n",
      "[0.26923132] [0.24457242]\n"
     ]
    }
   ],
   "source": [
    "y_pred = model1.predict(X_test)\n",
    "#y_pred=np.where(y_pred > 0.43, 1,0)\n",
    "for i in range(10):\n",
    "    print(y_pred[i], y_test[i])"
   ]
  },
  {
   "cell_type": "markdown",
   "metadata": {},
   "source": [
    "this graph is the first prediction of the model without using the google trends volume. We can see that the model is not very accurate. The RMSE is 0.024. We will add the google trends volume to see if the prediction improves."
   ]
  },
  {
   "cell_type": "code",
   "execution_count": 81,
   "metadata": {},
   "outputs": [
    {
     "data": {
      "image/png": "[encoded data removed]",
      "text/plain": [
       "<Figure size 1152x576 with 1 Axes>"
      ]
     },
     "metadata": {
      "needs_background": "light"
     },
     "output_type": "display_data"
    },
    {
     "name": "stdout",
     "output_type": "stream",
     "text": [
      "Mean Absolute_error:  31.576845794916153\n",
      "Mean Squared Error:  2.101391088217497\n"
     ]
    }
   ],
   "source": [
    "plt.figure(figsize=(16,8))\n",
    "plt.plot(y_test, color = 'black', label = 'Test')\n",
    "plt.plot(y_pred, color = 'green', label = 'pred')\n",
    "plt.legend()\n",
    "plt.show()\n",
    "\n",
    "\n",
    "mean_absolute_error = np.mean(tf.keras.metrics.mean_absolute_error(y_test, y_pred).numpy())\n",
    "print(\"Mean Absolute_error: \",mean_absolute_error*1000)\n",
    "mean_squared_error = np.mean(tf.keras.metrics.mean_squared_error(y_test, y_pred).numpy())\n",
    "print(\"Mean Squared Error: \",mean_squared_error*1000)\n",
    "\n",
    "\n",
    "\n"
   ]
  },
  {
   "cell_type": "markdown",
   "metadata": {},
   "source": [
    "Now we add the google trends volume hence the input is now 9 features. We will use the same model as before to compare the results. We will use the same parameters as before. We will use the model to predict the test set and we will inverse the scaling to obtain the real values. We will plot the real values and the predicted values to see the accuracy of the model. We will calculate the root mean squared error to see the accuracy of the model."
   ]
  },
  {
   "cell_type": "code",
   "execution_count": 82,
   "metadata": {},
   "outputs": [
    {
     "name": "stdout",
     "output_type": "stream",
     "text": [
      "2042\n",
      "[[[9.95358391e-04 3.96140978e-04 1.19581659e-03 ... 1.92212322e-04\n",
      "   2.07835055e-04 2.00000000e-02]\n",
      "  [8.49612625e-04 2.62364140e-04 1.10362405e-03 ... 1.80263313e-04\n",
      "   1.95035604e-04 1.56000000e-02]\n",
      "  [7.42725316e-04 2.08762847e-04 8.00021562e-04 ... 1.60272386e-04\n",
      "   1.76239756e-04 1.42000000e-02]\n",
      "  ...\n",
      "  [1.19837881e-03 6.27959928e-04 1.54584625e-03 ... 9.16918162e-05\n",
      "   2.99699904e-05 1.00000000e-02]\n",
      "  [1.23318511e-03 8.92309537e-04 1.60343022e-03 ... 1.05438338e-04\n",
      "   3.71820840e-05 8.20000000e-03]\n",
      "  [1.50596596e-03 8.86492898e-04 1.76237419e-03 ... 1.16657251e-04\n",
      "   4.26188105e-05 8.40000000e-03]]\n",
      "\n",
      " [[8.49612625e-04 2.62364140e-04 1.10362405e-03 ... 1.80263313e-04\n",
      "   1.95035604e-04 1.56000000e-02]\n",
      "  [7.42725316e-04 2.08762847e-04 8.00021562e-04 ... 1.60272386e-04\n",
      "   1.76239756e-04 1.42000000e-02]\n",
      "  [4.72412291e-04 2.42757631e-05 8.41368376e-04 ... 1.43956132e-04\n",
      "   1.60134950e-04 1.02000000e-02]\n",
      "  ...\n",
      "  [1.23318511e-03 8.92309537e-04 1.60343022e-03 ... 1.05438338e-04\n",
      "   3.71820840e-05 8.20000000e-03]\n",
      "  [1.50596596e-03 8.86492898e-04 1.76237419e-03 ... 1.16657251e-04\n",
      "   4.26188105e-05 8.40000000e-03]\n",
      "  [1.42368209e-03 1.09549968e-03 1.80460415e-03 ... 1.36831718e-04\n",
      "   5.48191694e-05 9.80000000e-03]]\n",
      "\n",
      " [[7.42725316e-04 2.08762847e-04 8.00021562e-04 ... 1.60272386e-04\n",
      "   1.76239756e-04 1.42000000e-02]\n",
      "  [4.72412291e-04 2.42757631e-05 8.41368376e-04 ... 1.43956132e-04\n",
      "   1.60134950e-04 1.02000000e-02]\n",
      "  [5.77089748e-04 5.86866666e-05 8.97000086e-04 ... 1.28043888e-04\n",
      "   1.44303719e-04 1.04000000e-02]\n",
      "  ...\n",
      "  [1.50596596e-03 8.86492898e-04 1.76237419e-03 ... 1.16657251e-04\n",
      "   4.26188105e-05 8.40000000e-03]\n",
      "  [1.42368209e-03 1.09549968e-03 1.80460415e-03 ... 1.36831718e-04\n",
      "   5.48191694e-05 9.80000000e-03]\n",
      "  [1.72994401e-03 1.46795692e-03 2.07576997e-03 ... 1.63453791e-04\n",
      "   7.19577155e-05 1.84000000e-02]]\n",
      "\n",
      " ...\n",
      "\n",
      " [[6.22572818e-01 6.13966544e-01 6.15271121e-01 ... 7.67832987e-01\n",
      "   7.92524027e-01 2.03000000e-01]\n",
      "  [6.44919067e-01 6.28932034e-01 6.39146392e-01 ... 7.73074125e-01\n",
      "   7.97251218e-01 2.03000000e-01]\n",
      "  [6.61813621e-01 6.79978066e-01 6.61944373e-01 ... 7.79862114e-01\n",
      "   8.03145206e-01 2.46500000e-01]\n",
      "  ...\n",
      "  [8.66426644e-01 8.52757191e-01 8.56541200e-01 ... 9.41825890e-01\n",
      "   9.49768066e-01 2.24400000e-01]\n",
      "  [9.01175983e-01 9.22691966e-01 8.95532188e-01 ... 9.53034744e-01\n",
      "   9.59423531e-01 2.51600000e-01]\n",
      "  [9.66087806e-01 9.77399697e-01 9.47080536e-01 ... 9.63833889e-01\n",
      "   9.68811270e-01 3.36600000e-01]]\n",
      "\n",
      " [[6.44919067e-01 6.28932034e-01 6.39146392e-01 ... 7.73074125e-01\n",
      "   7.97251218e-01 2.03000000e-01]\n",
      "  [6.61813621e-01 6.79978066e-01 6.61944373e-01 ... 7.79862114e-01\n",
      "   8.03145206e-01 2.46500000e-01]\n",
      "  [7.15421212e-01 6.83346374e-01 6.67231444e-01 ... 7.85577927e-01\n",
      "   8.08262675e-01 1.73400000e-01]\n",
      "  ...\n",
      "  [9.01175983e-01 9.22691966e-01 8.95532188e-01 ... 9.53034744e-01\n",
      "   9.59423531e-01 2.51600000e-01]\n",
      "  [9.66087806e-01 9.77399697e-01 9.47080536e-01 ... 9.63833889e-01\n",
      "   9.68811270e-01 3.36600000e-01]\n",
      "  [9.60248003e-01 9.46063396e-01 9.57568960e-01 ... 9.75345183e-01\n",
      "   9.78764356e-01 2.61800000e-01]]\n",
      "\n",
      " [[6.61813621e-01 6.79978066e-01 6.61944373e-01 ... 7.79862114e-01\n",
      "   8.03145206e-01 2.46500000e-01]\n",
      "  [7.15421212e-01 6.83346374e-01 6.67231444e-01 ... 7.85577927e-01\n",
      "   8.08262675e-01 1.73400000e-01]\n",
      "  [6.84775734e-01 6.64620959e-01 6.68181237e-01 ... 7.91634250e-01\n",
      "   8.13650279e-01 1.53000000e-01]\n",
      "  ...\n",
      "  [9.66087806e-01 9.77399697e-01 9.47080536e-01 ... 9.63833889e-01\n",
      "   9.68811270e-01 3.36600000e-01]\n",
      "  [9.60248003e-01 9.46063396e-01 9.57568960e-01 ... 9.75345183e-01\n",
      "   9.78764356e-01 2.61800000e-01]\n",
      "  [9.89750310e-01 9.45422876e-01 9.49456385e-01 ... 9.86944935e-01\n",
      "   9.88821274e-01 2.27800000e-01]]]\n",
      "(2012, 30, 9)\n",
      "[[0.00182615]\n",
      " [0.00167155]\n",
      " [0.00156009]\n",
      " ...\n",
      " [0.9430631 ]\n",
      " [0.99441609]\n",
      " [1.        ]]\n",
      "(2012, 1)\n"
     ]
    }
   ],
   "source": [
    "# multiple feature from data provided to the model\n",
    "X = []\n",
    "\n",
    "print(data_set_scaled.shape[0])\n",
    "for j in range(9):#data_set_scaled[0].size):#2 columns are target not X\n",
    "    X.append([])\n",
    "    for i in range(backcandles, data_set_scaled.shape[0]):#backcandles+2\n",
    "        X[j].append(data_set_scaled[i-backcandles:i, j])\n",
    "\n",
    "#move axis from 0 to position 2\n",
    "X=np.moveaxis(X, [0], [2]) \n",
    "\n",
    "#Erase first elements of y because of backcandles to match X length\n",
    "#del(yi[0:backcandles])\n",
    "#X, yi = np.array(X), np.array(yi)\n",
    "# Choose -1 for last column, classification else -2...\n",
    "X, yi =np.array(X), np.array(data_set_scaled[backcandles:,-1])\n",
    "y=np.reshape(yi,(len(yi),1))\n",
    "#y=sc.fit_transform(yi)\n",
    "#X_train = np.reshape(X_train, (X_train.shape[0], X_train.shape[1], 1))\n",
    "print(X)\n",
    "print(X.shape)\n",
    "print(y)\n",
    "print(y.shape)"
   ]
  },
  {
   "cell_type": "code",
   "execution_count": 83,
   "metadata": {},
   "outputs": [
    {
     "name": "stdout",
     "output_type": "stream",
     "text": [
      "1609\n",
      "(1609, 30, 9)\n",
      "(403, 30, 9)\n",
      "(1609, 1)\n",
      "(403, 1)\n",
      "[[0.00182615]\n",
      " [0.00167155]\n",
      " [0.00156009]\n",
      " ...\n",
      " [0.24611952]\n",
      " [0.24963515]\n",
      " [0.23748284]]\n"
     ]
    }
   ],
   "source": [
    "# split data into train test sets\n",
    "splitlimit = int(len(X)*0.8) ## Split the data into 80% training and 20% testing\n",
    "print(splitlimit) ## Print the split limit to check\n",
    "X_train, X_test = X[:splitlimit], X[splitlimit:] ## Split the data into training and testing\n",
    "y_train, y_test = y[:splitlimit], y[splitlimit:] ## Split the data into training and testing\n",
    "print(X_train.shape) ## Print the shape of the training data\n",
    "print(X_test.shape) ## Print the shape of the testing data\n",
    "print(y_train.shape) ## Print the shape of the training data\n",
    "print(y_test.shape) ## Print the shape of the testing data\n",
    "print(y_train) ## Print the training data"
   ]
  },
  {
   "cell_type": "code",
   "execution_count": 85,
   "metadata": {},
   "outputs": [
    {
     "name": "stderr",
     "output_type": "stream",
     "text": [
      "WARNING:absl:At this time, the v2.11+ optimizer `tf.keras.optimizers.Adam` runs slowly on M1/M2 Macs, please use the legacy Keras optimizer instead, located at `tf.keras.optimizers.legacy.Adam`.\n"
     ]
    },
    {
     "name": "stdout",
     "output_type": "stream",
     "text": [
      "Model: \"model_6\"\n",
      "_________________________________________________________________\n",
      " Layer (type)                Output Shape              Param #   \n",
      "=================================================================\n",
      " lstm_input (InputLayer)     [(None, 30, 9)]           0         \n",
      "                                                                 \n",
      " first_layer (LSTM)          (None, 30, 400)           656000    \n",
      "                                                                 \n",
      " third_layer (LSTM)          (None, 800)               3843200   \n",
      "                                                                 \n",
      " dense_layer (Dense)         (None, 1)                 801       \n",
      "                                                                 \n",
      " output (Activation)         (None, 1)                 0         \n",
      "                                                                 \n",
      "=================================================================\n",
      "Total params: 4500001 (17.17 MB)\n",
      "Trainable params: 4500001 (17.17 MB)\n",
      "Non-trainable params: 0 (0.00 Byte)\n",
      "_________________________________________________________________\n"
     ]
    }
   ],
   "source": [
    "lstm_input = Input(shape=(backcandles, 9), name='lstm_input')\n",
    "# Add the first LSTM layer\n",
    "lstm1 = LSTM(400, return_sequences=True, name='first_layer')(lstm_input)\n",
    "# Add a second LSTM layer\n",
    "lstm2 = LSTM(800, name='third_layer')(lstm1)\n",
    "\n",
    "# Add a Dense layer\n",
    "dense_layer = Dense(1, name='dense_layer')(lstm2)\n",
    "# Add a final activation layer\n",
    "output = Activation('sigmoid', name='output')(dense_layer)\n",
    "\n",
    "# Create the model\n",
    "model1_GT = Model(inputs=lstm_input, outputs=output)\n",
    "adam = optimizers.Adam()\n",
    "\n",
    "model1_GT.summary()"
   ]
  },
  {
   "cell_type": "code",
   "execution_count": 86,
   "metadata": {},
   "outputs": [],
   "source": [
    "cp1_GT = ModelCheckpoint('model1GT/', save_best_only=True)\n",
    "model1_GT.compile(loss=MeanSquaredError(), optimizer=adam, metrics=[RootMeanSquaredError()])\n"
   ]
  },
  {
   "cell_type": "code",
   "execution_count": 92,
   "metadata": {},
   "outputs": [
    {
     "name": "stdout",
     "output_type": "stream",
     "text": [
      "Epoch 1/5\n",
      "108/108 [==============================] - 32s 270ms/step - loss: 9.7438e-04 - root_mean_squared_error: 0.0312 - val_loss: 0.0072 - val_root_mean_squared_error: 0.0848\n",
      "Epoch 2/5\n",
      "108/108 [==============================] - 28s 264ms/step - loss: 5.9044e-04 - root_mean_squared_error: 0.0243 - val_loss: 0.0085 - val_root_mean_squared_error: 0.0922\n",
      "Epoch 3/5\n",
      "108/108 [==============================] - ETA: 0s - loss: 4.8030e-04 - root_mean_squared_error: 0.0219INFO:tensorflow:Assets written to: model1GT/assets\n"
     ]
    },
    {
     "name": "stderr",
     "output_type": "stream",
     "text": [
      "INFO:tensorflow:Assets written to: model1GT/assets\n"
     ]
    },
    {
     "name": "stdout",
     "output_type": "stream",
     "text": [
      "108/108 [==============================] - 32s 293ms/step - loss: 4.8030e-04 - root_mean_squared_error: 0.0219 - val_loss: 0.0034 - val_root_mean_squared_error: 0.0586\n",
      "Epoch 4/5\n",
      "108/108 [==============================] - 29s 271ms/step - loss: 4.0935e-04 - root_mean_squared_error: 0.0202 - val_loss: 0.0036 - val_root_mean_squared_error: 0.0603\n",
      "Epoch 5/5\n",
      "108/108 [==============================] - ETA: 0s - loss: 3.5726e-04 - root_mean_squared_error: 0.0189INFO:tensorflow:Assets written to: model1GT/assets\n"
     ]
    },
    {
     "name": "stderr",
     "output_type": "stream",
     "text": [
      "INFO:tensorflow:Assets written to: model1GT/assets\n"
     ]
    },
    {
     "name": "stdout",
     "output_type": "stream",
     "text": [
      "108/108 [==============================] - 35s 323ms/step - loss: 3.5726e-04 - root_mean_squared_error: 0.0189 - val_loss: 0.0034 - val_root_mean_squared_error: 0.0584\n"
     ]
    },
    {
     "data": {
      "text/plain": [
       "<keras.src.callbacks.History at 0x2fb1370d0>"
      ]
     },
     "execution_count": 92,
     "metadata": {},
     "output_type": "execute_result"
    }
   ],
   "source": [
    "model1_GT.fit(x=X_train, y=y_train, validation_data=(X_test, y_test), batch_size=15, epochs=5, callbacks=[cp1_GT])"
   ]
  },
  {
   "cell_type": "code",
   "execution_count": 93,
   "metadata": {},
   "outputs": [
    {
     "name": "stderr",
     "output_type": "stream",
     "text": [
      "WARNING:absl:At this time, the v2.11+ optimizer `tf.keras.optimizers.RestoredOptimizer` runs slowly on M1/M2 Macs, please use the legacy Keras optimizer instead, located at `tf.keras.optimizers.legacy.RestoredOptimizer`.\n",
      "WARNING:absl:At this time, the v2.11+ optimizer `tf.keras.optimizers.Adam` runs slowly on M1/M2 Macs, please use the legacy Keras optimizer instead, located at `tf.keras.optimizers.legacy.Adam`.\n"
     ]
    }
   ],
   "source": [
    "model1_GT = load_model('model1GT/')"
   ]
  },
  {
   "cell_type": "code",
   "execution_count": 94,
   "metadata": {},
   "outputs": [
    {
     "name": "stdout",
     "output_type": "stream",
     "text": [
      "13/13 [==============================] - 2s 101ms/step\n",
      "[0.24999124] [0.24089418]\n",
      "[0.2469325] [0.24340319]\n",
      "[0.24551624] [0.25428471]\n",
      "[0.24812679] [0.25190352]\n",
      "[0.2569311] [0.26225867]\n",
      "[0.26208565] [0.25560339]\n",
      "[0.268178] [0.25055541]\n",
      "[0.2671473] [0.2470021]\n",
      "[0.2599507] [0.2469381]\n",
      "[0.25277582] [0.24457242]\n"
     ]
    }
   ],
   "source": [
    "y_pred = model1_GT.predict(X_test)\n",
    "#y_pred=np.where(y_pred > 0.43, 1,0)\n",
    "for i in range(10):\n",
    "    print(y_pred[i], y_test[i])"
   ]
  },
  {
   "cell_type": "markdown",
   "metadata": {},
   "source": [
    "This graph is the second prediction of the model using the google trends volume. We can see that the model is more accurate than the first one(RSME 0.024 -> 0.0189). Even the accuracy has improved by  we can not draw the conclusion that there is a significant improvement. However, the initial idea is still valid. Now we can add the reddit sentiment analysis to see if the prediction improves."
   ]
  },
  {
   "cell_type": "code",
   "execution_count": 95,
   "metadata": {},
   "outputs": [
    {
     "data": {
      "image/png": "[encoded data removed]",
      "text/plain": [
       "<Figure size 1152x576 with 1 Axes>"
      ]
     },
     "metadata": {
      "needs_background": "light"
     },
     "output_type": "display_data"
    },
    {
     "name": "stdout",
     "output_type": "stream",
     "text": [
      "Mean Absolute_error:  28.58257293701172\n",
      "Mean Squared Error:  3.4152178559452295\n"
     ]
    }
   ],
   "source": [
    "plt.figure(figsize=(16,8))\n",
    "plt.plot(y_test, color = 'black', label = 'Test')\n",
    "plt.plot(y_pred, color = 'green', label = 'pred')\n",
    "plt.legend()\n",
    "plt.show()\n",
    "\n",
    "\n",
    "mean_absolute_error = np.mean(tf.keras.metrics.mean_absolute_error(y_test, y_pred).numpy())\n",
    "print(\"Mean Absolute_error: \",mean_absolute_error*1000)\n",
    "mean_squared_error = np.mean(tf.keras.metrics.mean_squared_error(y_test, y_pred).numpy())\n",
    "print(\"Mean Squared Error: \",mean_squared_error*1000)\n",
    "\n",
    "\n",
    "\n",
    "\n",
    "\n"
   ]
  },
  {
   "cell_type": "markdown",
   "metadata": {},
   "source": [
    "This graph is still the second prediction of the model using the google trends volume. It is to observe the prediction compared the test and train data set too. "
   ]
  },
  {
   "cell_type": "code",
   "execution_count": 96,
   "metadata": {},
   "outputs": [
    {
     "data": {
      "image/png": "[encoded data removed]",
      "text/plain": [
       "<Figure size 1152x576 with 1 Axes>"
      ]
     },
     "metadata": {
      "needs_background": "light"
     },
     "output_type": "display_data"
    }
   ],
   "source": [
    "import matplotlib.pyplot as plt\n",
    "\n",
    "start_point = len(y_train)  # Start of 'pred' segment\n",
    "\n",
    "plt.figure(figsize=(16, 8))\n",
    "\n",
    "# Plot the 'Train' segment in red\n",
    "plt.plot(y_train, color='black', label='Train')\n",
    "\n",
    "# Plot the 'Test' segment in black\n",
    "plt.plot(range(start_point, start_point + len(y_pred)), y_test, color='red', label='Test')\n",
    "\n",
    "# Plot the 'pred' segment starting from 'start_point' in green\n",
    "plt.plot(range(start_point, start_point + len(y_pred)), y_pred, color='green', label='pred')\n",
    "\n",
    "plt.legend()\n",
    "plt.show()\n"
   ]
  }
 ],
 "metadata": {
  "kernelspec": {
   "display_name": "Python 3",
   "language": "python",
   "name": "python3"
  },
  "language_info": {
   "codemirror_mode": {
    "name": "ipython",
    "version": 3
   },
   "file_extension": ".py",
   "mimetype": "text/x-python",
   "name": "python",
   "nbconvert_exporter": "python",
   "pygments_lexer": "ipython3",
   "version": "3.10.0"
  },
  "orig_nbformat": 4
 },
 "nbformat": 4,
 "nbformat_minor": 2
}
