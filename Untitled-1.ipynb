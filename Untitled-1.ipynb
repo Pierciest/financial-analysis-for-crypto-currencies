{
 "cells": [
  {
   "cell_type": "code",
   "execution_count": 2,
   "metadata": {},
   "outputs": [
    {
     "name": "stderr",
     "output_type": "stream",
     "text": [
      "/var/folders/m4/3q70nsbn5rxc245sspjv5lgr0000gn/T/ipykernel_36747/2319320970.py:11: MatplotlibDeprecationWarning: The seaborn styles shipped by Matplotlib are deprecated since 3.6, as they no longer correspond to the styles shipped by seaborn. However, they will remain available as 'seaborn-v0_8-<style>'. Alternatively, directly use the seaborn API instead.\n",
      "  plt.style.use('seaborn-darkgrid')\n"
     ]
    }
   ],
   "source": [
    "# !pip install pytrends\n",
    "import numpy as np\n",
    "import matplotlib.pyplot as plt\n",
    "from datetime import date, datetime, timedelta\n",
    "from pytrends.request import TrendReq\n",
    "import time\n",
    "import pandas as pd\n",
    "import matplotlib\n",
    "import pytrends\n",
    "\n",
    "plt.style.use('seaborn-darkgrid')\n",
    "matplotlib.rcParams['font.family'] = ['Heiti TC']\n",
    "def rmax(maxrow: int=50):\n",
    "    pd.set_option('display.max_rows', maxrow)\n",
    "\n",
    "def cmax(maxcol: int=50):\n",
    "    pd.set_option('display.max_columns', maxcol)"
   ]
  },
  {
   "cell_type": "code",
   "execution_count": 3,
   "metadata": {},
   "outputs": [],
   "source": [
    "pytrend = TrendReq(hl='en-US')\n",
    "keyword = 'brexit'\n",
    "start = '2016-01-01'\n",
    "end = '2019-11-23'\n",
    "geo=''\n",
    "cat=0\n",
    "gprop=''"
   ]
  },
  {
   "cell_type": "code",
   "execution_count": null,
   "metadata": {},
   "outputs": [],
   "source": [
    "overlapping = gtrend.get_daily_trend(pytrend, keyword, start, end, geo=geo, cat=cat, gprop=gprop, verbose=False)\n"
   ]
  }
 ],
 "metadata": {
  "kernelspec": {
   "display_name": "Python 3",
   "language": "python",
   "name": "python3"
  },
  "language_info": {
   "codemirror_mode": {
    "name": "ipython",
    "version": 3
   },
   "file_extension": ".py",
   "mimetype": "text/x-python",
   "name": "python",
   "nbconvert_exporter": "python",
   "pygments_lexer": "ipython3",
   "version": "3.10.0"
  }
 },
 "nbformat": 4,
 "nbformat_minor": 2
}
